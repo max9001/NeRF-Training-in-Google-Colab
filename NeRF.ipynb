{
  "nbformat": 4,
  "nbformat_minor": 0,
  "metadata": {
    "colab": {
      "provenance": [],
      "gpuType": "T4"
    },
    "kernelspec": {
      "name": "python3",
      "display_name": "Python 3"
    },
    "language_info": {
      "name": "python"
    },
    "accelerator": "GPU"
  },
  "cells": [
    {
      "cell_type": "markdown",
      "source": [
        "# References\n",
        "\n",
        "[NeRF Benchmark Datasets](http://cseweb.ucsd.edu/~viscomp/projects/LF/papers/ECCV20/nerf/nerf_example_data.zip)\n",
        "\n",
        "[NeRF Pytorch Implementation](https://github.com/yenchenlin/nerf-pytorch)\n",
        "\n",
        "[Original COLMAP Implementation](https://github.com/colmap/colmap)\n",
        "\n",
        "[Google Colab COLMAP Implementation](https://github.com/Abbsalehi/colmap)\n",
        "\n",
        "[LLFF Pose Generator](https://github.com/Fyusion/LLFF)"
      ],
      "metadata": {
        "id": "cN4DOrVbQj4a"
      }
    },
    {
      "cell_type": "markdown",
      "source": [
        "---"
      ],
      "metadata": {
        "id": "6Zqz_hqHoDwV"
      }
    },
    {
      "cell_type": "markdown",
      "source": [
        "# 1. Data Preparation: Benchmark or Custom Images\n",
        "\n",
        "This section guides you through setting up your image data. You can either start with a provided benchmark dataset for quick testing or use your own captured images.\n",
        "\n",
        "---\n",
        "\n",
        "## Option 1: Using the Fern Benchmark Dataset (Recommended for First-Time Users)\n",
        "\n",
        "This option allows you to quickly test the notebook with a pre-processed, downsampled dataset.\n",
        "\n",
        "**Instructions:**\n",
        "\n",
        "1.  **Download Benchmark Data:**\n",
        "    *   Download the NeRF example data from: [http://cseweb.ucsd.edu/~viscomp/projects/LF/papers/ECCV20/nerf/nerf_example_data.zip](http://cseweb.ucsd.edu/~viscomp/projects/LF/papers/ECCV20/nerf/nerf_example_data.zip)\n",
        "\n",
        "2.  **Extract and Place `fern` Folder:**\n",
        "    *   Extract the downloaded ZIP file.\n",
        "    *   Locate the `fern` folder within the `nerf_llff_data` folder.\n",
        "    *   Move this `fern` folder into your Google Drive at the following path:\n",
        "        `drive/My Drive/NeRF-Training-in-Google-Colab/nerf_pytorch/data/`\n",
        "\n",
        "3.  **Prepare the `fern` Dataset:**\n",
        "    *   Navigate into the `drive/My Drive/NeRF-Training-in-Google-Colab/nerf_pytorch/data/fern/` folder.\n",
        "    *   Delete all files and folders **except** for the `images_4` folder and the `sparse` folder.\n",
        "    *   Ensure the `sparse` folder is **empty**. If it exists and contains files, delete all files inside it.\n",
        "    *   Rename the `images_4` folder to `images`.\n",
        "        *   *Note: We use `images_4` (which are images downsampled by a factor of 4) because the original full-resolution images can be too large for timely processing in a free Google Colab session.*\n",
        "\n",
        "    *After these steps, your `fern` directory should look like this:*\n",
        "    ```\n",
        "    NeRF-Training-in-Google-Colab/\n",
        "    └── nerf_pytorch/\n",
        "        └── data/\n",
        "            └── fern/\n",
        "                ├── images/       \n",
        "                │   ├── image000.png\n",
        "                │   ├── image001.png\n",
        "                │   └── ...\n",
        "                └── sparse/       (should be an empty folder)\n",
        "    ```\n",
        "\n",
        "---\n",
        "\n",
        "## Option 2: Using Your Own Custom Images\n",
        "\n",
        "If you've successfully run the benchmark or wish to use your own data:\n",
        "\n",
        "**Instructions:**\n",
        "\n",
        "1.  **Image Capture:**\n",
        "    *   Acquire approximately 20-40 photographs of your target object.\n",
        "    *   Ensure consistent and adequate lighting conditions.\n",
        "    *   Vary viewpoints around the object, maintaining good overlap between images.\n",
        "    *   Convert images to `.png` format.\n",
        "\n",
        "2.  **Directory Organization:**\n",
        "    *   Create a main folder for your subject (e.g., `my_truck`).\n",
        "    *   Inside this subject folder, create a subfolder named `images`.\n",
        "    *   Place all captured photographs into this `images` subfolder.\n",
        "    *   **Crucially, create an empty subfolder named `sparse` inside your subject folder.** COLMAP will write its output here.\n",
        "    *   Move your main subject folder (e.g., `my_truck`) into your Google Drive at:\n",
        "        `drive/My Drive/NeRF-Training-in-Google-Colab/nerf_pytorch/data/`\n",
        "\n",
        "    *Expected Structure for custom data:*\n",
        "    ```\n",
        "    NeRF-Training-in-Google-Colab/\n",
        "    └── nerf_pytorch/\n",
        "        └── data/\n",
        "            └── your_subject_name/\n",
        "                ├── images/\n",
        "                │   ├── image001.png  \n",
        "                │   ├── image002.png\n",
        "                │   └── ...\n",
        "                └── sparse/           (should be an empty folder)\n",
        "    ```\n",
        "\n",
        "---\n",
        "\n",
        "## Configure `basedir` Path\n",
        "\n",
        "The `basedir` variable in the next code cell tells the notebook where to find your image data.\n",
        "\n",
        "*   **Set `basedir` to the path of your chosen subject's main folder** (e.g., `fern` or `my_truck`).\n",
        "*   **Crucially, do not include `/images` or `/sparse` in the `basedir` path itself.**"
      ],
      "metadata": {
        "id": "DeVb0iGzoFWq"
      }
    },
    {
      "cell_type": "code",
      "source": [
        "basedir = \"/content/drive/My Drive/NeRF-Training-in-Google-Colab/nerf_pytorch/data/fern\""
      ],
      "metadata": {
        "id": "q5hsR16zonOQ"
      },
      "execution_count": 1,
      "outputs": []
    },
    {
      "cell_type": "markdown",
      "source": [
        "---"
      ],
      "metadata": {
        "id": "cqeLXzTArNVc"
      }
    },
    {
      "cell_type": "markdown",
      "source": [
        "# 2. Camera Pose Estimation with COLMAP\n",
        "\n",
        "This section utilizes COLMAP, a Structure-from-Motion (SfM) and Multi-View Stereo (MVS) software, to estimate the camera poses (position and orientation) for each image in your dataset. These poses are essential for NeRF training.\n",
        "\n",
        "**Note on COLMAP in Google Colab:**\n",
        "\n",
        "Standard COLMAP installations include GUI components that are incompatible with the Google Colab environment. To address this, we use a specialized build of COLMAP that excludes these UI elements, enabling its use within this notebook.\n",
        "\n",
        "Special thanks to [Abbas Salehi](https://github.com/Abbsalehi) for providing the necessary modifications to build COLMAP from source without GUI dependencies."
      ],
      "metadata": {
        "id": "vj7p950OrOYF"
      }
    },
    {
      "cell_type": "markdown",
      "source": [
        "### Install the Required Packages"
      ],
      "metadata": {
        "id": "epzOPHJutCQz"
      }
    },
    {
      "cell_type": "code",
      "source": [
        "!sudo apt-get install -y git\n",
        "!sudo apt-get install -y cmake\n",
        "!sudo apt-get install -y ninja-build\n",
        "!sudo apt-get install -y build-essential\n",
        "!sudo apt-get install -y libboost-program-options-dev\n",
        "!sudo apt-get install -y libboost-filesystem-dev\n",
        "!sudo apt-get install -y libboost-graph-dev\n",
        "!sudo apt-get install -y libboost-system-dev\n",
        "!sudo apt-get install -y libeigen3-dev\n",
        "!sudo apt-get install -y libflann-dev\n",
        "!sudo apt-get install -y libfreeimage-dev\n",
        "!sudo apt-get install -y libmetis-dev\n",
        "!sudo apt-get install -y libgoogle-glog-dev\n",
        "!sudo apt-get install -y libgtest-dev\n",
        "!sudo apt-get install -y libsqlite3-dev\n",
        "!sudo apt-get install -y libglew-dev\n",
        "!sudo apt-get install -y qtbase5-dev\n",
        "!sudo apt-get install -y libqt5opengl5-dev\n",
        "!sudo apt-get install -y libcgal-dev\n",
        "!sudo apt-get install -y libceres-dev"
      ],
      "metadata": {
        "id": "CdEhLtmysHSt",
        "colab": {
          "base_uri": "https://localhost:8080/"
        },
        "outputId": "a47c18fd-043c-4d7a-de1e-4146d279df9e"
      },
      "execution_count": 2,
      "outputs": [
        {
          "output_type": "stream",
          "name": "stdout",
          "text": [
            "Reading package lists... Done\n",
            "Building dependency tree... Done\n",
            "Reading state information... Done\n",
            "git is already the newest version (1:2.34.1-1ubuntu1.12).\n",
            "0 upgraded, 0 newly installed, 0 to remove and 34 not upgraded.\n",
            "Reading package lists... Done\n",
            "Building dependency tree... Done\n",
            "Reading state information... Done\n",
            "cmake is already the newest version (3.22.1-1ubuntu1.22.04.2).\n",
            "0 upgraded, 0 newly installed, 0 to remove and 34 not upgraded.\n",
            "Reading package lists... Done\n",
            "Building dependency tree... Done\n",
            "Reading state information... Done\n",
            "The following NEW packages will be installed:\n",
            "  ninja-build\n",
            "0 upgraded, 1 newly installed, 0 to remove and 34 not upgraded.\n",
            "Need to get 111 kB of archives.\n",
            "After this operation, 358 kB of additional disk space will be used.\n",
            "Get:1 http://archive.ubuntu.com/ubuntu jammy/universe amd64 ninja-build amd64 1.10.1-1 [111 kB]\n",
            "Fetched 111 kB in 1s (95.8 kB/s)\n",
            "debconf: unable to initialize frontend: Dialog\n",
            "debconf: (No usable dialog-like program is installed, so the dialog based frontend cannot be used. at /usr/share/perl5/Debconf/FrontEnd/Dialog.pm line 78, <> line 1.)\n",
            "debconf: falling back to frontend: Readline\n",
            "debconf: unable to initialize frontend: Readline\n",
            "debconf: (This frontend requires a controlling tty.)\n",
            "debconf: falling back to frontend: Teletype\n",
            "dpkg-preconfigure: unable to re-open stdin: \n",
            "Selecting previously unselected package ninja-build.\n",
            "(Reading database ... 126102 files and directories currently installed.)\n",
            "Preparing to unpack .../ninja-build_1.10.1-1_amd64.deb ...\n",
            "Unpacking ninja-build (1.10.1-1) ...\n",
            "Setting up ninja-build (1.10.1-1) ...\n",
            "Processing triggers for man-db (2.10.2-1) ...\n",
            "Reading package lists... Done\n",
            "Building dependency tree... Done\n",
            "Reading state information... Done\n",
            "build-essential is already the newest version (12.9ubuntu3).\n",
            "0 upgraded, 0 newly installed, 0 to remove and 34 not upgraded.\n",
            "Reading package lists... Done\n",
            "Building dependency tree... Done\n",
            "Reading state information... Done\n",
            "libboost-program-options-dev is already the newest version (1.74.0.3ubuntu7).\n",
            "libboost-program-options-dev set to manually installed.\n",
            "0 upgraded, 0 newly installed, 0 to remove and 34 not upgraded.\n",
            "Reading package lists... Done\n",
            "Building dependency tree... Done\n",
            "Reading state information... Done\n",
            "libboost-filesystem-dev is already the newest version (1.74.0.3ubuntu7).\n",
            "libboost-filesystem-dev set to manually installed.\n",
            "0 upgraded, 0 newly installed, 0 to remove and 34 not upgraded.\n",
            "Reading package lists... Done\n",
            "Building dependency tree... Done\n",
            "Reading state information... Done\n",
            "libboost-graph-dev is already the newest version (1.74.0.3ubuntu7).\n",
            "libboost-graph-dev set to manually installed.\n",
            "0 upgraded, 0 newly installed, 0 to remove and 34 not upgraded.\n",
            "Reading package lists... Done\n",
            "Building dependency tree... Done\n",
            "Reading state information... Done\n",
            "libboost-system-dev is already the newest version (1.74.0.3ubuntu7).\n",
            "libboost-system-dev set to manually installed.\n",
            "0 upgraded, 0 newly installed, 0 to remove and 34 not upgraded.\n",
            "Reading package lists... Done\n",
            "Building dependency tree... Done\n",
            "Reading state information... Done\n",
            "Suggested packages:\n",
            "  libeigen3-doc libmpfrc++-dev\n",
            "The following NEW packages will be installed:\n",
            "  libeigen3-dev\n",
            "0 upgraded, 1 newly installed, 0 to remove and 34 not upgraded.\n",
            "Need to get 1,056 kB of archives.\n",
            "After this operation, 9,081 kB of additional disk space will be used.\n",
            "Get:1 http://archive.ubuntu.com/ubuntu jammy/universe amd64 libeigen3-dev all 3.4.0-2ubuntu2 [1,056 kB]\n",
            "Fetched 1,056 kB in 2s (568 kB/s)\n",
            "debconf: unable to initialize frontend: Dialog\n",
            "debconf: (No usable dialog-like program is installed, so the dialog based frontend cannot be used. at /usr/share/perl5/Debconf/FrontEnd/Dialog.pm line 78, <> line 1.)\n",
            "debconf: falling back to frontend: Readline\n",
            "debconf: unable to initialize frontend: Readline\n",
            "debconf: (This frontend requires a controlling tty.)\n",
            "debconf: falling back to frontend: Teletype\n",
            "dpkg-preconfigure: unable to re-open stdin: \n",
            "Selecting previously unselected package libeigen3-dev.\n",
            "(Reading database ... 126114 files and directories currently installed.)\n",
            "Preparing to unpack .../libeigen3-dev_3.4.0-2ubuntu2_all.deb ...\n",
            "Unpacking libeigen3-dev (3.4.0-2ubuntu2) ...\n",
            "Setting up libeigen3-dev (3.4.0-2ubuntu2) ...\n",
            "Reading package lists... Done\n",
            "Building dependency tree... Done\n",
            "Reading state information... Done\n",
            "The following additional packages will be installed:\n",
            "  libflann1.9 libhdf5-mpi-dev libhdf5-openmpi-103-1 libhdf5-openmpi-cpp-103-1\n",
            "  libhdf5-openmpi-dev libhdf5-openmpi-fortran-102 libhdf5-openmpi-hl-100\n",
            "  libhdf5-openmpi-hl-cpp-100 libhdf5-openmpi-hl-fortran-100\n",
            "Suggested packages:\n",
            "  libhdf5-doc\n",
            "The following NEW packages will be installed:\n",
            "  libflann-dev libflann1.9 libhdf5-mpi-dev libhdf5-openmpi-103-1\n",
            "  libhdf5-openmpi-cpp-103-1 libhdf5-openmpi-dev libhdf5-openmpi-fortran-102\n",
            "  libhdf5-openmpi-hl-100 libhdf5-openmpi-hl-cpp-100\n",
            "  libhdf5-openmpi-hl-fortran-100\n",
            "0 upgraded, 10 newly installed, 0 to remove and 34 not upgraded.\n",
            "Need to get 5,962 kB of archives.\n",
            "After this operation, 34.9 MB of additional disk space will be used.\n",
            "Get:1 http://archive.ubuntu.com/ubuntu jammy/universe amd64 libflann1.9 amd64 1.9.1+dfsg-11 [742 kB]\n",
            "Get:2 http://archive.ubuntu.com/ubuntu jammy/universe amd64 libhdf5-openmpi-103-1 amd64 1.10.7+repack-4ubuntu2 [1,344 kB]\n",
            "Get:3 http://archive.ubuntu.com/ubuntu jammy/universe amd64 libhdf5-openmpi-fortran-102 amd64 1.10.7+repack-4ubuntu2 [90.6 kB]\n",
            "Get:4 http://archive.ubuntu.com/ubuntu jammy/universe amd64 libhdf5-openmpi-hl-100 amd64 1.10.7+repack-4ubuntu2 [59.2 kB]\n",
            "Get:5 http://archive.ubuntu.com/ubuntu jammy/universe amd64 libhdf5-openmpi-hl-fortran-100 amd64 1.10.7+repack-4ubuntu2 [33.5 kB]\n",
            "Get:6 http://archive.ubuntu.com/ubuntu jammy/universe amd64 libhdf5-openmpi-cpp-103-1 amd64 1.10.7+repack-4ubuntu2 [129 kB]\n",
            "Get:7 http://archive.ubuntu.com/ubuntu jammy/universe amd64 libhdf5-openmpi-hl-cpp-100 amd64 1.10.7+repack-4ubuntu2 [10.7 kB]\n",
            "Get:8 http://archive.ubuntu.com/ubuntu jammy/universe amd64 libhdf5-openmpi-dev amd64 1.10.7+repack-4ubuntu2 [2,750 kB]\n",
            "Get:9 http://archive.ubuntu.com/ubuntu jammy/universe amd64 libhdf5-mpi-dev amd64 1.10.7+repack-4ubuntu2 [4,610 B]\n",
            "Get:10 http://archive.ubuntu.com/ubuntu jammy/universe amd64 libflann-dev amd64 1.9.1+dfsg-11 [798 kB]\n",
            "Fetched 5,962 kB in 3s (2,050 kB/s)\n",
            "debconf: unable to initialize frontend: Dialog\n",
            "debconf: (No usable dialog-like program is installed, so the dialog based frontend cannot be used. at /usr/share/perl5/Debconf/FrontEnd/Dialog.pm line 78, <> line 10.)\n",
            "debconf: falling back to frontend: Readline\n",
            "debconf: unable to initialize frontend: Readline\n",
            "debconf: (This frontend requires a controlling tty.)\n",
            "debconf: falling back to frontend: Teletype\n",
            "dpkg-preconfigure: unable to re-open stdin: \n",
            "Selecting previously unselected package libflann1.9:amd64.\n",
            "(Reading database ... 126735 files and directories currently installed.)\n",
            "Preparing to unpack .../0-libflann1.9_1.9.1+dfsg-11_amd64.deb ...\n",
            "Unpacking libflann1.9:amd64 (1.9.1+dfsg-11) ...\n",
            "Selecting previously unselected package libhdf5-openmpi-103-1:amd64.\n",
            "Preparing to unpack .../1-libhdf5-openmpi-103-1_1.10.7+repack-4ubuntu2_amd64.deb ...\n",
            "Unpacking libhdf5-openmpi-103-1:amd64 (1.10.7+repack-4ubuntu2) ...\n",
            "Selecting previously unselected package libhdf5-openmpi-fortran-102:amd64.\n",
            "Preparing to unpack .../2-libhdf5-openmpi-fortran-102_1.10.7+repack-4ubuntu2_amd64.deb ...\n",
            "Unpacking libhdf5-openmpi-fortran-102:amd64 (1.10.7+repack-4ubuntu2) ...\n",
            "Selecting previously unselected package libhdf5-openmpi-hl-100:amd64.\n",
            "Preparing to unpack .../3-libhdf5-openmpi-hl-100_1.10.7+repack-4ubuntu2_amd64.deb ...\n",
            "Unpacking libhdf5-openmpi-hl-100:amd64 (1.10.7+repack-4ubuntu2) ...\n",
            "Selecting previously unselected package libhdf5-openmpi-hl-fortran-100:amd64.\n",
            "Preparing to unpack .../4-libhdf5-openmpi-hl-fortran-100_1.10.7+repack-4ubuntu2_amd64.deb ...\n",
            "Unpacking libhdf5-openmpi-hl-fortran-100:amd64 (1.10.7+repack-4ubuntu2) ...\n",
            "Selecting previously unselected package libhdf5-openmpi-cpp-103-1:amd64.\n",
            "Preparing to unpack .../5-libhdf5-openmpi-cpp-103-1_1.10.7+repack-4ubuntu2_amd64.deb ...\n",
            "Unpacking libhdf5-openmpi-cpp-103-1:amd64 (1.10.7+repack-4ubuntu2) ...\n",
            "Selecting previously unselected package libhdf5-openmpi-hl-cpp-100:amd64.\n",
            "Preparing to unpack .../6-libhdf5-openmpi-hl-cpp-100_1.10.7+repack-4ubuntu2_amd64.deb ...\n",
            "Unpacking libhdf5-openmpi-hl-cpp-100:amd64 (1.10.7+repack-4ubuntu2) ...\n",
            "Selecting previously unselected package libhdf5-openmpi-dev.\n",
            "Preparing to unpack .../7-libhdf5-openmpi-dev_1.10.7+repack-4ubuntu2_amd64.deb ...\n",
            "Unpacking libhdf5-openmpi-dev (1.10.7+repack-4ubuntu2) ...\n",
            "Selecting previously unselected package libhdf5-mpi-dev.\n",
            "Preparing to unpack .../8-libhdf5-mpi-dev_1.10.7+repack-4ubuntu2_amd64.deb ...\n",
            "Unpacking libhdf5-mpi-dev (1.10.7+repack-4ubuntu2) ...\n",
            "Selecting previously unselected package libflann-dev:amd64.\n",
            "Preparing to unpack .../9-libflann-dev_1.9.1+dfsg-11_amd64.deb ...\n",
            "Unpacking libflann-dev:amd64 (1.9.1+dfsg-11) ...\n",
            "Setting up libflann1.9:amd64 (1.9.1+dfsg-11) ...\n",
            "Setting up libhdf5-openmpi-103-1:amd64 (1.10.7+repack-4ubuntu2) ...\n",
            "Setting up libhdf5-openmpi-fortran-102:amd64 (1.10.7+repack-4ubuntu2) ...\n",
            "Setting up libhdf5-openmpi-hl-100:amd64 (1.10.7+repack-4ubuntu2) ...\n",
            "Setting up libhdf5-openmpi-cpp-103-1:amd64 (1.10.7+repack-4ubuntu2) ...\n",
            "Setting up libhdf5-openmpi-hl-cpp-100:amd64 (1.10.7+repack-4ubuntu2) ...\n",
            "Setting up libhdf5-openmpi-hl-fortran-100:amd64 (1.10.7+repack-4ubuntu2) ...\n",
            "Setting up libhdf5-openmpi-dev (1.10.7+repack-4ubuntu2) ...\n",
            "update-alternatives: using /usr/bin/h5pcc.openmpi to provide /usr/bin/h5pcc (h5pcc) in auto mode\n",
            "update-alternatives: using /usr/lib/x86_64-linux-gnu/pkgconfig/hdf5-openmpi.pc to provide /usr/lib/x86_64-linux-gnu/pkgconfig/hdf5.pc (hdf5.pc) in auto mode\n",
            "update-alternatives: updating alternative /usr/bin/mpicc.openmpi because link group mpi has changed slave links\n",
            "update-alternatives: using /usr/lib/x86_64-linux-gnu/pkgconfig/hdf5-mpi.pc to provide /usr/lib/x86_64-linux-gnu/pkgconfig/hdf5.pc (hdf5.pc) in auto mode\n",
            "Setting up libhdf5-mpi-dev (1.10.7+repack-4ubuntu2) ...\n",
            "Setting up libflann-dev:amd64 (1.9.1+dfsg-11) ...\n",
            "Processing triggers for libc-bin (2.35-0ubuntu3.8) ...\n",
            "/sbin/ldconfig.real: /usr/local/lib/libtbbmalloc.so.2 is not a symbolic link\n",
            "\n",
            "/sbin/ldconfig.real: /usr/local/lib/libtcm.so.1 is not a symbolic link\n",
            "\n",
            "/sbin/ldconfig.real: /usr/local/lib/libur_loader.so.0 is not a symbolic link\n",
            "\n",
            "/sbin/ldconfig.real: /usr/local/lib/libtbbbind_2_5.so.3 is not a symbolic link\n",
            "\n",
            "/sbin/ldconfig.real: /usr/local/lib/libumf.so.0 is not a symbolic link\n",
            "\n",
            "/sbin/ldconfig.real: /usr/local/lib/libtbbmalloc_proxy.so.2 is not a symbolic link\n",
            "\n",
            "/sbin/ldconfig.real: /usr/local/lib/libtbbbind_2_0.so.3 is not a symbolic link\n",
            "\n",
            "/sbin/ldconfig.real: /usr/local/lib/libhwloc.so.15 is not a symbolic link\n",
            "\n",
            "/sbin/ldconfig.real: /usr/local/lib/libur_adapter_level_zero.so.0 is not a symbolic link\n",
            "\n",
            "/sbin/ldconfig.real: /usr/local/lib/libtbb.so.12 is not a symbolic link\n",
            "\n",
            "/sbin/ldconfig.real: /usr/local/lib/libtbbbind.so.3 is not a symbolic link\n",
            "\n",
            "/sbin/ldconfig.real: /usr/local/lib/libur_adapter_opencl.so.0 is not a symbolic link\n",
            "\n",
            "/sbin/ldconfig.real: /usr/local/lib/libtcm_debug.so.1 is not a symbolic link\n",
            "\n",
            "Processing triggers for man-db (2.10.2-1) ...\n",
            "Reading package lists... Done\n",
            "Building dependency tree... Done\n",
            "Reading state information... Done\n",
            "The following additional packages will be installed:\n",
            "  libfreeimage3 libjxr0 libraw20\n",
            "The following NEW packages will be installed:\n",
            "  libfreeimage-dev libfreeimage3 libjxr0 libraw20\n",
            "0 upgraded, 4 newly installed, 0 to remove and 34 not upgraded.\n",
            "Need to get 1,181 kB of archives.\n",
            "After this operation, 5,199 kB of additional disk space will be used.\n",
            "Get:1 http://archive.ubuntu.com/ubuntu jammy/universe amd64 libjxr0 amd64 1.2~git20170615.f752187-5 [174 kB]\n",
            "Get:2 http://archive.ubuntu.com/ubuntu jammy-updates/main amd64 libraw20 amd64 0.20.2-2ubuntu2.22.04.2 [342 kB]\n",
            "Get:3 http://archive.ubuntu.com/ubuntu jammy-updates/universe amd64 libfreeimage3 amd64 3.18.0+ds2-6ubuntu5.1 [294 kB]\n",
            "Get:4 http://archive.ubuntu.com/ubuntu jammy-updates/universe amd64 libfreeimage-dev amd64 3.18.0+ds2-6ubuntu5.1 [371 kB]\n",
            "Fetched 1,181 kB in 2s (554 kB/s)\n",
            "debconf: unable to initialize frontend: Dialog\n",
            "debconf: (No usable dialog-like program is installed, so the dialog based frontend cannot be used. at /usr/share/perl5/Debconf/FrontEnd/Dialog.pm line 78, <> line 4.)\n",
            "debconf: falling back to frontend: Readline\n",
            "debconf: unable to initialize frontend: Readline\n",
            "debconf: (This frontend requires a controlling tty.)\n",
            "debconf: falling back to frontend: Teletype\n",
            "dpkg-preconfigure: unable to re-open stdin: \n",
            "Selecting previously unselected package libjxr0:amd64.\n",
            "(Reading database ... 126998 files and directories currently installed.)\n",
            "Preparing to unpack .../libjxr0_1.2~git20170615.f752187-5_amd64.deb ...\n",
            "Unpacking libjxr0:amd64 (1.2~git20170615.f752187-5) ...\n",
            "Selecting previously unselected package libraw20:amd64.\n",
            "Preparing to unpack .../libraw20_0.20.2-2ubuntu2.22.04.2_amd64.deb ...\n",
            "Unpacking libraw20:amd64 (0.20.2-2ubuntu2.22.04.2) ...\n",
            "Selecting previously unselected package libfreeimage3:amd64.\n",
            "Preparing to unpack .../libfreeimage3_3.18.0+ds2-6ubuntu5.1_amd64.deb ...\n",
            "Unpacking libfreeimage3:amd64 (3.18.0+ds2-6ubuntu5.1) ...\n",
            "Selecting previously unselected package libfreeimage-dev.\n",
            "Preparing to unpack .../libfreeimage-dev_3.18.0+ds2-6ubuntu5.1_amd64.deb ...\n",
            "Unpacking libfreeimage-dev (3.18.0+ds2-6ubuntu5.1) ...\n",
            "Setting up libjxr0:amd64 (1.2~git20170615.f752187-5) ...\n",
            "Setting up libraw20:amd64 (0.20.2-2ubuntu2.22.04.2) ...\n",
            "Setting up libfreeimage3:amd64 (3.18.0+ds2-6ubuntu5.1) ...\n",
            "Setting up libfreeimage-dev (3.18.0+ds2-6ubuntu5.1) ...\n",
            "Processing triggers for libc-bin (2.35-0ubuntu3.8) ...\n",
            "/sbin/ldconfig.real: /usr/local/lib/libtbbmalloc.so.2 is not a symbolic link\n",
            "\n",
            "/sbin/ldconfig.real: /usr/local/lib/libtcm.so.1 is not a symbolic link\n",
            "\n",
            "/sbin/ldconfig.real: /usr/local/lib/libur_loader.so.0 is not a symbolic link\n",
            "\n",
            "/sbin/ldconfig.real: /usr/local/lib/libtbbbind_2_5.so.3 is not a symbolic link\n",
            "\n",
            "/sbin/ldconfig.real: /usr/local/lib/libumf.so.0 is not a symbolic link\n",
            "\n",
            "/sbin/ldconfig.real: /usr/local/lib/libtbbmalloc_proxy.so.2 is not a symbolic link\n",
            "\n",
            "/sbin/ldconfig.real: /usr/local/lib/libtbbbind_2_0.so.3 is not a symbolic link\n",
            "\n",
            "/sbin/ldconfig.real: /usr/local/lib/libhwloc.so.15 is not a symbolic link\n",
            "\n",
            "/sbin/ldconfig.real: /usr/local/lib/libur_adapter_level_zero.so.0 is not a symbolic link\n",
            "\n",
            "/sbin/ldconfig.real: /usr/local/lib/libtbb.so.12 is not a symbolic link\n",
            "\n",
            "/sbin/ldconfig.real: /usr/local/lib/libtbbbind.so.3 is not a symbolic link\n",
            "\n",
            "/sbin/ldconfig.real: /usr/local/lib/libur_adapter_opencl.so.0 is not a symbolic link\n",
            "\n",
            "/sbin/ldconfig.real: /usr/local/lib/libtcm_debug.so.1 is not a symbolic link\n",
            "\n",
            "Reading package lists... Done\n",
            "Building dependency tree... Done\n",
            "Reading state information... Done\n",
            "The following additional packages will be installed:\n",
            "  libmetis5\n",
            "The following NEW packages will be installed:\n",
            "  libmetis-dev libmetis5\n",
            "0 upgraded, 2 newly installed, 0 to remove and 34 not upgraded.\n",
            "Need to get 186 kB of archives.\n",
            "After this operation, 475 kB of additional disk space will be used.\n",
            "Get:1 http://archive.ubuntu.com/ubuntu jammy/universe amd64 libmetis5 amd64 5.1.0.dfsg-7build2 [181 kB]\n",
            "Get:2 http://archive.ubuntu.com/ubuntu jammy/universe amd64 libmetis-dev amd64 5.1.0.dfsg-7build2 [5,818 B]\n",
            "Fetched 186 kB in 2s (119 kB/s)\n",
            "debconf: unable to initialize frontend: Dialog\n",
            "debconf: (No usable dialog-like program is installed, so the dialog based frontend cannot be used. at /usr/share/perl5/Debconf/FrontEnd/Dialog.pm line 78, <> line 2.)\n",
            "debconf: falling back to frontend: Readline\n",
            "debconf: unable to initialize frontend: Readline\n",
            "debconf: (This frontend requires a controlling tty.)\n",
            "debconf: falling back to frontend: Teletype\n",
            "dpkg-preconfigure: unable to re-open stdin: \n",
            "Selecting previously unselected package libmetis5:amd64.\n",
            "(Reading database ... 127028 files and directories currently installed.)\n",
            "Preparing to unpack .../libmetis5_5.1.0.dfsg-7build2_amd64.deb ...\n",
            "Unpacking libmetis5:amd64 (5.1.0.dfsg-7build2) ...\n",
            "Selecting previously unselected package libmetis-dev.\n",
            "Preparing to unpack .../libmetis-dev_5.1.0.dfsg-7build2_amd64.deb ...\n",
            "Unpacking libmetis-dev (5.1.0.dfsg-7build2) ...\n",
            "Setting up libmetis5:amd64 (5.1.0.dfsg-7build2) ...\n",
            "Setting up libmetis-dev (5.1.0.dfsg-7build2) ...\n",
            "Processing triggers for libc-bin (2.35-0ubuntu3.8) ...\n",
            "/sbin/ldconfig.real: /usr/local/lib/libtbbmalloc.so.2 is not a symbolic link\n",
            "\n",
            "/sbin/ldconfig.real: /usr/local/lib/libtcm.so.1 is not a symbolic link\n",
            "\n",
            "/sbin/ldconfig.real: /usr/local/lib/libur_loader.so.0 is not a symbolic link\n",
            "\n",
            "/sbin/ldconfig.real: /usr/local/lib/libtbbbind_2_5.so.3 is not a symbolic link\n",
            "\n",
            "/sbin/ldconfig.real: /usr/local/lib/libumf.so.0 is not a symbolic link\n",
            "\n",
            "/sbin/ldconfig.real: /usr/local/lib/libtbbmalloc_proxy.so.2 is not a symbolic link\n",
            "\n",
            "/sbin/ldconfig.real: /usr/local/lib/libtbbbind_2_0.so.3 is not a symbolic link\n",
            "\n",
            "/sbin/ldconfig.real: /usr/local/lib/libhwloc.so.15 is not a symbolic link\n",
            "\n",
            "/sbin/ldconfig.real: /usr/local/lib/libur_adapter_level_zero.so.0 is not a symbolic link\n",
            "\n",
            "/sbin/ldconfig.real: /usr/local/lib/libtbb.so.12 is not a symbolic link\n",
            "\n",
            "/sbin/ldconfig.real: /usr/local/lib/libtbbbind.so.3 is not a symbolic link\n",
            "\n",
            "/sbin/ldconfig.real: /usr/local/lib/libur_adapter_opencl.so.0 is not a symbolic link\n",
            "\n",
            "/sbin/ldconfig.real: /usr/local/lib/libtcm_debug.so.1 is not a symbolic link\n",
            "\n",
            "Reading package lists... Done\n",
            "Building dependency tree... Done\n",
            "Reading state information... Done\n",
            "The following additional packages will be installed:\n",
            "  libgflags-dev libgflags2.2 libgoogle-glog0v5 libunwind-dev\n",
            "The following NEW packages will be installed:\n",
            "  libgflags-dev libgflags2.2 libgoogle-glog-dev libgoogle-glog0v5\n",
            "  libunwind-dev\n",
            "0 upgraded, 5 newly installed, 0 to remove and 34 not upgraded.\n",
            "Need to get 2,207 kB of archives.\n",
            "After this operation, 7,675 kB of additional disk space will be used.\n",
            "Get:1 http://archive.ubuntu.com/ubuntu jammy/universe amd64 libgflags2.2 amd64 2.2.2-2 [78.1 kB]\n",
            "Get:2 http://archive.ubuntu.com/ubuntu jammy/universe amd64 libgflags-dev amd64 2.2.2-2 [93.7 kB]\n",
            "Get:3 http://archive.ubuntu.com/ubuntu jammy/universe amd64 libgoogle-glog0v5 amd64 0.5.0+really0.4.0-2 [60.3 kB]\n",
            "Get:4 http://archive.ubuntu.com/ubuntu jammy-updates/main amd64 libunwind-dev amd64 1.3.2-2build2.1 [1,883 kB]\n",
            "Get:5 http://archive.ubuntu.com/ubuntu jammy/universe amd64 libgoogle-glog-dev amd64 0.5.0+really0.4.0-2 [91.9 kB]\n",
            "Fetched 2,207 kB in 2s (920 kB/s)\n",
            "debconf: unable to initialize frontend: Dialog\n",
            "debconf: (No usable dialog-like program is installed, so the dialog based frontend cannot be used. at /usr/share/perl5/Debconf/FrontEnd/Dialog.pm line 78, <> line 5.)\n",
            "debconf: falling back to frontend: Readline\n",
            "debconf: unable to initialize frontend: Readline\n",
            "debconf: (This frontend requires a controlling tty.)\n",
            "debconf: falling back to frontend: Teletype\n",
            "dpkg-preconfigure: unable to re-open stdin: \n",
            "Selecting previously unselected package libgflags2.2.\n",
            "(Reading database ... 127038 files and directories currently installed.)\n",
            "Preparing to unpack .../libgflags2.2_2.2.2-2_amd64.deb ...\n",
            "Unpacking libgflags2.2 (2.2.2-2) ...\n",
            "Selecting previously unselected package libgflags-dev.\n",
            "Preparing to unpack .../libgflags-dev_2.2.2-2_amd64.deb ...\n",
            "Unpacking libgflags-dev (2.2.2-2) ...\n",
            "Selecting previously unselected package libgoogle-glog0v5.\n",
            "Preparing to unpack .../libgoogle-glog0v5_0.5.0+really0.4.0-2_amd64.deb ...\n",
            "Unpacking libgoogle-glog0v5 (0.5.0+really0.4.0-2) ...\n",
            "Selecting previously unselected package libunwind-dev:amd64.\n",
            "Preparing to unpack .../libunwind-dev_1.3.2-2build2.1_amd64.deb ...\n",
            "Unpacking libunwind-dev:amd64 (1.3.2-2build2.1) ...\n",
            "Selecting previously unselected package libgoogle-glog-dev.\n",
            "Preparing to unpack .../libgoogle-glog-dev_0.5.0+really0.4.0-2_amd64.deb ...\n",
            "Unpacking libgoogle-glog-dev (0.5.0+really0.4.0-2) ...\n",
            "Setting up libunwind-dev:amd64 (1.3.2-2build2.1) ...\n",
            "Setting up libgflags2.2 (2.2.2-2) ...\n",
            "Setting up libgflags-dev (2.2.2-2) ...\n",
            "Setting up libgoogle-glog0v5 (0.5.0+really0.4.0-2) ...\n",
            "Setting up libgoogle-glog-dev (0.5.0+really0.4.0-2) ...\n",
            "Processing triggers for man-db (2.10.2-1) ...\n",
            "Processing triggers for libc-bin (2.35-0ubuntu3.8) ...\n",
            "/sbin/ldconfig.real: /usr/local/lib/libtbbmalloc.so.2 is not a symbolic link\n",
            "\n",
            "/sbin/ldconfig.real: /usr/local/lib/libtcm.so.1 is not a symbolic link\n",
            "\n",
            "/sbin/ldconfig.real: /usr/local/lib/libur_loader.so.0 is not a symbolic link\n",
            "\n",
            "/sbin/ldconfig.real: /usr/local/lib/libtbbbind_2_5.so.3 is not a symbolic link\n",
            "\n",
            "/sbin/ldconfig.real: /usr/local/lib/libumf.so.0 is not a symbolic link\n",
            "\n",
            "/sbin/ldconfig.real: /usr/local/lib/libtbbmalloc_proxy.so.2 is not a symbolic link\n",
            "\n",
            "/sbin/ldconfig.real: /usr/local/lib/libtbbbind_2_0.so.3 is not a symbolic link\n",
            "\n",
            "/sbin/ldconfig.real: /usr/local/lib/libhwloc.so.15 is not a symbolic link\n",
            "\n",
            "/sbin/ldconfig.real: /usr/local/lib/libur_adapter_level_zero.so.0 is not a symbolic link\n",
            "\n",
            "/sbin/ldconfig.real: /usr/local/lib/libtbb.so.12 is not a symbolic link\n",
            "\n",
            "/sbin/ldconfig.real: /usr/local/lib/libtbbbind.so.3 is not a symbolic link\n",
            "\n",
            "/sbin/ldconfig.real: /usr/local/lib/libur_adapter_opencl.so.0 is not a symbolic link\n",
            "\n",
            "/sbin/ldconfig.real: /usr/local/lib/libtcm_debug.so.1 is not a symbolic link\n",
            "\n",
            "Reading package lists... Done\n",
            "Building dependency tree... Done\n",
            "Reading state information... Done\n",
            "The following additional packages will be installed:\n",
            "  googletest\n",
            "The following NEW packages will be installed:\n",
            "  googletest libgtest-dev\n",
            "0 upgraded, 2 newly installed, 0 to remove and 34 not upgraded.\n",
            "Need to get 792 kB of archives.\n",
            "After this operation, 5,156 kB of additional disk space will be used.\n",
            "Get:1 http://archive.ubuntu.com/ubuntu jammy/universe amd64 googletest all 1.11.0-3 [541 kB]\n",
            "Get:2 http://archive.ubuntu.com/ubuntu jammy/universe amd64 libgtest-dev amd64 1.11.0-3 [250 kB]\n",
            "Fetched 792 kB in 2s (402 kB/s)\n",
            "debconf: unable to initialize frontend: Dialog\n",
            "debconf: (No usable dialog-like program is installed, so the dialog based frontend cannot be used. at /usr/share/perl5/Debconf/FrontEnd/Dialog.pm line 78, <> line 2.)\n",
            "debconf: falling back to frontend: Readline\n",
            "debconf: unable to initialize frontend: Readline\n",
            "debconf: (This frontend requires a controlling tty.)\n",
            "debconf: falling back to frontend: Teletype\n",
            "dpkg-preconfigure: unable to re-open stdin: \n",
            "Selecting previously unselected package googletest.\n",
            "(Reading database ... 127141 files and directories currently installed.)\n",
            "Preparing to unpack .../googletest_1.11.0-3_all.deb ...\n",
            "Unpacking googletest (1.11.0-3) ...\n",
            "Selecting previously unselected package libgtest-dev:amd64.\n",
            "Preparing to unpack .../libgtest-dev_1.11.0-3_amd64.deb ...\n",
            "Unpacking libgtest-dev:amd64 (1.11.0-3) ...\n",
            "Setting up googletest (1.11.0-3) ...\n",
            "Setting up libgtest-dev:amd64 (1.11.0-3) ...\n",
            "Reading package lists... Done\n",
            "Building dependency tree... Done\n",
            "Reading state information... Done\n",
            "libsqlite3-dev is already the newest version (3.37.2-2ubuntu0.3).\n",
            "libsqlite3-dev set to manually installed.\n",
            "0 upgraded, 0 newly installed, 0 to remove and 34 not upgraded.\n",
            "Reading package lists... Done\n",
            "Building dependency tree... Done\n",
            "Reading state information... Done\n",
            "The following additional packages will be installed:\n",
            "  libegl-dev libgl-dev libgl1-mesa-dev libgles-dev libgles1 libglu1-mesa\n",
            "  libglu1-mesa-dev libglvnd-core-dev libglvnd-dev libglx-dev libopengl-dev\n",
            "The following NEW packages will be installed:\n",
            "  libegl-dev libgl-dev libgl1-mesa-dev libgles-dev libgles1 libglew-dev\n",
            "  libglu1-mesa libglu1-mesa-dev libglvnd-core-dev libglvnd-dev libglx-dev\n",
            "  libopengl-dev\n",
            "0 upgraded, 12 newly installed, 0 to remove and 34 not upgraded.\n",
            "Need to get 884 kB of archives.\n",
            "After this operation, 6,636 kB of additional disk space will be used.\n",
            "Get:1 http://archive.ubuntu.com/ubuntu jammy/main amd64 libglx-dev amd64 1.4.0-1 [14.1 kB]\n",
            "Get:2 http://archive.ubuntu.com/ubuntu jammy/main amd64 libgl-dev amd64 1.4.0-1 [101 kB]\n",
            "Get:3 http://archive.ubuntu.com/ubuntu jammy/main amd64 libegl-dev amd64 1.4.0-1 [18.0 kB]\n",
            "Get:4 http://archive.ubuntu.com/ubuntu jammy/main amd64 libgles1 amd64 1.4.0-1 [11.5 kB]\n",
            "Get:5 http://archive.ubuntu.com/ubuntu jammy/main amd64 libgles-dev amd64 1.4.0-1 [49.4 kB]\n",
            "Get:6 http://archive.ubuntu.com/ubuntu jammy/main amd64 libglvnd-core-dev amd64 1.4.0-1 [12.7 kB]\n",
            "Get:7 http://archive.ubuntu.com/ubuntu jammy/main amd64 libopengl-dev amd64 1.4.0-1 [3,400 B]\n",
            "Get:8 http://archive.ubuntu.com/ubuntu jammy/main amd64 libglvnd-dev amd64 1.4.0-1 [3,162 B]\n",
            "Get:9 http://archive.ubuntu.com/ubuntu jammy-updates/main amd64 libgl1-mesa-dev amd64 23.2.1-1ubuntu3.1~22.04.3 [6,848 B]\n",
            "Get:10 http://archive.ubuntu.com/ubuntu jammy/main amd64 libglu1-mesa amd64 9.0.2-1 [145 kB]\n",
            "Get:11 http://archive.ubuntu.com/ubuntu jammy/main amd64 libglu1-mesa-dev amd64 9.0.2-1 [231 kB]\n",
            "Get:12 http://archive.ubuntu.com/ubuntu jammy/universe amd64 libglew-dev amd64 2.2.0-4 [287 kB]\n",
            "Fetched 884 kB in 2s (525 kB/s)\n",
            "debconf: unable to initialize frontend: Dialog\n",
            "debconf: (No usable dialog-like program is installed, so the dialog based frontend cannot be used. at /usr/share/perl5/Debconf/FrontEnd/Dialog.pm line 78, <> line 12.)\n",
            "debconf: falling back to frontend: Readline\n",
            "debconf: unable to initialize frontend: Readline\n",
            "debconf: (This frontend requires a controlling tty.)\n",
            "debconf: falling back to frontend: Teletype\n",
            "dpkg-preconfigure: unable to re-open stdin: \n",
            "Selecting previously unselected package libglx-dev:amd64.\n",
            "(Reading database ... 127432 files and directories currently installed.)\n",
            "Preparing to unpack .../00-libglx-dev_1.4.0-1_amd64.deb ...\n",
            "Unpacking libglx-dev:amd64 (1.4.0-1) ...\n",
            "Selecting previously unselected package libgl-dev:amd64.\n",
            "Preparing to unpack .../01-libgl-dev_1.4.0-1_amd64.deb ...\n",
            "Unpacking libgl-dev:amd64 (1.4.0-1) ...\n",
            "Selecting previously unselected package libegl-dev:amd64.\n",
            "Preparing to unpack .../02-libegl-dev_1.4.0-1_amd64.deb ...\n",
            "Unpacking libegl-dev:amd64 (1.4.0-1) ...\n",
            "Selecting previously unselected package libgles1:amd64.\n",
            "Preparing to unpack .../03-libgles1_1.4.0-1_amd64.deb ...\n",
            "Unpacking libgles1:amd64 (1.4.0-1) ...\n",
            "Selecting previously unselected package libgles-dev:amd64.\n",
            "Preparing to unpack .../04-libgles-dev_1.4.0-1_amd64.deb ...\n",
            "Unpacking libgles-dev:amd64 (1.4.0-1) ...\n",
            "Selecting previously unselected package libglvnd-core-dev:amd64.\n",
            "Preparing to unpack .../05-libglvnd-core-dev_1.4.0-1_amd64.deb ...\n",
            "Unpacking libglvnd-core-dev:amd64 (1.4.0-1) ...\n",
            "Selecting previously unselected package libopengl-dev:amd64.\n",
            "Preparing to unpack .../06-libopengl-dev_1.4.0-1_amd64.deb ...\n",
            "Unpacking libopengl-dev:amd64 (1.4.0-1) ...\n",
            "Selecting previously unselected package libglvnd-dev:amd64.\n",
            "Preparing to unpack .../07-libglvnd-dev_1.4.0-1_amd64.deb ...\n",
            "Unpacking libglvnd-dev:amd64 (1.4.0-1) ...\n",
            "Selecting previously unselected package libgl1-mesa-dev:amd64.\n",
            "Preparing to unpack .../08-libgl1-mesa-dev_23.2.1-1ubuntu3.1~22.04.3_amd64.deb ...\n",
            "Unpacking libgl1-mesa-dev:amd64 (23.2.1-1ubuntu3.1~22.04.3) ...\n",
            "Selecting previously unselected package libglu1-mesa:amd64.\n",
            "Preparing to unpack .../09-libglu1-mesa_9.0.2-1_amd64.deb ...\n",
            "Unpacking libglu1-mesa:amd64 (9.0.2-1) ...\n",
            "Selecting previously unselected package libglu1-mesa-dev:amd64.\n",
            "Preparing to unpack .../10-libglu1-mesa-dev_9.0.2-1_amd64.deb ...\n",
            "Unpacking libglu1-mesa-dev:amd64 (9.0.2-1) ...\n",
            "Selecting previously unselected package libglew-dev:amd64.\n",
            "Preparing to unpack .../11-libglew-dev_2.2.0-4_amd64.deb ...\n",
            "Unpacking libglew-dev:amd64 (2.2.0-4) ...\n",
            "Setting up libglvnd-core-dev:amd64 (1.4.0-1) ...\n",
            "Setting up libgles1:amd64 (1.4.0-1) ...\n",
            "Setting up libglx-dev:amd64 (1.4.0-1) ...\n",
            "Setting up libglu1-mesa:amd64 (9.0.2-1) ...\n",
            "Setting up libopengl-dev:amd64 (1.4.0-1) ...\n",
            "Setting up libgl-dev:amd64 (1.4.0-1) ...\n",
            "Setting up libegl-dev:amd64 (1.4.0-1) ...\n",
            "Setting up libglu1-mesa-dev:amd64 (9.0.2-1) ...\n",
            "Setting up libgles-dev:amd64 (1.4.0-1) ...\n",
            "Setting up libglvnd-dev:amd64 (1.4.0-1) ...\n",
            "Setting up libglew-dev:amd64 (2.2.0-4) ...\n",
            "Setting up libgl1-mesa-dev:amd64 (23.2.1-1ubuntu3.1~22.04.3) ...\n",
            "Processing triggers for libc-bin (2.35-0ubuntu3.8) ...\n",
            "/sbin/ldconfig.real: /usr/local/lib/libtbbmalloc.so.2 is not a symbolic link\n",
            "\n",
            "/sbin/ldconfig.real: /usr/local/lib/libtcm.so.1 is not a symbolic link\n",
            "\n",
            "/sbin/ldconfig.real: /usr/local/lib/libur_loader.so.0 is not a symbolic link\n",
            "\n",
            "/sbin/ldconfig.real: /usr/local/lib/libtbbbind_2_5.so.3 is not a symbolic link\n",
            "\n",
            "/sbin/ldconfig.real: /usr/local/lib/libumf.so.0 is not a symbolic link\n",
            "\n",
            "/sbin/ldconfig.real: /usr/local/lib/libtbbmalloc_proxy.so.2 is not a symbolic link\n",
            "\n",
            "/sbin/ldconfig.real: /usr/local/lib/libtbbbind_2_0.so.3 is not a symbolic link\n",
            "\n",
            "/sbin/ldconfig.real: /usr/local/lib/libhwloc.so.15 is not a symbolic link\n",
            "\n",
            "/sbin/ldconfig.real: /usr/local/lib/libur_adapter_level_zero.so.0 is not a symbolic link\n",
            "\n",
            "/sbin/ldconfig.real: /usr/local/lib/libtbb.so.12 is not a symbolic link\n",
            "\n",
            "/sbin/ldconfig.real: /usr/local/lib/libtbbbind.so.3 is not a symbolic link\n",
            "\n",
            "/sbin/ldconfig.real: /usr/local/lib/libur_adapter_opencl.so.0 is not a symbolic link\n",
            "\n",
            "/sbin/ldconfig.real: /usr/local/lib/libtcm_debug.so.1 is not a symbolic link\n",
            "\n",
            "Reading package lists... Done\n",
            "Building dependency tree... Done\n",
            "Reading state information... Done\n",
            "The following additional packages will be installed:\n",
            "  libevdev2 libgudev-1.0-0 libinput-bin libinput10 libmd4c0 libmtdev1\n",
            "  libqt5concurrent5 libqt5core5a libqt5dbus5 libqt5gui5 libqt5network5\n",
            "  libqt5opengl5 libqt5opengl5-dev libqt5printsupport5 libqt5sql5\n",
            "  libqt5sql5-sqlite libqt5svg5 libqt5test5 libqt5widgets5 libqt5xml5\n",
            "  libvulkan-dev libvulkan1 libwacom-bin libwacom-common libwacom9\n",
            "  libxcb-icccm4 libxcb-image0 libxcb-keysyms1 libxcb-render-util0 libxcb-util1\n",
            "  libxcb-xinerama0 libxcb-xinput0 libxcb-xkb1 libxkbcommon-x11-0\n",
            "  mesa-vulkan-drivers qt5-gtk-platformtheme qt5-qmake qt5-qmake-bin\n",
            "  qtbase5-dev-tools qtchooser qttranslations5-l10n\n",
            "Suggested packages:\n",
            "  qt5-image-formats-plugins qtwayland5 firebird-dev\n",
            "The following NEW packages will be installed:\n",
            "  libevdev2 libgudev-1.0-0 libinput-bin libinput10 libmd4c0 libmtdev1\n",
            "  libqt5concurrent5 libqt5core5a libqt5dbus5 libqt5gui5 libqt5network5\n",
            "  libqt5opengl5 libqt5opengl5-dev libqt5printsupport5 libqt5sql5\n",
            "  libqt5sql5-sqlite libqt5svg5 libqt5test5 libqt5widgets5 libqt5xml5\n",
            "  libvulkan-dev libvulkan1 libwacom-bin libwacom-common libwacom9\n",
            "  libxcb-icccm4 libxcb-image0 libxcb-keysyms1 libxcb-render-util0 libxcb-util1\n",
            "  libxcb-xinerama0 libxcb-xinput0 libxcb-xkb1 libxkbcommon-x11-0\n",
            "  mesa-vulkan-drivers qt5-gtk-platformtheme qt5-qmake qt5-qmake-bin\n",
            "  qtbase5-dev qtbase5-dev-tools qtchooser qttranslations5-l10n\n",
            "0 upgraded, 42 newly installed, 0 to remove and 34 not upgraded.\n",
            "Need to get 28.0 MB of archives.\n",
            "After this operation, 146 MB of additional disk space will be used.\n",
            "Get:1 http://archive.ubuntu.com/ubuntu jammy-updates/universe amd64 libqt5core5a amd64 5.15.3+dfsg-2ubuntu0.2 [2,006 kB]\n",
            "Get:2 http://archive.ubuntu.com/ubuntu jammy/main amd64 libevdev2 amd64 1.12.1+dfsg-1 [39.5 kB]\n",
            "Get:3 http://archive.ubuntu.com/ubuntu jammy/main amd64 libmtdev1 amd64 1.1.6-1build4 [14.5 kB]\n",
            "Get:4 http://archive.ubuntu.com/ubuntu jammy/main amd64 libgudev-1.0-0 amd64 1:237-2build1 [16.3 kB]\n",
            "Get:5 http://archive.ubuntu.com/ubuntu jammy/main amd64 libwacom-common all 2.2.0-1 [54.3 kB]\n",
            "Get:6 http://archive.ubuntu.com/ubuntu jammy/main amd64 libwacom9 amd64 2.2.0-1 [22.0 kB]\n",
            "Get:7 http://archive.ubuntu.com/ubuntu jammy-updates/main amd64 libinput-bin amd64 1.20.0-1ubuntu0.3 [19.9 kB]\n",
            "Get:8 http://archive.ubuntu.com/ubuntu jammy-updates/main amd64 libinput10 amd64 1.20.0-1ubuntu0.3 [131 kB]\n",
            "Get:9 http://archive.ubuntu.com/ubuntu jammy/universe amd64 libmd4c0 amd64 0.4.8-1 [42.0 kB]\n",
            "Get:10 http://archive.ubuntu.com/ubuntu jammy-updates/universe amd64 libqt5dbus5 amd64 5.15.3+dfsg-2ubuntu0.2 [222 kB]\n",
            "Get:11 http://archive.ubuntu.com/ubuntu jammy-updates/universe amd64 libqt5network5 amd64 5.15.3+dfsg-2ubuntu0.2 [731 kB]\n",
            "Get:12 http://archive.ubuntu.com/ubuntu jammy/main amd64 libxcb-icccm4 amd64 0.4.1-1.1build2 [11.5 kB]\n",
            "Get:13 http://archive.ubuntu.com/ubuntu jammy/main amd64 libxcb-util1 amd64 0.4.0-1build2 [11.4 kB]\n",
            "Get:14 http://archive.ubuntu.com/ubuntu jammy/main amd64 libxcb-image0 amd64 0.4.0-2 [11.5 kB]\n",
            "Get:15 http://archive.ubuntu.com/ubuntu jammy/main amd64 libxcb-keysyms1 amd64 0.4.0-1build3 [8,746 B]\n",
            "Get:16 http://archive.ubuntu.com/ubuntu jammy/main amd64 libxcb-render-util0 amd64 0.3.9-1build3 [10.3 kB]\n",
            "Get:17 http://archive.ubuntu.com/ubuntu jammy/main amd64 libxcb-xinerama0 amd64 1.14-3ubuntu3 [5,414 B]\n",
            "Get:18 http://archive.ubuntu.com/ubuntu jammy/main amd64 libxcb-xinput0 amd64 1.14-3ubuntu3 [34.3 kB]\n",
            "Get:19 http://archive.ubuntu.com/ubuntu jammy/main amd64 libxcb-xkb1 amd64 1.14-3ubuntu3 [32.8 kB]\n",
            "Get:20 http://archive.ubuntu.com/ubuntu jammy/main amd64 libxkbcommon-x11-0 amd64 1.4.0-1 [14.4 kB]\n",
            "Get:21 http://archive.ubuntu.com/ubuntu jammy-updates/universe amd64 libqt5gui5 amd64 5.15.3+dfsg-2ubuntu0.2 [3,722 kB]\n",
            "Get:22 http://archive.ubuntu.com/ubuntu jammy-updates/universe amd64 libqt5widgets5 amd64 5.15.3+dfsg-2ubuntu0.2 [2,561 kB]\n",
            "Get:23 http://archive.ubuntu.com/ubuntu jammy/universe amd64 libqt5svg5 amd64 5.15.3-1 [149 kB]\n",
            "Get:24 http://archive.ubuntu.com/ubuntu jammy-updates/universe amd64 libqt5concurrent5 amd64 5.15.3+dfsg-2ubuntu0.2 [36.3 kB]\n",
            "Get:25 http://archive.ubuntu.com/ubuntu jammy-updates/universe amd64 libqt5opengl5 amd64 5.15.3+dfsg-2ubuntu0.2 [153 kB]\n",
            "Get:26 http://archive.ubuntu.com/ubuntu jammy-updates/universe amd64 libqt5printsupport5 amd64 5.15.3+dfsg-2ubuntu0.2 [214 kB]\n",
            "Get:27 http://archive.ubuntu.com/ubuntu jammy-updates/universe amd64 libqt5sql5 amd64 5.15.3+dfsg-2ubuntu0.2 [123 kB]\n",
            "Get:28 http://archive.ubuntu.com/ubuntu jammy-updates/universe amd64 libqt5test5 amd64 5.15.3+dfsg-2ubuntu0.2 [152 kB]\n",
            "Get:29 http://archive.ubuntu.com/ubuntu jammy-updates/universe amd64 libqt5xml5 amd64 5.15.3+dfsg-2ubuntu0.2 [124 kB]\n",
            "Get:30 http://archive.ubuntu.com/ubuntu jammy/main amd64 libvulkan1 amd64 1.3.204.1-2 [128 kB]\n",
            "Get:31 http://archive.ubuntu.com/ubuntu jammy/main amd64 libvulkan-dev amd64 1.3.204.1-2 [892 kB]\n",
            "Get:32 http://archive.ubuntu.com/ubuntu jammy-updates/universe amd64 qt5-qmake-bin amd64 5.15.3+dfsg-2ubuntu0.2 [1,126 kB]\n",
            "Get:33 http://archive.ubuntu.com/ubuntu jammy/universe amd64 qtchooser amd64 66-2build1 [24.7 kB]\n",
            "Get:34 http://archive.ubuntu.com/ubuntu jammy-updates/universe amd64 qt5-qmake amd64 5.15.3+dfsg-2ubuntu0.2 [208 kB]\n",
            "Get:35 http://archive.ubuntu.com/ubuntu jammy-updates/universe amd64 qtbase5-dev-tools amd64 5.15.3+dfsg-2ubuntu0.2 [819 kB]\n",
            "Get:36 http://archive.ubuntu.com/ubuntu jammy-updates/universe amd64 qtbase5-dev amd64 5.15.3+dfsg-2ubuntu0.2 [1,135 kB]\n",
            "Get:37 http://archive.ubuntu.com/ubuntu jammy-updates/universe amd64 libqt5opengl5-dev amd64 5.15.3+dfsg-2ubuntu0.2 [42.3 kB]\n",
            "Get:38 http://archive.ubuntu.com/ubuntu jammy-updates/universe amd64 libqt5sql5-sqlite amd64 5.15.3+dfsg-2ubuntu0.2 [53.0 kB]\n",
            "Get:39 http://archive.ubuntu.com/ubuntu jammy/main amd64 libwacom-bin amd64 2.2.0-1 [13.6 kB]\n",
            "Get:40 http://archive.ubuntu.com/ubuntu jammy-updates/main amd64 mesa-vulkan-drivers amd64 23.2.1-1ubuntu3.1~22.04.3 [10.7 MB]\n",
            "Get:41 http://archive.ubuntu.com/ubuntu jammy-updates/universe amd64 qt5-gtk-platformtheme amd64 5.15.3+dfsg-2ubuntu0.2 [130 kB]\n",
            "Get:42 http://archive.ubuntu.com/ubuntu jammy/universe amd64 qttranslations5-l10n all 5.15.3-1 [1,983 kB]\n",
            "Fetched 28.0 MB in 3s (8,738 kB/s)\n",
            "debconf: unable to initialize frontend: Dialog\n",
            "debconf: (No usable dialog-like program is installed, so the dialog based frontend cannot be used. at /usr/share/perl5/Debconf/FrontEnd/Dialog.pm line 78, <> line 42.)\n",
            "debconf: falling back to frontend: Readline\n",
            "debconf: unable to initialize frontend: Readline\n",
            "debconf: (This frontend requires a controlling tty.)\n",
            "debconf: falling back to frontend: Teletype\n",
            "dpkg-preconfigure: unable to re-open stdin: \n",
            "Selecting previously unselected package libqt5core5a:amd64.\n",
            "(Reading database ... 127547 files and directories currently installed.)\n",
            "Preparing to unpack .../00-libqt5core5a_5.15.3+dfsg-2ubuntu0.2_amd64.deb ...\n",
            "Unpacking libqt5core5a:amd64 (5.15.3+dfsg-2ubuntu0.2) ...\n",
            "Selecting previously unselected package libevdev2:amd64.\n",
            "Preparing to unpack .../01-libevdev2_1.12.1+dfsg-1_amd64.deb ...\n",
            "Unpacking libevdev2:amd64 (1.12.1+dfsg-1) ...\n",
            "Selecting previously unselected package libmtdev1:amd64.\n",
            "Preparing to unpack .../02-libmtdev1_1.1.6-1build4_amd64.deb ...\n",
            "Unpacking libmtdev1:amd64 (1.1.6-1build4) ...\n",
            "Selecting previously unselected package libgudev-1.0-0:amd64.\n",
            "Preparing to unpack .../03-libgudev-1.0-0_1%3a237-2build1_amd64.deb ...\n",
            "Unpacking libgudev-1.0-0:amd64 (1:237-2build1) ...\n",
            "Selecting previously unselected package libwacom-common.\n",
            "Preparing to unpack .../04-libwacom-common_2.2.0-1_all.deb ...\n",
            "Unpacking libwacom-common (2.2.0-1) ...\n",
            "Selecting previously unselected package libwacom9:amd64.\n",
            "Preparing to unpack .../05-libwacom9_2.2.0-1_amd64.deb ...\n",
            "Unpacking libwacom9:amd64 (2.2.0-1) ...\n",
            "Selecting previously unselected package libinput-bin.\n",
            "Preparing to unpack .../06-libinput-bin_1.20.0-1ubuntu0.3_amd64.deb ...\n",
            "Unpacking libinput-bin (1.20.0-1ubuntu0.3) ...\n",
            "Selecting previously unselected package libinput10:amd64.\n",
            "Preparing to unpack .../07-libinput10_1.20.0-1ubuntu0.3_amd64.deb ...\n",
            "Unpacking libinput10:amd64 (1.20.0-1ubuntu0.3) ...\n",
            "Selecting previously unselected package libmd4c0:amd64.\n",
            "Preparing to unpack .../08-libmd4c0_0.4.8-1_amd64.deb ...\n",
            "Unpacking libmd4c0:amd64 (0.4.8-1) ...\n",
            "Selecting previously unselected package libqt5dbus5:amd64.\n",
            "Preparing to unpack .../09-libqt5dbus5_5.15.3+dfsg-2ubuntu0.2_amd64.deb ...\n",
            "Unpacking libqt5dbus5:amd64 (5.15.3+dfsg-2ubuntu0.2) ...\n",
            "Selecting previously unselected package libqt5network5:amd64.\n",
            "Preparing to unpack .../10-libqt5network5_5.15.3+dfsg-2ubuntu0.2_amd64.deb ...\n",
            "Unpacking libqt5network5:amd64 (5.15.3+dfsg-2ubuntu0.2) ...\n",
            "Selecting previously unselected package libxcb-icccm4:amd64.\n",
            "Preparing to unpack .../11-libxcb-icccm4_0.4.1-1.1build2_amd64.deb ...\n",
            "Unpacking libxcb-icccm4:amd64 (0.4.1-1.1build2) ...\n",
            "Selecting previously unselected package libxcb-util1:amd64.\n",
            "Preparing to unpack .../12-libxcb-util1_0.4.0-1build2_amd64.deb ...\n",
            "Unpacking libxcb-util1:amd64 (0.4.0-1build2) ...\n",
            "Selecting previously unselected package libxcb-image0:amd64.\n",
            "Preparing to unpack .../13-libxcb-image0_0.4.0-2_amd64.deb ...\n",
            "Unpacking libxcb-image0:amd64 (0.4.0-2) ...\n",
            "Selecting previously unselected package libxcb-keysyms1:amd64.\n",
            "Preparing to unpack .../14-libxcb-keysyms1_0.4.0-1build3_amd64.deb ...\n",
            "Unpacking libxcb-keysyms1:amd64 (0.4.0-1build3) ...\n",
            "Selecting previously unselected package libxcb-render-util0:amd64.\n",
            "Preparing to unpack .../15-libxcb-render-util0_0.3.9-1build3_amd64.deb ...\n",
            "Unpacking libxcb-render-util0:amd64 (0.3.9-1build3) ...\n",
            "Selecting previously unselected package libxcb-xinerama0:amd64.\n",
            "Preparing to unpack .../16-libxcb-xinerama0_1.14-3ubuntu3_amd64.deb ...\n",
            "Unpacking libxcb-xinerama0:amd64 (1.14-3ubuntu3) ...\n",
            "Selecting previously unselected package libxcb-xinput0:amd64.\n",
            "Preparing to unpack .../17-libxcb-xinput0_1.14-3ubuntu3_amd64.deb ...\n",
            "Unpacking libxcb-xinput0:amd64 (1.14-3ubuntu3) ...\n",
            "Selecting previously unselected package libxcb-xkb1:amd64.\n",
            "Preparing to unpack .../18-libxcb-xkb1_1.14-3ubuntu3_amd64.deb ...\n",
            "Unpacking libxcb-xkb1:amd64 (1.14-3ubuntu3) ...\n",
            "Selecting previously unselected package libxkbcommon-x11-0:amd64.\n",
            "Preparing to unpack .../19-libxkbcommon-x11-0_1.4.0-1_amd64.deb ...\n",
            "Unpacking libxkbcommon-x11-0:amd64 (1.4.0-1) ...\n",
            "Selecting previously unselected package libqt5gui5:amd64.\n",
            "Preparing to unpack .../20-libqt5gui5_5.15.3+dfsg-2ubuntu0.2_amd64.deb ...\n",
            "Unpacking libqt5gui5:amd64 (5.15.3+dfsg-2ubuntu0.2) ...\n",
            "Selecting previously unselected package libqt5widgets5:amd64.\n",
            "Preparing to unpack .../21-libqt5widgets5_5.15.3+dfsg-2ubuntu0.2_amd64.deb ...\n",
            "Unpacking libqt5widgets5:amd64 (5.15.3+dfsg-2ubuntu0.2) ...\n",
            "Selecting previously unselected package libqt5svg5:amd64.\n",
            "Preparing to unpack .../22-libqt5svg5_5.15.3-1_amd64.deb ...\n",
            "Unpacking libqt5svg5:amd64 (5.15.3-1) ...\n",
            "Selecting previously unselected package libqt5concurrent5:amd64.\n",
            "Preparing to unpack .../23-libqt5concurrent5_5.15.3+dfsg-2ubuntu0.2_amd64.deb ...\n",
            "Unpacking libqt5concurrent5:amd64 (5.15.3+dfsg-2ubuntu0.2) ...\n",
            "Selecting previously unselected package libqt5opengl5:amd64.\n",
            "Preparing to unpack .../24-libqt5opengl5_5.15.3+dfsg-2ubuntu0.2_amd64.deb ...\n",
            "Unpacking libqt5opengl5:amd64 (5.15.3+dfsg-2ubuntu0.2) ...\n",
            "Selecting previously unselected package libqt5printsupport5:amd64.\n",
            "Preparing to unpack .../25-libqt5printsupport5_5.15.3+dfsg-2ubuntu0.2_amd64.deb ...\n",
            "Unpacking libqt5printsupport5:amd64 (5.15.3+dfsg-2ubuntu0.2) ...\n",
            "Selecting previously unselected package libqt5sql5:amd64.\n",
            "Preparing to unpack .../26-libqt5sql5_5.15.3+dfsg-2ubuntu0.2_amd64.deb ...\n",
            "Unpacking libqt5sql5:amd64 (5.15.3+dfsg-2ubuntu0.2) ...\n",
            "Selecting previously unselected package libqt5test5:amd64.\n",
            "Preparing to unpack .../27-libqt5test5_5.15.3+dfsg-2ubuntu0.2_amd64.deb ...\n",
            "Unpacking libqt5test5:amd64 (5.15.3+dfsg-2ubuntu0.2) ...\n",
            "Selecting previously unselected package libqt5xml5:amd64.\n",
            "Preparing to unpack .../28-libqt5xml5_5.15.3+dfsg-2ubuntu0.2_amd64.deb ...\n",
            "Unpacking libqt5xml5:amd64 (5.15.3+dfsg-2ubuntu0.2) ...\n",
            "Selecting previously unselected package libvulkan1:amd64.\n",
            "Preparing to unpack .../29-libvulkan1_1.3.204.1-2_amd64.deb ...\n",
            "Unpacking libvulkan1:amd64 (1.3.204.1-2) ...\n",
            "Selecting previously unselected package libvulkan-dev:amd64.\n",
            "Preparing to unpack .../30-libvulkan-dev_1.3.204.1-2_amd64.deb ...\n",
            "Unpacking libvulkan-dev:amd64 (1.3.204.1-2) ...\n",
            "Selecting previously unselected package qt5-qmake-bin.\n",
            "Preparing to unpack .../31-qt5-qmake-bin_5.15.3+dfsg-2ubuntu0.2_amd64.deb ...\n",
            "Unpacking qt5-qmake-bin (5.15.3+dfsg-2ubuntu0.2) ...\n",
            "Selecting previously unselected package qtchooser.\n",
            "Preparing to unpack .../32-qtchooser_66-2build1_amd64.deb ...\n",
            "Unpacking qtchooser (66-2build1) ...\n",
            "Selecting previously unselected package qt5-qmake:amd64.\n",
            "Preparing to unpack .../33-qt5-qmake_5.15.3+dfsg-2ubuntu0.2_amd64.deb ...\n",
            "Unpacking qt5-qmake:amd64 (5.15.3+dfsg-2ubuntu0.2) ...\n",
            "Selecting previously unselected package qtbase5-dev-tools.\n",
            "Preparing to unpack .../34-qtbase5-dev-tools_5.15.3+dfsg-2ubuntu0.2_amd64.deb ...\n",
            "Unpacking qtbase5-dev-tools (5.15.3+dfsg-2ubuntu0.2) ...\n",
            "Selecting previously unselected package qtbase5-dev:amd64.\n",
            "Preparing to unpack .../35-qtbase5-dev_5.15.3+dfsg-2ubuntu0.2_amd64.deb ...\n",
            "Unpacking qtbase5-dev:amd64 (5.15.3+dfsg-2ubuntu0.2) ...\n",
            "Selecting previously unselected package libqt5opengl5-dev:amd64.\n",
            "Preparing to unpack .../36-libqt5opengl5-dev_5.15.3+dfsg-2ubuntu0.2_amd64.deb ...\n",
            "Unpacking libqt5opengl5-dev:amd64 (5.15.3+dfsg-2ubuntu0.2) ...\n",
            "Selecting previously unselected package libqt5sql5-sqlite:amd64.\n",
            "Preparing to unpack .../37-libqt5sql5-sqlite_5.15.3+dfsg-2ubuntu0.2_amd64.deb ...\n",
            "Unpacking libqt5sql5-sqlite:amd64 (5.15.3+dfsg-2ubuntu0.2) ...\n",
            "Selecting previously unselected package libwacom-bin.\n",
            "Preparing to unpack .../38-libwacom-bin_2.2.0-1_amd64.deb ...\n",
            "Unpacking libwacom-bin (2.2.0-1) ...\n",
            "Selecting previously unselected package mesa-vulkan-drivers:amd64.\n",
            "Preparing to unpack .../39-mesa-vulkan-drivers_23.2.1-1ubuntu3.1~22.04.3_amd64.deb ...\n",
            "Unpacking mesa-vulkan-drivers:amd64 (23.2.1-1ubuntu3.1~22.04.3) ...\n",
            "Selecting previously unselected package qt5-gtk-platformtheme:amd64.\n",
            "Preparing to unpack .../40-qt5-gtk-platformtheme_5.15.3+dfsg-2ubuntu0.2_amd64.deb ...\n",
            "Unpacking qt5-gtk-platformtheme:amd64 (5.15.3+dfsg-2ubuntu0.2) ...\n",
            "Selecting previously unselected package qttranslations5-l10n.\n",
            "Preparing to unpack .../41-qttranslations5-l10n_5.15.3-1_all.deb ...\n",
            "Unpacking qttranslations5-l10n (5.15.3-1) ...\n",
            "Setting up libxcb-xinput0:amd64 (1.14-3ubuntu3) ...\n",
            "Setting up libxcb-keysyms1:amd64 (0.4.0-1build3) ...\n",
            "Setting up libxcb-render-util0:amd64 (0.3.9-1build3) ...\n",
            "Setting up libxcb-icccm4:amd64 (0.4.1-1.1build2) ...\n",
            "Setting up libxcb-util1:amd64 (0.4.0-1build2) ...\n",
            "Setting up libxcb-xkb1:amd64 (1.14-3ubuntu3) ...\n",
            "Setting up libxcb-image0:amd64 (0.4.0-2) ...\n",
            "Setting up libxcb-xinerama0:amd64 (1.14-3ubuntu3) ...\n",
            "Setting up qttranslations5-l10n (5.15.3-1) ...\n",
            "Setting up qt5-qmake-bin (5.15.3+dfsg-2ubuntu0.2) ...\n",
            "Setting up libxkbcommon-x11-0:amd64 (1.4.0-1) ...\n",
            "Setting up libqt5core5a:amd64 (5.15.3+dfsg-2ubuntu0.2) ...\n",
            "Setting up libmtdev1:amd64 (1.1.6-1build4) ...\n",
            "Setting up libvulkan1:amd64 (1.3.204.1-2) ...\n",
            "Setting up libqt5dbus5:amd64 (5.15.3+dfsg-2ubuntu0.2) ...\n",
            "Setting up libmd4c0:amd64 (0.4.8-1) ...\n",
            "Setting up libqt5test5:amd64 (5.15.3+dfsg-2ubuntu0.2) ...\n",
            "Setting up libevdev2:amd64 (1.12.1+dfsg-1) ...\n",
            "Setting up libqt5concurrent5:amd64 (5.15.3+dfsg-2ubuntu0.2) ...\n",
            "Setting up libgudev-1.0-0:amd64 (1:237-2build1) ...\n",
            "Setting up qtchooser (66-2build1) ...\n",
            "Setting up libwacom-common (2.2.0-1) ...\n",
            "Setting up mesa-vulkan-drivers:amd64 (23.2.1-1ubuntu3.1~22.04.3) ...\n",
            "Setting up libvulkan-dev:amd64 (1.3.204.1-2) ...\n",
            "Setting up qt5-qmake:amd64 (5.15.3+dfsg-2ubuntu0.2) ...\n",
            "Setting up libwacom9:amd64 (2.2.0-1) ...\n",
            "Setting up libqt5network5:amd64 (5.15.3+dfsg-2ubuntu0.2) ...\n",
            "Setting up libinput-bin (1.20.0-1ubuntu0.3) ...\n",
            "Setting up libqt5sql5:amd64 (5.15.3+dfsg-2ubuntu0.2) ...\n",
            "Setting up qtbase5-dev-tools (5.15.3+dfsg-2ubuntu0.2) ...\n",
            "Setting up libqt5xml5:amd64 (5.15.3+dfsg-2ubuntu0.2) ...\n",
            "Setting up libwacom-bin (2.2.0-1) ...\n",
            "Setting up libinput10:amd64 (1.20.0-1ubuntu0.3) ...\n",
            "Setting up libqt5sql5-sqlite:amd64 (5.15.3+dfsg-2ubuntu0.2) ...\n",
            "Setting up libqt5gui5:amd64 (5.15.3+dfsg-2ubuntu0.2) ...\n",
            "Setting up libqt5widgets5:amd64 (5.15.3+dfsg-2ubuntu0.2) ...\n",
            "Setting up qt5-gtk-platformtheme:amd64 (5.15.3+dfsg-2ubuntu0.2) ...\n",
            "Setting up libqt5printsupport5:amd64 (5.15.3+dfsg-2ubuntu0.2) ...\n",
            "Setting up qtbase5-dev:amd64 (5.15.3+dfsg-2ubuntu0.2) ...\n",
            "Setting up libqt5opengl5:amd64 (5.15.3+dfsg-2ubuntu0.2) ...\n",
            "Setting up libqt5opengl5-dev:amd64 (5.15.3+dfsg-2ubuntu0.2) ...\n",
            "Setting up libqt5svg5:amd64 (5.15.3-1) ...\n",
            "Processing triggers for libc-bin (2.35-0ubuntu3.8) ...\n",
            "/sbin/ldconfig.real: /usr/local/lib/libtbbmalloc.so.2 is not a symbolic link\n",
            "\n",
            "/sbin/ldconfig.real: /usr/local/lib/libtcm.so.1 is not a symbolic link\n",
            "\n",
            "/sbin/ldconfig.real: /usr/local/lib/libur_loader.so.0 is not a symbolic link\n",
            "\n",
            "/sbin/ldconfig.real: /usr/local/lib/libtbbbind_2_5.so.3 is not a symbolic link\n",
            "\n",
            "/sbin/ldconfig.real: /usr/local/lib/libumf.so.0 is not a symbolic link\n",
            "\n",
            "/sbin/ldconfig.real: /usr/local/lib/libtbbmalloc_proxy.so.2 is not a symbolic link\n",
            "\n",
            "/sbin/ldconfig.real: /usr/local/lib/libtbbbind_2_0.so.3 is not a symbolic link\n",
            "\n",
            "/sbin/ldconfig.real: /usr/local/lib/libhwloc.so.15 is not a symbolic link\n",
            "\n",
            "/sbin/ldconfig.real: /usr/local/lib/libur_adapter_level_zero.so.0 is not a symbolic link\n",
            "\n",
            "/sbin/ldconfig.real: /usr/local/lib/libtbb.so.12 is not a symbolic link\n",
            "\n",
            "/sbin/ldconfig.real: /usr/local/lib/libtbbbind.so.3 is not a symbolic link\n",
            "\n",
            "/sbin/ldconfig.real: /usr/local/lib/libur_adapter_opencl.so.0 is not a symbolic link\n",
            "\n",
            "/sbin/ldconfig.real: /usr/local/lib/libtcm_debug.so.1 is not a symbolic link\n",
            "\n",
            "Processing triggers for man-db (2.10.2-1) ...\n",
            "Reading package lists... Done\n",
            "Building dependency tree... Done\n",
            "Reading state information... Done\n",
            "libqt5opengl5-dev is already the newest version (5.15.3+dfsg-2ubuntu0.2).\n",
            "libqt5opengl5-dev set to manually installed.\n",
            "0 upgraded, 0 newly installed, 0 to remove and 34 not upgraded.\n",
            "Reading package lists... Done\n",
            "Building dependency tree... Done\n",
            "Reading state information... Done\n",
            "The following additional packages will be installed:\n",
            "  libgmp-dev libgmpxx4ldbl libmpfr-dev\n",
            "Suggested packages:\n",
            "  libmpfi-dev libntl-dev gmp-doc libgmp10-doc libmpfr-doc\n",
            "The following NEW packages will be installed:\n",
            "  libcgal-dev libgmp-dev libgmpxx4ldbl libmpfr-dev\n",
            "0 upgraded, 4 newly installed, 0 to remove and 34 not upgraded.\n",
            "Need to get 5,402 kB of archives.\n",
            "After this operation, 43.7 MB of additional disk space will be used.\n",
            "Get:1 http://archive.ubuntu.com/ubuntu jammy/main amd64 libgmpxx4ldbl amd64 2:6.2.1+dfsg-3ubuntu1 [9,580 B]\n",
            "Get:2 http://archive.ubuntu.com/ubuntu jammy/main amd64 libgmp-dev amd64 2:6.2.1+dfsg-3ubuntu1 [337 kB]\n",
            "Get:3 http://archive.ubuntu.com/ubuntu jammy/main amd64 libmpfr-dev amd64 4.1.0-3build3 [271 kB]\n",
            "Get:4 http://archive.ubuntu.com/ubuntu jammy/universe amd64 libcgal-dev amd64 5.4-1 [4,784 kB]\n",
            "Fetched 5,402 kB in 2s (2,893 kB/s)\n",
            "debconf: unable to initialize frontend: Dialog\n",
            "debconf: (No usable dialog-like program is installed, so the dialog based frontend cannot be used. at /usr/share/perl5/Debconf/FrontEnd/Dialog.pm line 78, <> line 4.)\n",
            "debconf: falling back to frontend: Readline\n",
            "debconf: unable to initialize frontend: Readline\n",
            "debconf: (This frontend requires a controlling tty.)\n",
            "debconf: falling back to frontend: Teletype\n",
            "dpkg-preconfigure: unable to re-open stdin: \n",
            "Selecting previously unselected package libgmpxx4ldbl:amd64.\n",
            "(Reading database ... 131454 files and directories currently installed.)\n",
            "Preparing to unpack .../libgmpxx4ldbl_2%3a6.2.1+dfsg-3ubuntu1_amd64.deb ...\n",
            "Unpacking libgmpxx4ldbl:amd64 (2:6.2.1+dfsg-3ubuntu1) ...\n",
            "Selecting previously unselected package libgmp-dev:amd64.\n",
            "Preparing to unpack .../libgmp-dev_2%3a6.2.1+dfsg-3ubuntu1_amd64.deb ...\n",
            "Unpacking libgmp-dev:amd64 (2:6.2.1+dfsg-3ubuntu1) ...\n",
            "Selecting previously unselected package libmpfr-dev:amd64.\n",
            "Preparing to unpack .../libmpfr-dev_4.1.0-3build3_amd64.deb ...\n",
            "Unpacking libmpfr-dev:amd64 (4.1.0-3build3) ...\n",
            "Selecting previously unselected package libcgal-dev:amd64.\n",
            "Preparing to unpack .../libcgal-dev_5.4-1_amd64.deb ...\n",
            "Unpacking libcgal-dev:amd64 (5.4-1) ...\n",
            "Setting up libgmpxx4ldbl:amd64 (2:6.2.1+dfsg-3ubuntu1) ...\n",
            "Setting up libgmp-dev:amd64 (2:6.2.1+dfsg-3ubuntu1) ...\n",
            "Setting up libmpfr-dev:amd64 (4.1.0-3build3) ...\n",
            "Setting up libcgal-dev:amd64 (5.4-1) ...\n",
            "Processing triggers for man-db (2.10.2-1) ...\n",
            "Processing triggers for libc-bin (2.35-0ubuntu3.8) ...\n",
            "/sbin/ldconfig.real: /usr/local/lib/libtbbmalloc.so.2 is not a symbolic link\n",
            "\n",
            "/sbin/ldconfig.real: /usr/local/lib/libtcm.so.1 is not a symbolic link\n",
            "\n",
            "/sbin/ldconfig.real: /usr/local/lib/libur_loader.so.0 is not a symbolic link\n",
            "\n",
            "/sbin/ldconfig.real: /usr/local/lib/libtbbbind_2_5.so.3 is not a symbolic link\n",
            "\n",
            "/sbin/ldconfig.real: /usr/local/lib/libumf.so.0 is not a symbolic link\n",
            "\n",
            "/sbin/ldconfig.real: /usr/local/lib/libtbbmalloc_proxy.so.2 is not a symbolic link\n",
            "\n",
            "/sbin/ldconfig.real: /usr/local/lib/libtbbbind_2_0.so.3 is not a symbolic link\n",
            "\n",
            "/sbin/ldconfig.real: /usr/local/lib/libhwloc.so.15 is not a symbolic link\n",
            "\n",
            "/sbin/ldconfig.real: /usr/local/lib/libur_adapter_level_zero.so.0 is not a symbolic link\n",
            "\n",
            "/sbin/ldconfig.real: /usr/local/lib/libtbb.so.12 is not a symbolic link\n",
            "\n",
            "/sbin/ldconfig.real: /usr/local/lib/libtbbbind.so.3 is not a symbolic link\n",
            "\n",
            "/sbin/ldconfig.real: /usr/local/lib/libur_adapter_opencl.so.0 is not a symbolic link\n",
            "\n",
            "/sbin/ldconfig.real: /usr/local/lib/libtcm_debug.so.1 is not a symbolic link\n",
            "\n",
            "Reading package lists... Done\n",
            "Building dependency tree... Done\n",
            "Reading state information... Done\n",
            "The following additional packages will be installed:\n",
            "  libamd2 libbtf1 libcamd2 libccolamd2 libceres2 libcholmod3 libcolamd2\n",
            "  libcxsparse3 libgraphblas-dev libgraphblas6 libklu1 libldl2 libmongoose2\n",
            "  librbio2 libsliplu1 libspqr2 libsuitesparse-dev libsuitesparseconfig5\n",
            "  libumfpack5\n",
            "The following NEW packages will be installed:\n",
            "  libamd2 libbtf1 libcamd2 libccolamd2 libceres-dev libceres2 libcholmod3\n",
            "  libcolamd2 libcxsparse3 libgraphblas-dev libgraphblas6 libklu1 libldl2\n",
            "  libmongoose2 librbio2 libsliplu1 libspqr2 libsuitesparse-dev\n",
            "  libsuitesparseconfig5 libumfpack5\n",
            "0 upgraded, 20 newly installed, 0 to remove and 34 not upgraded.\n",
            "Need to get 24.2 MB of archives.\n",
            "After this operation, 184 MB of additional disk space will be used.\n",
            "Get:1 http://archive.ubuntu.com/ubuntu jammy/main amd64 libsuitesparseconfig5 amd64 1:5.10.1+dfsg-4build1 [10.4 kB]\n",
            "Get:2 http://archive.ubuntu.com/ubuntu jammy/universe amd64 libamd2 amd64 1:5.10.1+dfsg-4build1 [21.6 kB]\n",
            "Get:3 http://archive.ubuntu.com/ubuntu jammy/universe amd64 libbtf1 amd64 1:5.10.1+dfsg-4build1 [12.1 kB]\n",
            "Get:4 http://archive.ubuntu.com/ubuntu jammy/universe amd64 libcamd2 amd64 1:5.10.1+dfsg-4build1 [23.3 kB]\n",
            "Get:5 http://archive.ubuntu.com/ubuntu jammy/universe amd64 libccolamd2 amd64 1:5.10.1+dfsg-4build1 [25.2 kB]\n",
            "Get:6 http://archive.ubuntu.com/ubuntu jammy/main amd64 libcolamd2 amd64 1:5.10.1+dfsg-4build1 [18.0 kB]\n",
            "Get:7 http://archive.ubuntu.com/ubuntu jammy/universe amd64 libcholmod3 amd64 1:5.10.1+dfsg-4build1 [346 kB]\n",
            "Get:8 http://archive.ubuntu.com/ubuntu jammy/universe amd64 libcxsparse3 amd64 1:5.10.1+dfsg-4build1 [70.8 kB]\n",
            "Get:9 http://archive.ubuntu.com/ubuntu jammy/universe amd64 libspqr2 amd64 1:5.10.1+dfsg-4build1 [71.6 kB]\n",
            "Get:10 http://archive.ubuntu.com/ubuntu jammy/universe amd64 libceres2 amd64 2.0.0+dfsg1-5 [834 kB]\n",
            "Get:11 http://archive.ubuntu.com/ubuntu jammy/universe amd64 libklu1 amd64 1:5.10.1+dfsg-4build1 [77.6 kB]\n",
            "Get:12 http://archive.ubuntu.com/ubuntu jammy/universe amd64 libldl2 amd64 1:5.10.1+dfsg-4build1 [11.7 kB]\n",
            "Get:13 http://archive.ubuntu.com/ubuntu jammy/universe amd64 libmongoose2 amd64 1:5.10.1+dfsg-4build1 [33.5 kB]\n",
            "Get:14 http://archive.ubuntu.com/ubuntu jammy/universe amd64 libumfpack5 amd64 1:5.10.1+dfsg-4build1 [250 kB]\n",
            "Get:15 http://archive.ubuntu.com/ubuntu jammy/universe amd64 librbio2 amd64 1:5.10.1+dfsg-4build1 [26.6 kB]\n",
            "Get:16 http://archive.ubuntu.com/ubuntu jammy/universe amd64 libsliplu1 amd64 1:5.10.1+dfsg-4build1 [37.1 kB]\n",
            "Get:17 http://archive.ubuntu.com/ubuntu jammy/universe amd64 libsuitesparse-dev amd64 1:5.10.1+dfsg-4build1 [1,058 kB]\n",
            "Get:18 http://archive.ubuntu.com/ubuntu jammy/universe amd64 libceres-dev amd64 2.0.0+dfsg1-5 [1,177 kB]\n",
            "Get:19 http://archive.ubuntu.com/ubuntu jammy/universe amd64 libgraphblas6 amd64 6.1.4+dfsg-2 [20.1 MB]\n",
            "Get:20 http://archive.ubuntu.com/ubuntu jammy/universe amd64 libgraphblas-dev amd64 6.1.4+dfsg-2 [54.4 kB]\n",
            "Fetched 24.2 MB in 3s (9,095 kB/s)\n",
            "debconf: unable to initialize frontend: Dialog\n",
            "debconf: (No usable dialog-like program is installed, so the dialog based frontend cannot be used. at /usr/share/perl5/Debconf/FrontEnd/Dialog.pm line 78, <> line 20.)\n",
            "debconf: falling back to frontend: Readline\n",
            "debconf: unable to initialize frontend: Readline\n",
            "debconf: (This frontend requires a controlling tty.)\n",
            "debconf: falling back to frontend: Teletype\n",
            "dpkg-preconfigure: unable to re-open stdin: \n",
            "Selecting previously unselected package libsuitesparseconfig5:amd64.\n",
            "(Reading database ... 135315 files and directories currently installed.)\n",
            "Preparing to unpack .../00-libsuitesparseconfig5_1%3a5.10.1+dfsg-4build1_amd64.deb ...\n",
            "Unpacking libsuitesparseconfig5:amd64 (1:5.10.1+dfsg-4build1) ...\n",
            "Selecting previously unselected package libamd2:amd64.\n",
            "Preparing to unpack .../01-libamd2_1%3a5.10.1+dfsg-4build1_amd64.deb ...\n",
            "Unpacking libamd2:amd64 (1:5.10.1+dfsg-4build1) ...\n",
            "Selecting previously unselected package libbtf1:amd64.\n",
            "Preparing to unpack .../02-libbtf1_1%3a5.10.1+dfsg-4build1_amd64.deb ...\n",
            "Unpacking libbtf1:amd64 (1:5.10.1+dfsg-4build1) ...\n",
            "Selecting previously unselected package libcamd2:amd64.\n",
            "Preparing to unpack .../03-libcamd2_1%3a5.10.1+dfsg-4build1_amd64.deb ...\n",
            "Unpacking libcamd2:amd64 (1:5.10.1+dfsg-4build1) ...\n",
            "Selecting previously unselected package libccolamd2:amd64.\n",
            "Preparing to unpack .../04-libccolamd2_1%3a5.10.1+dfsg-4build1_amd64.deb ...\n",
            "Unpacking libccolamd2:amd64 (1:5.10.1+dfsg-4build1) ...\n",
            "Selecting previously unselected package libcolamd2:amd64.\n",
            "Preparing to unpack .../05-libcolamd2_1%3a5.10.1+dfsg-4build1_amd64.deb ...\n",
            "Unpacking libcolamd2:amd64 (1:5.10.1+dfsg-4build1) ...\n",
            "Selecting previously unselected package libcholmod3:amd64.\n",
            "Preparing to unpack .../06-libcholmod3_1%3a5.10.1+dfsg-4build1_amd64.deb ...\n",
            "Unpacking libcholmod3:amd64 (1:5.10.1+dfsg-4build1) ...\n",
            "Selecting previously unselected package libcxsparse3:amd64.\n",
            "Preparing to unpack .../07-libcxsparse3_1%3a5.10.1+dfsg-4build1_amd64.deb ...\n",
            "Unpacking libcxsparse3:amd64 (1:5.10.1+dfsg-4build1) ...\n",
            "Selecting previously unselected package libspqr2:amd64.\n",
            "Preparing to unpack .../08-libspqr2_1%3a5.10.1+dfsg-4build1_amd64.deb ...\n",
            "Unpacking libspqr2:amd64 (1:5.10.1+dfsg-4build1) ...\n",
            "Selecting previously unselected package libceres2.\n",
            "Preparing to unpack .../09-libceres2_2.0.0+dfsg1-5_amd64.deb ...\n",
            "Unpacking libceres2 (2.0.0+dfsg1-5) ...\n",
            "Selecting previously unselected package libklu1:amd64.\n",
            "Preparing to unpack .../10-libklu1_1%3a5.10.1+dfsg-4build1_amd64.deb ...\n",
            "Unpacking libklu1:amd64 (1:5.10.1+dfsg-4build1) ...\n",
            "Selecting previously unselected package libldl2:amd64.\n",
            "Preparing to unpack .../11-libldl2_1%3a5.10.1+dfsg-4build1_amd64.deb ...\n",
            "Unpacking libldl2:amd64 (1:5.10.1+dfsg-4build1) ...\n",
            "Selecting previously unselected package libmongoose2:amd64.\n",
            "Preparing to unpack .../12-libmongoose2_1%3a5.10.1+dfsg-4build1_amd64.deb ...\n",
            "Unpacking libmongoose2:amd64 (1:5.10.1+dfsg-4build1) ...\n",
            "Selecting previously unselected package libumfpack5:amd64.\n",
            "Preparing to unpack .../13-libumfpack5_1%3a5.10.1+dfsg-4build1_amd64.deb ...\n",
            "Unpacking libumfpack5:amd64 (1:5.10.1+dfsg-4build1) ...\n",
            "Selecting previously unselected package librbio2:amd64.\n",
            "Preparing to unpack .../14-librbio2_1%3a5.10.1+dfsg-4build1_amd64.deb ...\n",
            "Unpacking librbio2:amd64 (1:5.10.1+dfsg-4build1) ...\n",
            "Selecting previously unselected package libsliplu1:amd64.\n",
            "Preparing to unpack .../15-libsliplu1_1%3a5.10.1+dfsg-4build1_amd64.deb ...\n",
            "Unpacking libsliplu1:amd64 (1:5.10.1+dfsg-4build1) ...\n",
            "Selecting previously unselected package libsuitesparse-dev:amd64.\n",
            "Preparing to unpack .../16-libsuitesparse-dev_1%3a5.10.1+dfsg-4build1_amd64.deb ...\n",
            "Unpacking libsuitesparse-dev:amd64 (1:5.10.1+dfsg-4build1) ...\n",
            "Selecting previously unselected package libceres-dev.\n",
            "Preparing to unpack .../17-libceres-dev_2.0.0+dfsg1-5_amd64.deb ...\n",
            "Unpacking libceres-dev (2.0.0+dfsg1-5) ...\n",
            "Selecting previously unselected package libgraphblas6:amd64.\n",
            "Preparing to unpack .../18-libgraphblas6_6.1.4+dfsg-2_amd64.deb ...\n",
            "Unpacking libgraphblas6:amd64 (6.1.4+dfsg-2) ...\n",
            "Selecting previously unselected package libgraphblas-dev:amd64.\n",
            "Preparing to unpack .../19-libgraphblas-dev_6.1.4+dfsg-2_amd64.deb ...\n",
            "Unpacking libgraphblas-dev:amd64 (6.1.4+dfsg-2) ...\n",
            "Setting up libgraphblas6:amd64 (6.1.4+dfsg-2) ...\n",
            "Setting up libldl2:amd64 (1:5.10.1+dfsg-4build1) ...\n",
            "Setting up libbtf1:amd64 (1:5.10.1+dfsg-4build1) ...\n",
            "Setting up libgraphblas-dev:amd64 (6.1.4+dfsg-2) ...\n",
            "Setting up libcxsparse3:amd64 (1:5.10.1+dfsg-4build1) ...\n",
            "Setting up libsuitesparseconfig5:amd64 (1:5.10.1+dfsg-4build1) ...\n",
            "Setting up librbio2:amd64 (1:5.10.1+dfsg-4build1) ...\n",
            "Setting up libamd2:amd64 (1:5.10.1+dfsg-4build1) ...\n",
            "Setting up libcolamd2:amd64 (1:5.10.1+dfsg-4build1) ...\n",
            "Setting up libsliplu1:amd64 (1:5.10.1+dfsg-4build1) ...\n",
            "Setting up libcamd2:amd64 (1:5.10.1+dfsg-4build1) ...\n",
            "Setting up libmongoose2:amd64 (1:5.10.1+dfsg-4build1) ...\n",
            "Setting up libklu1:amd64 (1:5.10.1+dfsg-4build1) ...\n",
            "Setting up libccolamd2:amd64 (1:5.10.1+dfsg-4build1) ...\n",
            "Setting up libcholmod3:amd64 (1:5.10.1+dfsg-4build1) ...\n",
            "Setting up libspqr2:amd64 (1:5.10.1+dfsg-4build1) ...\n",
            "Setting up libumfpack5:amd64 (1:5.10.1+dfsg-4build1) ...\n",
            "Setting up libceres2 (2.0.0+dfsg1-5) ...\n",
            "Setting up libsuitesparse-dev:amd64 (1:5.10.1+dfsg-4build1) ...\n",
            "Setting up libceres-dev (2.0.0+dfsg1-5) ...\n",
            "Processing triggers for libc-bin (2.35-0ubuntu3.8) ...\n",
            "/sbin/ldconfig.real: /usr/local/lib/libtbbmalloc.so.2 is not a symbolic link\n",
            "\n",
            "/sbin/ldconfig.real: /usr/local/lib/libtcm.so.1 is not a symbolic link\n",
            "\n",
            "/sbin/ldconfig.real: /usr/local/lib/libur_loader.so.0 is not a symbolic link\n",
            "\n",
            "/sbin/ldconfig.real: /usr/local/lib/libtbbbind_2_5.so.3 is not a symbolic link\n",
            "\n",
            "/sbin/ldconfig.real: /usr/local/lib/libumf.so.0 is not a symbolic link\n",
            "\n",
            "/sbin/ldconfig.real: /usr/local/lib/libtbbmalloc_proxy.so.2 is not a symbolic link\n",
            "\n",
            "/sbin/ldconfig.real: /usr/local/lib/libtbbbind_2_0.so.3 is not a symbolic link\n",
            "\n",
            "/sbin/ldconfig.real: /usr/local/lib/libhwloc.so.15 is not a symbolic link\n",
            "\n",
            "/sbin/ldconfig.real: /usr/local/lib/libur_adapter_level_zero.so.0 is not a symbolic link\n",
            "\n",
            "/sbin/ldconfig.real: /usr/local/lib/libtbb.so.12 is not a symbolic link\n",
            "\n",
            "/sbin/ldconfig.real: /usr/local/lib/libtbbbind.so.3 is not a symbolic link\n",
            "\n",
            "/sbin/ldconfig.real: /usr/local/lib/libur_adapter_opencl.so.0 is not a symbolic link\n",
            "\n",
            "/sbin/ldconfig.real: /usr/local/lib/libtcm_debug.so.1 is not a symbolic link\n",
            "\n"
          ]
        }
      ]
    },
    {
      "cell_type": "markdown",
      "source": [
        "### Clone Colmap Repository"
      ],
      "metadata": {
        "id": "RvDoTZCPo5GM"
      }
    },
    {
      "cell_type": "code",
      "source": [
        "!pwd\n",
        "!git clone https://github.com/colmap/colmap.git\n",
        "%cd colmap"
      ],
      "metadata": {
        "id": "riyE2mW6szLV",
        "colab": {
          "base_uri": "https://localhost:8080/"
        },
        "outputId": "ffe218e6-5363-4844-da49-a67fa39ead44"
      },
      "execution_count": 3,
      "outputs": [
        {
          "output_type": "stream",
          "name": "stdout",
          "text": [
            "/content\n",
            "Cloning into 'colmap'...\n",
            "remote: Enumerating objects: 27774, done.\u001b[K\n",
            "remote: Counting objects: 100% (327/327), done.\u001b[K\n",
            "remote: Compressing objects: 100% (187/187), done.\u001b[K\n",
            "remote: Total 27774 (delta 235), reused 173 (delta 140), pack-reused 27447 (from 3)\u001b[K\n",
            "Receiving objects: 100% (27774/27774), 70.95 MiB | 17.09 MiB/s, done.\n",
            "Resolving deltas: 100% (21422/21422), done.\n",
            "/content/colmap\n"
          ]
        }
      ]
    },
    {
      "cell_type": "markdown",
      "source": [
        "### Build and Install Colmap From Source (May Take Up to 30 Minutes 😵)\n"
      ],
      "metadata": {
        "id": "n16SF42otKRy"
      }
    },
    {
      "cell_type": "code",
      "source": [
        "!pwd\n",
        "!mkdir build\n",
        "%cd build\n",
        "!cmake -GNinja ..\n",
        "!ninja\n",
        "!sudo ninja install"
      ],
      "metadata": {
        "id": "X4gU337Hs5SA",
        "colab": {
          "base_uri": "https://localhost:8080/"
        },
        "outputId": "5a00e1c1-5978-4eba-cc85-ab971c8d6620"
      },
      "execution_count": 4,
      "outputs": [
        {
          "output_type": "stream",
          "name": "stdout",
          "text": [
            "/content/colmap\n",
            "/content/colmap/build\n",
            "-- Enabling LSD support\n",
            "-- The C compiler identification is GNU 11.4.0\n",
            "-- The CXX compiler identification is GNU 11.4.0\n",
            "-- Detecting C compiler ABI info\n",
            "-- Detecting C compiler ABI info - done\n",
            "-- Check for working C compiler: /usr/bin/cc - skipped\n",
            "-- Detecting C compile features\n",
            "-- Detecting C compile features - done\n",
            "-- Detecting CXX compiler ABI info\n",
            "-- Detecting CXX compiler ABI info - done\n",
            "-- Check for working CXX compiler: /usr/bin/c++ - skipped\n",
            "-- Detecting CXX compile features\n",
            "-- Detecting CXX compile features - done\n",
            "-- Found FreeImage\n",
            "--   Includes : /usr/include\n",
            "--   Libraries : /usr/lib/x86_64-linux-gnu/libfreeimage.so\n",
            "-- Found FLANN\n",
            "--   Includes : /usr/include\n",
            "--   Libraries : /usr/lib/x86_64-linux-gnu/libflann.so\n",
            "-- Found LZ4\n",
            "--   Includes : /usr/include\n",
            "--   Libraries : /usr/lib/x86_64-linux-gnu/liblz4.so\n",
            "-- Found Metis\n",
            "--   Includes : /usr/include\n",
            "--   Libraries : /usr/lib/x86_64-linux-gnu/libmetis.so\n",
            "-- Found Glog\n",
            "--   Target : glog::glog\n",
            "-- Found SQLite3: /usr/include (found version \"3.37.2\")\n",
            "-- Found OpenGL: /usr/lib/x86_64-linux-gnu/libOpenGL.so\n",
            "-- Found Glew\n",
            "--   Includes : /usr/include\n",
            "--   Libraries : /usr/lib/x86_64-linux-gnu/libGLEW.so\n",
            "-- Found Git: /usr/bin/git (found version \"2.34.1\")\n",
            "-- Performing Test CMAKE_HAVE_LIBC_PTHREAD\n",
            "-- Performing Test CMAKE_HAVE_LIBC_PTHREAD - Success\n",
            "-- Found Threads: TRUE\n",
            "-- Found required Ceres dependency: Eigen version 3.4.0 in /usr/include/eigen3\n",
            "-- Found required Ceres dependency: glog\n",
            "-- Found required Ceres dependency: gflags\n",
            "-- Found Ceres version: 2.0.0 installed in: /usr with components: [EigenSparse, SparseLinearAlgebraLibrary, LAPACK, SuiteSparse, CXSparse, SchurSpecializations, Multithreading]\n",
            "-- Enabling OpenMP support\n",
            "-- Using header-only CGAL\n",
            "-- Targetting Ninja\n",
            "-- Using /usr/bin/c++ compiler.\n",
            "-- Found GMP: /usr/lib/x86_64-linux-gnu/libgmp.so\n",
            "-- Found MPFR: /usr/lib/x86_64-linux-gnu/libmpfr.so\n",
            "-- Boost include dirs: /usr/include\n",
            "-- Boost libraries:    \n",
            "-- Using gcc version 4 or later. Adding -frounding-math\n",
            "-- Found CGAL\n",
            "--   Includes : /usr/include\n",
            "--   Libraries : CGAL\n",
            "-- Enabling download support\n",
            "-- The CUDA compiler identification is NVIDIA 12.5.82 with host compiler GNU 11.4.0\n",
            "-- Detecting CUDA compiler ABI info\n",
            "-- Detecting CUDA compiler ABI info - done\n",
            "-- Check for working CUDA compiler: /usr/local/cuda/bin/nvcc - skipped\n",
            "-- Detecting CUDA compile features\n",
            "-- Detecting CUDA compile features - done\n",
            "-- Enabling CUDA support (version: 12.5.82, archs: native)\n",
            "-- Found Qt\n",
            "--   Module : /usr/lib/x86_64-linux-gnu/cmake/Qt5Core\n",
            "--   Module : /usr/lib/x86_64-linux-gnu/cmake/Qt5OpenGL\n",
            "--   Module : /usr/lib/x86_64-linux-gnu/cmake/Qt5Widgets\n",
            "-- Enabling GUI support\n",
            "-- Enabling OpenGL support\n",
            "-- Enabling GPU support (OpenGL: ON, CUDA: ON)\n",
            "-- Build type not specified, using Release\n",
            "-- Enabling SIMD support\n",
            "-- Disabling interprocedural optimization\n",
            "-- Disabling ccache support\n",
            "-- Disabling profiling support\n",
            "-- Disabling tests\n",
            "-- Disabling coverage support\n",
            "-- Configuring PoseLib...\n",
            "-- BUILD_SHARED_LIBS: OFF\n",
            "-- CMAKE_BUILD_TYPE: Release\n",
            "-- CMAKE_GENERATOR: Single-config\n",
            "-- CMAKE_GENERATOR: Ninja\n",
            "-- CMAKE_REGISTRY_FOLDER: OFF\n",
            "-- Found Eigen3: /usr/include/eigen3 (found suitable version \"3.4.0\", minimum required is \"3.1.0\")\n",
            "-- Configuring PoseLib... done\n",
            "-- Configuring done (5.4s)\n",
            "-- Generating done (0.1s)\n",
            "-- Build files have been written to: /content/colmap/build\n",
            "[30/278] Building CXX object src/colmap/exe/CMakeFiles/colmap_exe.dir/sfm.cc.o\u001b[K\n",
            "In file included from /usr/include/boost/smart_ptr/detail/sp_thread_sleep.hpp:22,\n",
            "                 from /usr/include/boost/smart_ptr/detail/yield_k.hpp:23,\n",
            "                 from /usr/include/boost/smart_ptr/detail/spinlock_gcc_atomic.hpp:14,\n",
            "                 from /usr/include/boost/smart_ptr/detail/spinlock.hpp:42,\n",
            "                 from /usr/include/boost/smart_ptr/detail/spinlock_pool.hpp:25,\n",
            "                 from /usr/include/boost/smart_ptr/shared_ptr.hpp:29,\n",
            "                 from /usr/include/boost/shared_ptr.hpp:17,\n",
            "                 from /usr/include/boost/program_options/options_description.hpp:16,\n",
            "                 from /usr/include/boost/program_options.hpp:15,\n",
            "                 from /content/colmap/src/colmap/controllers/option_manager.h:36,\n",
            "                 from /content/colmap/src/colmap/controllers/automatic_reconstruction.h:32,\n",
            "                 from /content/colmap/src/colmap/exe/sfm.cc:32:\n",
            "/usr/include/boost/bind.hpp:36:1: note: ‘#pragma message: The practice of declaring the Bind placeholders (_1, _2, ...) in the global namespace is deprecated. Please use <boost/bind/bind.hpp> + using namespace boost::placeholders, or define BOOST_BIND_GLOBAL_PLACEHOLDERS to retain the current behavior.’\n",
            "   36 | BOOST_PRAGMA_MESSAGE(\n",
            "      | ^~~~~~~~~~~~~~~~~~~~\n",
            "[89/278] Building CXX object src/colmap/scene/CMakeFiles/colmap_scene.dir/rig.cc.o\u001b[K\n",
            "In file included from /usr/include/boost/bind.hpp:30,\n",
            "                 from /usr/include/boost/property_tree/json_parser/detail/parser.hpp:7,\n",
            "                 from /usr/include/boost/property_tree/json_parser/detail/read.hpp:13,\n",
            "                 from /usr/include/boost/property_tree/json_parser.hpp:16,\n",
            "                 from /content/colmap/src/colmap/scene/rig.cc:34:\n",
            "/usr/include/boost/bind.hpp:36:1: note: ‘#pragma message: The practice of declaring the Bind placeholders (_1, _2, ...) in the global namespace is deprecated. Please use <boost/bind/bind.hpp> + using namespace boost::placeholders, or define BOOST_BIND_GLOBAL_PLACEHOLDERS to retain the current behavior.’\n",
            "   36 | BOOST_PRAGMA_MESSAGE(\n",
            "      | ^~~~~~~~~~~~~~~~~~~~\n",
            "[242/278] Building CXX object src/colmap/exe/CMakeFiles/colmap_main.dir/sfm.cc.o\u001b[K\n",
            "In file included from /usr/include/boost/smart_ptr/detail/sp_thread_sleep.hpp:22,\n",
            "                 from /usr/include/boost/smart_ptr/detail/yield_k.hpp:23,\n",
            "                 from /usr/include/boost/smart_ptr/detail/spinlock_gcc_atomic.hpp:14,\n",
            "                 from /usr/include/boost/smart_ptr/detail/spinlock.hpp:42,\n",
            "                 from /usr/include/boost/smart_ptr/detail/spinlock_pool.hpp:25,\n",
            "                 from /usr/include/boost/smart_ptr/shared_ptr.hpp:29,\n",
            "                 from /usr/include/boost/shared_ptr.hpp:17,\n",
            "                 from /usr/include/boost/program_options/options_description.hpp:16,\n",
            "                 from /usr/include/boost/program_options.hpp:15,\n",
            "                 from /content/colmap/src/colmap/controllers/option_manager.h:36,\n",
            "                 from /content/colmap/src/colmap/controllers/automatic_reconstruction.h:32,\n",
            "                 from /content/colmap/src/colmap/exe/sfm.cc:32:\n",
            "/usr/include/boost/bind.hpp:36:1: note: ‘#pragma message: The practice of declaring the Bind placeholders (_1, _2, ...) in the global namespace is deprecated. Please use <boost/bind/bind.hpp> + using namespace boost::placeholders, or define BOOST_BIND_GLOBAL_PLACEHOLDERS to retain the current behavior.’\n",
            "   36 | BOOST_PRAGMA_MESSAGE(\n",
            "      | ^~~~~~~~~~~~~~~~~~~~\n",
            "[243/278] Building CXX object src/colmap/exe/CMakeFiles/colmap_main.dir/database.cc.o\u001b[K\n",
            "In file included from /usr/include/boost/smart_ptr/detail/sp_thread_sleep.hpp:22,\n",
            "                 from /usr/include/boost/smart_ptr/detail/yield_k.hpp:23,\n",
            "                 from /usr/include/boost/smart_ptr/detail/spinlock_gcc_atomic.hpp:14,\n",
            "                 from /usr/include/boost/smart_ptr/detail/spinlock.hpp:42,\n",
            "                 from /usr/include/boost/smart_ptr/detail/spinlock_pool.hpp:25,\n",
            "                 from /usr/include/boost/smart_ptr/shared_ptr.hpp:29,\n",
            "                 from /usr/include/boost/shared_ptr.hpp:17,\n",
            "                 from /usr/include/boost/program_options/options_description.hpp:16,\n",
            "                 from /usr/include/boost/program_options.hpp:15,\n",
            "                 from /content/colmap/src/colmap/controllers/option_manager.h:36,\n",
            "                 from /content/colmap/src/colmap/exe/database.cc:32:\n",
            "/usr/include/boost/bind.hpp:36:1: note: ‘#pragma message: The practice of declaring the Bind placeholders (_1, _2, ...) in the global namespace is deprecated. Please use <boost/bind/bind.hpp> + using namespace boost::placeholders, or define BOOST_BIND_GLOBAL_PLACEHOLDERS to retain the current behavior.’\n",
            "   36 | BOOST_PRAGMA_MESSAGE(\n",
            "      | ^~~~~~~~~~~~~~~~~~~~\n",
            "[278/278] Linking CXX executable src/colmap/exe/colmap\u001b[K\n",
            "\u001b[31mFAILED: \u001b[0msrc/colmap/exe/colmap \n",
            ": && /usr/bin/c++ -Wall -O3 -DNDEBUG  src/colmap/exe/CMakeFiles/colmap_main.dir/feature.cc.o src/colmap/exe/CMakeFiles/colmap_main.dir/sfm.cc.o src/colmap/exe/CMakeFiles/colmap_main.dir/colmap.cc.o src/colmap/exe/CMakeFiles/colmap_main.dir/database.cc.o src/colmap/exe/CMakeFiles/colmap_main.dir/gui.cc.o src/colmap/exe/CMakeFiles/colmap_main.dir/image.cc.o src/colmap/exe/CMakeFiles/colmap_main.dir/model.cc.o src/colmap/exe/CMakeFiles/colmap_main.dir/mvs.cc.o src/colmap/exe/CMakeFiles/colmap_main.dir/vocab_tree.cc.o -o src/colmap/exe/colmap -L/usr/local/cuda/targets/x86_64-linux/lib -Wl,-rpath,/usr/local/cuda-12.5/targets/x86_64-linux/lib:  src/colmap/controllers/libcolmap_controllers.a  src/colmap/retrieval/libcolmap_retrieval.a  src/colmap/scene/libcolmap_scene.a  src/colmap/sfm/libcolmap_sfm.a  src/colmap/util/libcolmap_util.a  src/colmap/util/libcolmap_util_cuda.a  src/colmap/mvs/libcolmap_mvs_cuda.a  src/colmap/ui/libcolmap_ui.a  src/colmap/controllers/libcolmap_controllers.a  src/colmap/sfm/libcolmap_sfm.a  src/colmap/mvs/libcolmap_mvs.a  src/thirdparty/PoissonRecon/libcolmap_poisson_recon.a  /usr/lib/x86_64-linux-gnu/libgmpxx.so  /usr/lib/x86_64-linux-gnu/libmpfr.so  /usr/lib/x86_64-linux-gnu/libgmp.so  src/colmap/feature/libcolmap_feature.a  src/colmap/retrieval/libcolmap_retrieval.a  src/colmap/estimators/libcolmap_estimators.a  src/colmap/util/libcolmap_util_cuda.a  _deps/poselib-build/PoseLib/libPoseLib.a  src/colmap/optim/libcolmap_optim.a  /usr/lib/x86_64-linux-gnu/libflann.so  /usr/lib/x86_64-linux-gnu/liblz4.so  src/thirdparty/SiftGPU/libcolmap_sift_gpu.a  /usr/local/cuda-12.5/targets/x86_64-linux/lib/libcudart.so  -ldl  /usr/lib/x86_64-linux-gnu/librt.a  /usr/local/cuda-12.5/targets/x86_64-linux/lib/libcurand.so  /usr/lib/x86_64-linux-gnu/libGLEW.so  /usr/lib/x86_64-linux-gnu/libboost_program_options.so.1.74.0  src/colmap/image/libcolmap_image.a  src/colmap/scene/libcolmap_scene.a  src/colmap/feature/libcolmap_feature_types.a  src/colmap/sensor/libcolmap_sensor.a  /usr/lib/libceres.so.2.0.0  src/colmap/geometry/libcolmap_geometry.a  src/colmap/math/libcolmap_math.a  src/colmap/util/libcolmap_util.a  /usr/lib/x86_64-linux-gnu/libsqlite3.so  /usr/lib/x86_64-linux-gnu/libglog.so.0.4.0  /usr/lib/x86_64-linux-gnu/libgflags.so.2.2.2  -lpthread  /usr/lib/x86_64-linux-gnu/libunwind.so  /usr/lib/x86_64-linux-gnu/libcurl.so  /usr/lib/x86_64-linux-gnu/libcrypto.so  /usr/lib/x86_64-linux-gnu/libGLX.so  /usr/lib/x86_64-linux-gnu/libOpenGL.so  /usr/lib/x86_64-linux-gnu/libmetis.so  /usr/lib/x86_64-linux-gnu/libboost_graph.so.1.74.0  /usr/lib/x86_64-linux-gnu/libboost_regex.so.1.74.0  src/thirdparty/VLFeat/libcolmap_vlfeat.a  /usr/lib/gcc/x86_64-linux-gnu/11/libgomp.so  /usr/lib/x86_64-linux-gnu/libpthread.a  /usr/lib/x86_64-linux-gnu/libfreeimage.so  src/thirdparty/LSD/libcolmap_lsd.a  /usr/lib/x86_64-linux-gnu/libQt5OpenGL.so.5.15.3  /usr/lib/x86_64-linux-gnu/libQt5Widgets.so.5.15.3  /usr/lib/x86_64-linux-gnu/libQt5Gui.so.5.15.3  /usr/lib/x86_64-linux-gnu/libQt5Core.so.5.15.3  -lcudadevrt  -lcudart_static  -lrt  -lpthread  -ldl && :\n",
            "/usr/bin/ld: /usr/lib/x86_64-linux-gnu/libOpenGL.so: undefined reference to `_glapi_tls_Current'\n",
            "collect2: error: ld returned 1 exit status\n",
            "ninja: build stopped: subcommand failed.\n",
            "[1/2] Install the project...\u001b[K\n",
            "-- Install configuration: \"Release\"\n",
            "-- Installing: /usr/local/share/applications/COLMAP.desktop\n",
            "-- Installing: /usr/local/lib/libcolmap_controllers.a\n",
            "-- Installing: /usr/local/lib/libcolmap_estimators.a\n",
            "-- Installing: /usr/local/lib/libcolmap_exe.a\n",
            "-- Installing: /usr/local/lib/libcolmap_feature_types.a\n",
            "-- Installing: /usr/local/lib/libcolmap_feature.a\n",
            "-- Installing: /usr/local/lib/libcolmap_geometry.a\n",
            "-- Installing: /usr/local/lib/libcolmap_image.a\n",
            "-- Installing: /usr/local/lib/libcolmap_math.a\n",
            "-- Installing: /usr/local/lib/libcolmap_mvs.a\n",
            "-- Installing: /usr/local/lib/libcolmap_optim.a\n",
            "-- Installing: /usr/local/lib/libcolmap_retrieval.a\n",
            "-- Installing: /usr/local/lib/libcolmap_scene.a\n",
            "-- Installing: /usr/local/lib/libcolmap_sensor.a\n",
            "-- Installing: /usr/local/lib/libcolmap_sfm.a\n",
            "-- Installing: /usr/local/lib/libcolmap_util.a\n",
            "-- Installing: /usr/local/lib/libcolmap_poisson_recon.a\n",
            "-- Installing: /usr/local/lib/libcolmap_vlfeat.a\n",
            "-- Installing: /usr/local/lib/libcolmap_lsd.a\n",
            "-- Installing: /usr/local/lib/libcolmap_ui.a\n",
            "-- Installing: /usr/local/lib/libcolmap_util_cuda.a\n",
            "-- Installing: /usr/local/lib/libcolmap_mvs_cuda.a\n",
            "-- Installing: /usr/local/lib/libcolmap_sift_gpu.a\n",
            "-- Installing: /usr/local/lib/libPoseLib.a\n",
            "-- Installing: /usr/local/share/colmap/colmap-config.cmake\n",
            "-- Installing: /usr/local/share/colmap/colmap-config-version.cmake\n",
            "-- Installing: /usr/local/share/colmap/colmap-targets.cmake\n",
            "-- Installing: /usr/local/share/colmap/colmap-targets-release.cmake\n",
            "-- Installing: /usr/local/include/colmap\n",
            "-- Installing: /usr/local/include/colmap/estimators\n",
            "-- Installing: /usr/local/include/colmap/estimators/homography_matrix.h\n",
            "-- Installing: /usr/local/include/colmap/estimators/euclidean_transform.h\n",
            "-- Installing: /usr/local/include/colmap/estimators/similarity_transform.h\n",
            "-- Installing: /usr/local/include/colmap/estimators/utils.h\n",
            "-- Installing: /usr/local/include/colmap/estimators/essential_matrix_poly.h\n",
            "-- Installing: /usr/local/include/colmap/estimators/translation_transform.h\n",
            "-- Installing: /usr/local/include/colmap/estimators/triangulation.h\n",
            "-- Installing: /usr/local/include/colmap/estimators/generalized_absolute_pose.h\n",
            "-- Installing: /usr/local/include/colmap/estimators/essential_matrix_coeffs.h\n",
            "-- Installing: /usr/local/include/colmap/estimators/alignment.h\n",
            "-- Installing: /usr/local/include/colmap/estimators/cost_functions.h\n",
            "-- Installing: /usr/local/include/colmap/estimators/fundamental_matrix.h\n",
            "-- Installing: /usr/local/include/colmap/estimators/manifold.h\n",
            "-- Installing: /usr/local/include/colmap/estimators/bundle_adjustment.h\n",
            "-- Installing: /usr/local/include/colmap/estimators/generalized_relative_pose.h\n",
            "-- Installing: /usr/local/include/colmap/estimators/generalized_pose.h\n",
            "-- Installing: /usr/local/include/colmap/estimators/absolute_pose.h\n",
            "-- Installing: /usr/local/include/colmap/estimators/essential_matrix.h\n",
            "-- Installing: /usr/local/include/colmap/estimators/affine_transform.h\n",
            "-- Installing: /usr/local/include/colmap/estimators/covariance.h\n",
            "-- Installing: /usr/local/include/colmap/estimators/coordinate_frame.h\n",
            "-- Installing: /usr/local/include/colmap/estimators/pose.h\n",
            "-- Installing: /usr/local/include/colmap/estimators/two_view_geometry.h\n",
            "-- Installing: /usr/local/include/colmap/tools\n",
            "-- Installing: /usr/local/include/colmap/image\n",
            "-- Installing: /usr/local/include/colmap/image/warp.h\n",
            "-- Installing: /usr/local/include/colmap/image/undistortion.h\n",
            "-- Installing: /usr/local/include/colmap/image/line.h\n",
            "-- Installing: /usr/local/include/colmap/sfm\n",
            "-- Installing: /usr/local/include/colmap/sfm/incremental_triangulator.h\n",
            "-- Installing: /usr/local/include/colmap/sfm/incremental_mapper.h\n",
            "-- Installing: /usr/local/include/colmap/sfm/incremental_mapper_impl.h\n",
            "-- Installing: /usr/local/include/colmap/sfm/observation_manager.h\n",
            "-- Installing: /usr/local/include/colmap/scene\n",
            "-- Installing: /usr/local/include/colmap/scene/database.h\n",
            "-- Installing: /usr/local/include/colmap/scene/camera.h\n",
            "-- Installing: /usr/local/include/colmap/scene/frame.h\n",
            "-- Installing: /usr/local/include/colmap/scene/reconstruction_io.h\n",
            "-- Installing: /usr/local/include/colmap/scene/scene_clustering.h\n",
            "-- Installing: /usr/local/include/colmap/scene/rig.h\n",
            "-- Installing: /usr/local/include/colmap/scene/image.h\n",
            "-- Installing: /usr/local/include/colmap/scene/visibility_pyramid.h\n",
            "-- Installing: /usr/local/include/colmap/scene/database_cache.h\n",
            "-- Installing: /usr/local/include/colmap/scene/synthetic.h\n",
            "-- Installing: /usr/local/include/colmap/scene/reconstruction_io_text.h\n",
            "-- Installing: /usr/local/include/colmap/scene/projection.h\n",
            "-- Installing: /usr/local/include/colmap/scene/reconstruction_io_utils.h\n",
            "-- Installing: /usr/local/include/colmap/scene/reconstruction.h\n",
            "-- Installing: /usr/local/include/colmap/scene/correspondence_graph.h\n",
            "-- Installing: /usr/local/include/colmap/scene/reconstruction_manager.h\n",
            "-- Installing: /usr/local/include/colmap/scene/reconstruction_io_binary.h\n",
            "-- Installing: /usr/local/include/colmap/scene/point3d.h\n",
            "-- Installing: /usr/local/include/colmap/scene/point2d.h\n",
            "-- Installing: /usr/local/include/colmap/scene/two_view_geometry.h\n",
            "-- Installing: /usr/local/include/colmap/scene/track.h\n",
            "-- Installing: /usr/local/include/colmap/feature\n",
            "-- Installing: /usr/local/include/colmap/feature/index.h\n",
            "-- Installing: /usr/local/include/colmap/feature/utils.h\n",
            "-- Installing: /usr/local/include/colmap/feature/extractor.h\n",
            "-- Installing: /usr/local/include/colmap/feature/types.h\n",
            "-- Installing: /usr/local/include/colmap/feature/matcher.h\n",
            "-- Installing: /usr/local/include/colmap/feature/pairing.h\n",
            "-- Installing: /usr/local/include/colmap/feature/sift.h\n",
            "-- Installing: /usr/local/include/colmap/mvs\n",
            "-- Installing: /usr/local/include/colmap/mvs/normal_map.h\n",
            "-- Installing: /usr/local/include/colmap/mvs/model.h\n",
            "-- Installing: /usr/local/include/colmap/mvs/mat.h\n",
            "-- Installing: /usr/local/include/colmap/mvs/cuda_flip.h\n",
            "-- Installing: /usr/local/include/colmap/mvs/patch_match.h\n",
            "-- Installing: /usr/local/include/colmap/mvs/image.h\n",
            "-- Installing: /usr/local/include/colmap/mvs/workspace.h\n",
            "-- Installing: /usr/local/include/colmap/mvs/patch_match_options.h\n",
            "-- Installing: /usr/local/include/colmap/mvs/consistency_graph.h\n",
            "-- Installing: /usr/local/include/colmap/mvs/depth_map.h\n",
            "-- Installing: /usr/local/include/colmap/mvs/gpu_mat_ref_image.h\n",
            "-- Installing: /usr/local/include/colmap/mvs/cuda_texture.h\n",
            "-- Installing: /usr/local/include/colmap/mvs/patch_match_cuda.h\n",
            "-- Installing: /usr/local/include/colmap/mvs/gpu_mat.h\n",
            "-- Installing: /usr/local/include/colmap/mvs/meshing.h\n",
            "-- Installing: /usr/local/include/colmap/mvs/fusion.h\n",
            "-- Installing: /usr/local/include/colmap/mvs/cuda_rotate.h\n",
            "-- Installing: /usr/local/include/colmap/mvs/gpu_mat_prng.h\n",
            "-- Installing: /usr/local/include/colmap/mvs/cuda_transpose.h\n",
            "-- Installing: /usr/local/include/colmap/retrieval\n",
            "-- Installing: /usr/local/include/colmap/retrieval/utils.h\n",
            "-- Installing: /usr/local/include/colmap/retrieval/inverted_file.h\n",
            "-- Installing: /usr/local/include/colmap/retrieval/visual_index.h\n",
            "-- Installing: /usr/local/include/colmap/retrieval/inverted_index.h\n",
            "-- Installing: /usr/local/include/colmap/retrieval/vote_and_verify.h\n",
            "-- Installing: /usr/local/include/colmap/retrieval/resources.h\n",
            "-- Installing: /usr/local/include/colmap/retrieval/geometry.h\n",
            "-- Installing: /usr/local/include/colmap/retrieval/inverted_file_entry.h\n",
            "-- Installing: /usr/local/include/colmap/math\n",
            "-- Installing: /usr/local/include/colmap/math/graph_cut.h\n",
            "-- Installing: /usr/local/include/colmap/math/math.h\n",
            "-- Installing: /usr/local/include/colmap/math/polynomial.h\n",
            "-- Installing: /usr/local/include/colmap/math/matrix.h\n",
            "-- Installing: /usr/local/include/colmap/math/random.h\n",
            "-- Installing: /usr/local/include/colmap/optim\n",
            "-- Installing: /usr/local/include/colmap/optim/ransac.h\n",
            "-- Installing: /usr/local/include/colmap/optim/sampler.h\n",
            "-- Installing: /usr/local/include/colmap/optim/combination_sampler.h\n",
            "-- Installing: /usr/local/include/colmap/optim/least_absolute_deviations.h\n",
            "-- Installing: /usr/local/include/colmap/optim/progressive_sampler.h\n",
            "-- Installing: /usr/local/include/colmap/optim/random_sampler.h\n",
            "-- Installing: /usr/local/include/colmap/optim/support_measurement.h\n",
            "-- Installing: /usr/local/include/colmap/optim/loransac.h\n",
            "-- Installing: /usr/local/include/colmap/optim/sprt.h\n",
            "-- Installing: /usr/local/include/colmap/geometry\n",
            "-- Installing: /usr/local/include/colmap/geometry/homography_matrix.h\n",
            "-- Installing: /usr/local/include/colmap/geometry/sim3_matchers.h\n",
            "-- Installing: /usr/local/include/colmap/geometry/sim3.h\n",
            "-- Installing: /usr/local/include/colmap/geometry/gps.h\n",
            "-- Installing: /usr/local/include/colmap/geometry/triangulation.h\n",
            "-- Installing: /usr/local/include/colmap/geometry/rigid3_matchers.h\n",
            "-- Installing: /usr/local/include/colmap/geometry/normalization.h\n",
            "-- Installing: /usr/local/include/colmap/geometry/rigid3.h\n",
            "-- Installing: /usr/local/include/colmap/geometry/essential_matrix.h\n",
            "-- Installing: /usr/local/include/colmap/geometry/pose_prior.h\n",
            "-- Installing: /usr/local/include/colmap/geometry/pose.h\n",
            "-- Installing: /usr/local/include/colmap/controllers\n",
            "-- Installing: /usr/local/include/colmap/controllers/option_manager.h\n",
            "-- Installing: /usr/local/include/colmap/controllers/feature_extraction.h\n",
            "-- Installing: /usr/local/include/colmap/controllers/incremental_pipeline.h\n",
            "-- Installing: /usr/local/include/colmap/controllers/hierarchical_pipeline.h\n",
            "-- Installing: /usr/local/include/colmap/controllers/feature_matching.h\n",
            "-- Installing: /usr/local/include/colmap/controllers/bundle_adjustment.h\n",
            "-- Installing: /usr/local/include/colmap/controllers/automatic_reconstruction.h\n",
            "-- Installing: /usr/local/include/colmap/controllers/image_reader.h\n",
            "-- Installing: /usr/local/include/colmap/controllers/feature_matching_utils.h\n",
            "-- Installing: /usr/local/include/colmap/sensor\n",
            "-- Installing: /usr/local/include/colmap/sensor/database.h\n",
            "-- Installing: /usr/local/include/colmap/sensor/rig.h\n",
            "-- Installing: /usr/local/include/colmap/sensor/specs.h\n",
            "-- Installing: /usr/local/include/colmap/sensor/bitmap.h\n",
            "-- Installing: /usr/local/include/colmap/sensor/models.h\n",
            "-- Installing: /usr/local/include/colmap/exe\n",
            "-- Installing: /usr/local/include/colmap/exe/database.h\n",
            "-- Installing: /usr/local/include/colmap/exe/model.h\n",
            "-- Installing: /usr/local/include/colmap/exe/sfm.h\n",
            "-- Installing: /usr/local/include/colmap/exe/image.h\n",
            "-- Installing: /usr/local/include/colmap/exe/vocab_tree.h\n",
            "-- Installing: /usr/local/include/colmap/exe/feature.h\n",
            "-- Installing: /usr/local/include/colmap/exe/gui.h\n",
            "-- Installing: /usr/local/include/colmap/exe/mvs.h\n",
            "-- Installing: /usr/local/include/colmap/util\n",
            "-- Installing: /usr/local/include/colmap/util/opengl_utils.h\n",
            "-- Installing: /usr/local/include/colmap/util/string.h\n",
            "-- Installing: /usr/local/include/colmap/util/logging.h\n",
            "-- Installing: /usr/local/include/colmap/util/types.h\n",
            "-- Installing: /usr/local/include/colmap/util/misc.h\n",
            "-- Installing: /usr/local/include/colmap/util/sqlite3_utils.h\n",
            "-- Installing: /usr/local/include/colmap/util/file.h\n",
            "-- Installing: /usr/local/include/colmap/util/eigen_alignment.h\n",
            "-- Installing: /usr/local/include/colmap/util/threading.h\n",
            "-- Installing: /usr/local/include/colmap/util/timer.h\n",
            "-- Installing: /usr/local/include/colmap/util/enum_utils.h\n",
            "-- Installing: /usr/local/include/colmap/util/eigen_matchers.h\n",
            "-- Installing: /usr/local/include/colmap/util/endian.h\n",
            "-- Installing: /usr/local/include/colmap/util/version.h\n",
            "-- Installing: /usr/local/include/colmap/util/cuda.h\n",
            "-- Installing: /usr/local/include/colmap/util/base_controller.h\n",
            "-- Installing: /usr/local/include/colmap/util/cache.h\n",
            "-- Installing: /usr/local/include/colmap/util/ply.h\n",
            "-- Installing: /usr/local/include/colmap/util/cudacc.h\n",
            "-- Installing: /usr/local/include/colmap/util/testing.h\n",
            "-- Installing: /usr/local/include/colmap/util/controller_thread.h\n",
            "-- Installing: /usr/local/include/colmap/ui\n",
            "-- Installing: /usr/local/include/colmap/ui/reconstruction_stats_widget.h\n",
            "-- Installing: /usr/local/include/colmap/ui/feature_extraction_widget.h\n",
            "-- Installing: /usr/local/include/colmap/ui/options_widget.h\n",
            "-- Installing: /usr/local/include/colmap/ui/reconstruction_options_widget.h\n",
            "-- Installing: /usr/local/include/colmap/ui/project_widget.h\n",
            "-- Installing: /usr/local/include/colmap/ui/bundle_adjustment_widget.h\n",
            "-- Installing: /usr/local/include/colmap/ui/thread_control_widget.h\n",
            "-- Installing: /usr/local/include/colmap/ui/feature_matching_widget.h\n",
            "-- Installing: /usr/local/include/colmap/ui/main_window.h\n",
            "-- Installing: /usr/local/include/colmap/ui/image_viewer_widget.h\n",
            "-- Installing: /usr/local/include/colmap/ui/reconstruction_manager_widget.h\n",
            "-- Installing: /usr/local/include/colmap/ui/point_painter.h\n",
            "-- Installing: /usr/local/include/colmap/ui/media\n",
            "-- Installing: /usr/local/include/colmap/ui/match_matrix_widget.h\n",
            "-- Installing: /usr/local/include/colmap/ui/triangle_painter.h\n",
            "-- Installing: /usr/local/include/colmap/ui/render_options_widget.h\n",
            "-- Installing: /usr/local/include/colmap/ui/line_painter.h\n",
            "-- Installing: /usr/local/include/colmap/ui/dense_reconstruction_widget.h\n",
            "-- Installing: /usr/local/include/colmap/ui/shaders\n",
            "-- Installing: /usr/local/include/colmap/ui/point_viewer_widget.h\n",
            "-- Installing: /usr/local/include/colmap/ui/automatic_reconstruction_widget.h\n",
            "-- Installing: /usr/local/include/colmap/ui/render_options.h\n",
            "-- Installing: /usr/local/include/colmap/ui/movie_grabber_widget.h\n",
            "-- Installing: /usr/local/include/colmap/ui/license_widget.h\n",
            "-- Installing: /usr/local/include/colmap/ui/qt_utils.h\n",
            "-- Installing: /usr/local/include/colmap/ui/log_widget.h\n",
            "-- Installing: /usr/local/include/colmap/ui/undistortion_widget.h\n",
            "-- Installing: /usr/local/include/colmap/ui/model_viewer_widget.h\n",
            "-- Installing: /usr/local/include/colmap/ui/database_management_widget.h\n",
            "-- Installing: /usr/local/include/colmap/ui/colormaps.h\n",
            "-- Installing: /usr/local/include/colmap/thirdparty\n",
            "-- Installing: /usr/local/include/colmap/thirdparty/SiftGPU\n",
            "-- Installing: /usr/local/include/colmap/thirdparty/SiftGPU/CLTexImage.h\n",
            "-- Installing: /usr/local/include/colmap/thirdparty/SiftGPU/ProgramGPU.h\n",
            "-- Installing: /usr/local/include/colmap/thirdparty/SiftGPU/ProgramCG.h\n",
            "-- Installing: /usr/local/include/colmap/thirdparty/SiftGPU/PyramidGL.h\n",
            "-- Installing: /usr/local/include/colmap/thirdparty/SiftGPU/SiftMatch.h\n",
            "-- Installing: /usr/local/include/colmap/thirdparty/SiftGPU/CuTexImage.h\n",
            "-- Installing: /usr/local/include/colmap/thirdparty/SiftGPU/LiteWindow.h\n",
            "-- Installing: /usr/local/include/colmap/thirdparty/SiftGPU/GLTexImage.h\n",
            "-- Installing: /usr/local/include/colmap/thirdparty/SiftGPU/PyramidCL.h\n",
            "-- Installing: /usr/local/include/colmap/thirdparty/SiftGPU/ProgramGLSL.h\n",
            "-- Installing: /usr/local/include/colmap/thirdparty/SiftGPU/SiftMatchCU.h\n",
            "-- Installing: /usr/local/include/colmap/thirdparty/SiftGPU/ProgramCL.h\n",
            "-- Installing: /usr/local/include/colmap/thirdparty/SiftGPU/ProgramCU.h\n",
            "-- Installing: /usr/local/include/colmap/thirdparty/SiftGPU/ShaderMan.h\n",
            "-- Installing: /usr/local/include/colmap/thirdparty/SiftGPU/FrameBufferObject.h\n",
            "-- Installing: /usr/local/include/colmap/thirdparty/SiftGPU/PyramidCU.h\n",
            "-- Installing: /usr/local/include/colmap/thirdparty/SiftGPU/SiftGPU.h\n",
            "-- Installing: /usr/local/include/colmap/thirdparty/SiftGPU/SiftPyramid.h\n",
            "-- Installing: /usr/local/include/colmap/thirdparty/SiftGPU/GlobalUtil.h\n",
            "-- Installing: /usr/local/include/colmap/thirdparty/LSD\n",
            "-- Installing: /usr/local/include/colmap/thirdparty/LSD/lsd.h\n",
            "-- Installing: /usr/local/include/colmap/thirdparty/VLFeat\n",
            "-- Installing: /usr/local/include/colmap/thirdparty/VLFeat/covdet.h\n",
            "-- Installing: /usr/local/include/colmap/thirdparty/VLFeat/mathop.h\n",
            "-- Installing: /usr/local/include/colmap/thirdparty/VLFeat/stringop.h\n",
            "-- Installing: /usr/local/include/colmap/thirdparty/VLFeat/svm.h\n",
            "-- Installing: /usr/local/include/colmap/thirdparty/VLFeat/aib.h\n",
            "-- Installing: /usr/local/include/colmap/thirdparty/VLFeat/float.h\n",
            "-- Installing: /usr/local/include/colmap/thirdparty/VLFeat/heap-def.h\n",
            "-- Installing: /usr/local/include/colmap/thirdparty/VLFeat/qsort-def.h\n",
            "-- Installing: /usr/local/include/colmap/thirdparty/VLFeat/imopv.h\n",
            "-- Installing: /usr/local/include/colmap/thirdparty/VLFeat/array.h\n",
            "-- Installing: /usr/local/include/colmap/thirdparty/VLFeat/shuffle-def.h\n",
            "-- Installing: /usr/local/include/colmap/thirdparty/VLFeat/svmdataset.h\n",
            "-- Installing: /usr/local/include/colmap/thirdparty/VLFeat/mathop_avx.h\n",
            "-- Installing: /usr/local/include/colmap/thirdparty/VLFeat/dsift.h\n",
            "-- Installing: /usr/local/include/colmap/thirdparty/VLFeat/kdtree.h\n",
            "-- Installing: /usr/local/include/colmap/thirdparty/VLFeat/homkermap.h\n",
            "-- Installing: /usr/local/include/colmap/thirdparty/VLFeat/pgm.h\n",
            "-- Installing: /usr/local/include/colmap/thirdparty/VLFeat/liop.h\n",
            "-- Installing: /usr/local/include/colmap/thirdparty/VLFeat/hog.h\n",
            "-- Installing: /usr/local/include/colmap/thirdparty/VLFeat/vlad.h\n",
            "-- Installing: /usr/local/include/colmap/thirdparty/VLFeat/slic.h\n",
            "-- Installing: /usr/local/include/colmap/thirdparty/VLFeat/getopt_long.h\n",
            "-- Installing: /usr/local/include/colmap/thirdparty/VLFeat/mser.h\n",
            "-- Installing: /usr/local/include/colmap/thirdparty/VLFeat/fisher.h\n",
            "-- Installing: /usr/local/include/colmap/thirdparty/VLFeat/rodrigues.h\n",
            "-- Installing: /usr/local/include/colmap/thirdparty/VLFeat/imopv_sse2.h\n",
            "-- Installing: /usr/local/include/colmap/thirdparty/VLFeat/generic.h\n",
            "-- Installing: /usr/local/include/colmap/thirdparty/VLFeat/host.h\n",
            "-- Installing: /usr/local/include/colmap/thirdparty/VLFeat/gmm.h\n",
            "-- Installing: /usr/local/include/colmap/thirdparty/VLFeat/quickshift.h\n",
            "-- Installing: /usr/local/include/colmap/thirdparty/VLFeat/scalespace.h\n",
            "-- Installing: /usr/local/include/colmap/thirdparty/VLFeat/lbp.h\n",
            "-- Installing: /usr/local/include/colmap/thirdparty/VLFeat/mathop_sse2.h\n",
            "-- Installing: /usr/local/include/colmap/thirdparty/VLFeat/hikmeans.h\n",
            "-- Installing: /usr/local/include/colmap/thirdparty/VLFeat/kmeans.h\n",
            "-- Installing: /usr/local/include/colmap/thirdparty/VLFeat/random.h\n",
            "-- Installing: /usr/local/include/colmap/thirdparty/VLFeat/ikmeans.h\n",
            "-- Installing: /usr/local/include/colmap/thirdparty/VLFeat/sift.h\n",
            "-- Installing: /usr/local/include/colmap/thirdparty/PoissonRecon\n",
            "-- Installing: /usr/local/include/colmap/thirdparty/PoissonRecon/Geometry.inl\n",
            "-- Installing: /usr/local/include/colmap/thirdparty/PoissonRecon/Polynomial.h\n",
            "-- Installing: /usr/local/include/colmap/thirdparty/PoissonRecon/BinaryNode.h\n",
            "-- Installing: /usr/local/include/colmap/thirdparty/PoissonRecon/FunctionData.inl\n",
            "-- Installing: /usr/local/include/colmap/thirdparty/PoissonRecon/SparseMatrix.h\n",
            "-- Installing: /usr/local/include/colmap/thirdparty/PoissonRecon/Octree.inl\n",
            "-- Installing: /usr/local/include/colmap/thirdparty/PoissonRecon/FunctionData.h\n",
            "-- Installing: /usr/local/include/colmap/thirdparty/PoissonRecon/PointStream.h\n",
            "-- Installing: /usr/local/include/colmap/thirdparty/PoissonRecon/MultiGridOctreeData.SortedTreeNodes.inl\n",
            "-- Installing: /usr/local/include/colmap/thirdparty/PoissonRecon/Octree.h\n",
            "-- Installing: /usr/local/include/colmap/thirdparty/PoissonRecon/Allocator.h\n",
            "-- Installing: /usr/local/include/colmap/thirdparty/PoissonRecon/BSplineData.inl\n",
            "-- Installing: /usr/local/include/colmap/thirdparty/PoissonRecon/CmdLineParser.h\n",
            "-- Installing: /usr/local/include/colmap/thirdparty/PoissonRecon/CmdLineParser.inl\n",
            "-- Installing: /usr/local/include/colmap/thirdparty/PoissonRecon/MultiGridOctreeData.h\n",
            "-- Installing: /usr/local/include/colmap/thirdparty/PoissonRecon/SurfaceTrimmer.h\n",
            "-- Installing: /usr/local/include/colmap/thirdparty/PoissonRecon/MarchingCubes.h\n",
            "-- Installing: /usr/local/include/colmap/thirdparty/PoissonRecon/PPolynomial.inl\n",
            "-- Installing: /usr/local/include/colmap/thirdparty/PoissonRecon/MultiGridOctreeData.inl\n",
            "-- Installing: /usr/local/include/colmap/thirdparty/PoissonRecon/Array.h\n",
            "-- Installing: /usr/local/include/colmap/thirdparty/PoissonRecon/SparseMatrix.inl\n",
            "-- Installing: /usr/local/include/colmap/thirdparty/PoissonRecon/PointStream.inl\n",
            "-- Installing: /usr/local/include/colmap/thirdparty/PoissonRecon/Factor.h\n",
            "-- Installing: /usr/local/include/colmap/thirdparty/PoissonRecon/Hash.h\n",
            "-- Installing: /usr/local/include/colmap/thirdparty/PoissonRecon/Array.inl\n",
            "-- Installing: /usr/local/include/colmap/thirdparty/PoissonRecon/BSplineData.h\n",
            "-- Installing: /usr/local/include/colmap/thirdparty/PoissonRecon/MyTime.h\n",
            "-- Installing: /usr/local/include/colmap/thirdparty/PoissonRecon/MultiGridOctreeData.Evaluation.inl\n",
            "-- Installing: /usr/local/include/colmap/thirdparty/PoissonRecon/MultiGridOctreeData.IsoSurface.inl\n",
            "-- Installing: /usr/local/include/colmap/thirdparty/PoissonRecon/PPolynomial.h\n",
            "-- Installing: /usr/local/include/colmap/thirdparty/PoissonRecon/MAT.inl\n",
            "-- Installing: /usr/local/include/colmap/thirdparty/PoissonRecon/MultiGridOctreeData.System.inl\n",
            "-- Installing: /usr/local/include/colmap/thirdparty/PoissonRecon/MemoryUsage.h\n",
            "-- Installing: /usr/local/include/colmap/thirdparty/PoissonRecon/MultiGridOctreeData.WeightedSamples.inl\n",
            "-- Installing: /usr/local/include/colmap/thirdparty/PoissonRecon/PoissonRecon.h\n",
            "-- Installing: /usr/local/include/colmap/thirdparty/PoissonRecon/MAT.h\n",
            "-- Installing: /usr/local/include/colmap/thirdparty/PoissonRecon/Polynomial.inl\n",
            "-- Installing: /usr/local/include/colmap/thirdparty/PoissonRecon/Geometry.h\n",
            "-- Installing: /usr/local/include/colmap/thirdparty/PoissonRecon/Ply.h\n",
            "-- Installing: /usr/local/share/colmap/cmake\n",
            "-- Installing: /usr/local/share/colmap/cmake/FindCryptoPP.cmake\n",
            "-- Installing: /usr/local/share/colmap/cmake/FindMetis.cmake\n",
            "-- Installing: /usr/local/share/colmap/cmake/FindDependencies.cmake\n",
            "-- Installing: /usr/local/share/colmap/cmake/FindGlog.cmake\n",
            "-- Installing: /usr/local/share/colmap/cmake/FindFLANN.cmake\n",
            "-- Installing: /usr/local/share/colmap/cmake/FindFreeImage.cmake\n",
            "-- Installing: /usr/local/share/colmap/cmake/FindLZ4.cmake\n",
            "-- Installing: /usr/local/share/colmap/cmake/FindGlew.cmake\n",
            "-- Installing: /usr/local/bin/colmap\n",
            "-- Set non-toolchain portion of runtime path of \"/usr/local/bin/colmap\" to \"\"\n"
          ]
        }
      ]
    },
    {
      "cell_type": "markdown",
      "source": [
        "### Allow access to Google Drive"
      ],
      "metadata": {
        "id": "70VfYlJNtP7E"
      }
    },
    {
      "cell_type": "code",
      "source": [
        "from google.colab import drive\n",
        "drive.mount('/content/drive', force_remount=True)"
      ],
      "metadata": {
        "id": "fncx0IwGs6k0",
        "colab": {
          "base_uri": "https://localhost:8080/"
        },
        "outputId": "1da4d3dc-3152-4d45-f3ab-5d1cb5af27d6"
      },
      "execution_count": 5,
      "outputs": [
        {
          "output_type": "stream",
          "name": "stdout",
          "text": [
            "Mounted at /content/drive\n"
          ]
        }
      ]
    },
    {
      "cell_type": "markdown",
      "source": [
        "### Detect and extract features from images for matching"
      ],
      "metadata": {
        "id": "_W6iBvnAtuFb"
      }
    },
    {
      "cell_type": "code",
      "source": [
        "!colmap feature_extractor \\\n",
        "    --database_path \"{basedir}/database.db\" \\\n",
        "    --image_path \"{basedir}/images\" \\\n",
        "    --ImageReader.single_camera 1"
      ],
      "metadata": {
        "id": "G8-lFvnXs-1e",
        "colab": {
          "base_uri": "https://localhost:8080/"
        },
        "outputId": "11d22c48-82f4-42dc-d776-ce17a6d5fac1"
      },
      "execution_count": 6,
      "outputs": [
        {
          "output_type": "stream",
          "name": "stdout",
          "text": [
            "I0521 23:51:01.995775 12054 misc.cc:44] \n",
            "==============================================================================\n",
            "Feature extraction\n",
            "==============================================================================\n",
            "I0521 23:51:01.996259 12057 sift.cc:721] Creating SIFT GPU feature extractor\n",
            "I0521 23:51:03.804358 12058 feature_extraction.cc:259] Processed file [1/20]\n",
            "I0521 23:51:03.804389 12058 feature_extraction.cc:262]   Name:            image000.png\n",
            "I0521 23:51:03.804396 12058 feature_extraction.cc:271]   Dimensions:      1008 x 756\n",
            "I0521 23:51:03.804401 12058 feature_extraction.cc:274]   Camera:          #1 - SIMPLE_RADIAL\n",
            "I0521 23:51:03.804409 12058 feature_extraction.cc:277]   Focal Length:    1209.60px\n",
            "I0521 23:51:03.804422 12058 feature_extraction.cc:281]   Features:        6231\n",
            "I0521 23:51:05.471024 12058 feature_extraction.cc:259] Processed file [2/20]\n",
            "I0521 23:51:05.471055 12058 feature_extraction.cc:262]   Name:            image001.png\n",
            "I0521 23:51:05.471060 12058 feature_extraction.cc:271]   Dimensions:      1008 x 756\n",
            "I0521 23:51:05.471064 12058 feature_extraction.cc:274]   Camera:          #1 - SIMPLE_RADIAL\n",
            "I0521 23:51:05.471069 12058 feature_extraction.cc:277]   Focal Length:    1209.60px\n",
            "I0521 23:51:05.471081 12058 feature_extraction.cc:281]   Features:        6203\n",
            "I0521 23:51:06.722321 12058 feature_extraction.cc:259] Processed file [3/20]\n",
            "I0521 23:51:06.722353 12058 feature_extraction.cc:262]   Name:            image002.png\n",
            "I0521 23:51:06.722360 12058 feature_extraction.cc:271]   Dimensions:      1008 x 756\n",
            "I0521 23:51:06.722365 12058 feature_extraction.cc:274]   Camera:          #1 - SIMPLE_RADIAL\n",
            "I0521 23:51:06.722370 12058 feature_extraction.cc:277]   Focal Length:    1209.60px\n",
            "I0521 23:51:06.722384 12058 feature_extraction.cc:281]   Features:        6371\n",
            "I0521 23:51:11.480021 12058 feature_extraction.cc:259] Processed file [4/20]\n",
            "I0521 23:51:11.480054 12058 feature_extraction.cc:262]   Name:            image003.png\n",
            "I0521 23:51:11.480063 12058 feature_extraction.cc:271]   Dimensions:      1008 x 756\n",
            "I0521 23:51:11.480070 12058 feature_extraction.cc:274]   Camera:          #1 - SIMPLE_RADIAL\n",
            "I0521 23:51:11.480077 12058 feature_extraction.cc:277]   Focal Length:    1209.60px\n",
            "I0521 23:51:11.480098 12058 feature_extraction.cc:281]   Features:        6249\n",
            "I0521 23:51:12.440089 12058 feature_extraction.cc:259] Processed file [5/20]\n",
            "I0521 23:51:12.441223 12058 feature_extraction.cc:262]   Name:            image004.png\n",
            "I0521 23:51:12.441254 12058 feature_extraction.cc:271]   Dimensions:      1008 x 756\n",
            "I0521 23:51:12.441263 12058 feature_extraction.cc:274]   Camera:          #1 - SIMPLE_RADIAL\n",
            "I0521 23:51:12.441272 12058 feature_extraction.cc:277]   Focal Length:    1209.60px\n",
            "I0521 23:51:12.441287 12058 feature_extraction.cc:281]   Features:        8564\n",
            "I0521 23:51:14.798508 12058 feature_extraction.cc:259] Processed file [6/20]\n",
            "I0521 23:51:14.798543 12058 feature_extraction.cc:262]   Name:            image005.png\n",
            "I0521 23:51:14.798552 12058 feature_extraction.cc:271]   Dimensions:      1008 x 756\n",
            "I0521 23:51:14.798559 12058 feature_extraction.cc:274]   Camera:          #1 - SIMPLE_RADIAL\n",
            "I0521 23:51:14.798568 12058 feature_extraction.cc:277]   Focal Length:    1209.60px\n",
            "I0521 23:51:14.798581 12058 feature_extraction.cc:281]   Features:        6427\n",
            "I0521 23:51:20.877601 12058 feature_extraction.cc:259] Processed file [7/20]\n",
            "I0521 23:51:20.877640 12058 feature_extraction.cc:262]   Name:            image006.png\n",
            "I0521 23:51:20.877647 12058 feature_extraction.cc:271]   Dimensions:      1008 x 756\n",
            "I0521 23:51:20.877655 12058 feature_extraction.cc:274]   Camera:          #1 - SIMPLE_RADIAL\n",
            "I0521 23:51:20.877739 12058 feature_extraction.cc:277]   Focal Length:    1209.60px\n",
            "I0521 23:51:20.877759 12058 feature_extraction.cc:281]   Features:        6613\n",
            "I0521 23:51:22.622885 12058 feature_extraction.cc:259] Processed file [8/20]\n",
            "I0521 23:51:22.622933 12058 feature_extraction.cc:262]   Name:            image007.png\n",
            "I0521 23:51:22.622948 12058 feature_extraction.cc:271]   Dimensions:      1008 x 756\n",
            "I0521 23:51:22.622962 12058 feature_extraction.cc:274]   Camera:          #1 - SIMPLE_RADIAL\n",
            "I0521 23:51:22.622977 12058 feature_extraction.cc:277]   Focal Length:    1209.60px\n",
            "I0521 23:51:22.623001 12058 feature_extraction.cc:281]   Features:        6471\n",
            "I0521 23:51:22.705042 12058 feature_extraction.cc:259] Processed file [9/20]\n",
            "I0521 23:51:22.705078 12058 feature_extraction.cc:262]   Name:            image008.png\n",
            "I0521 23:51:22.705086 12058 feature_extraction.cc:271]   Dimensions:      1008 x 756\n",
            "I0521 23:51:22.705093 12058 feature_extraction.cc:274]   Camera:          #1 - SIMPLE_RADIAL\n",
            "I0521 23:51:22.705101 12058 feature_extraction.cc:277]   Focal Length:    1209.60px\n",
            "I0521 23:51:22.705116 12058 feature_extraction.cc:281]   Features:        7051\n",
            "I0521 23:51:22.736742 12058 feature_extraction.cc:259] Processed file [10/20]\n",
            "I0521 23:51:22.736820 12058 feature_extraction.cc:262]   Name:            image009.png\n",
            "I0521 23:51:22.736830 12058 feature_extraction.cc:271]   Dimensions:      1008 x 756\n",
            "I0521 23:51:22.736837 12058 feature_extraction.cc:274]   Camera:          #1 - SIMPLE_RADIAL\n",
            "I0521 23:51:22.736846 12058 feature_extraction.cc:277]   Focal Length:    1209.60px\n",
            "I0521 23:51:22.736860 12058 feature_extraction.cc:281]   Features:        6854\n",
            "I0521 23:51:23.627631 12058 feature_extraction.cc:259] Processed file [11/20]\n",
            "I0521 23:51:23.631212 12058 feature_extraction.cc:262]   Name:            image010.png\n",
            "I0521 23:51:23.631237 12058 feature_extraction.cc:271]   Dimensions:      1008 x 756\n",
            "I0521 23:51:23.631246 12058 feature_extraction.cc:274]   Camera:          #1 - SIMPLE_RADIAL\n",
            "I0521 23:51:23.631254 12058 feature_extraction.cc:277]   Focal Length:    1209.60px\n",
            "I0521 23:51:23.631268 12058 feature_extraction.cc:281]   Features:        6996\n",
            "I0521 23:51:23.661301 12058 feature_extraction.cc:259] Processed file [12/20]\n",
            "I0521 23:51:23.661367 12058 feature_extraction.cc:262]   Name:            image011.png\n",
            "I0521 23:51:23.661378 12058 feature_extraction.cc:271]   Dimensions:      1008 x 756\n",
            "I0521 23:51:23.661386 12058 feature_extraction.cc:274]   Camera:          #1 - SIMPLE_RADIAL\n",
            "I0521 23:51:23.661393 12058 feature_extraction.cc:277]   Focal Length:    1209.60px\n",
            "I0521 23:51:23.661406 12058 feature_extraction.cc:281]   Features:        8102\n",
            "I0521 23:51:25.495404 12058 feature_extraction.cc:259] Processed file [13/20]\n",
            "I0521 23:51:25.495446 12058 feature_extraction.cc:262]   Name:            image012.png\n",
            "I0521 23:51:25.495461 12058 feature_extraction.cc:271]   Dimensions:      1008 x 756\n",
            "I0521 23:51:25.495468 12058 feature_extraction.cc:274]   Camera:          #1 - SIMPLE_RADIAL\n",
            "I0521 23:51:25.495477 12058 feature_extraction.cc:277]   Focal Length:    1209.60px\n",
            "I0521 23:51:25.495491 12058 feature_extraction.cc:281]   Features:        7084\n",
            "I0521 23:51:25.536820 12058 feature_extraction.cc:259] Processed file [14/20]\n",
            "I0521 23:51:25.536891 12058 feature_extraction.cc:262]   Name:            image013.png\n",
            "I0521 23:51:25.536902 12058 feature_extraction.cc:271]   Dimensions:      1008 x 756\n",
            "I0521 23:51:25.536909 12058 feature_extraction.cc:274]   Camera:          #1 - SIMPLE_RADIAL\n",
            "I0521 23:51:25.536917 12058 feature_extraction.cc:277]   Focal Length:    1209.60px\n",
            "I0521 23:51:25.536928 12058 feature_extraction.cc:281]   Features:        6949\n",
            "I0521 23:51:26.518076 12058 feature_extraction.cc:259] Processed file [15/20]\n",
            "I0521 23:51:26.518113 12058 feature_extraction.cc:262]   Name:            image014.png\n",
            "I0521 23:51:26.518122 12058 feature_extraction.cc:271]   Dimensions:      1008 x 756\n",
            "I0521 23:51:26.518136 12058 feature_extraction.cc:274]   Camera:          #1 - SIMPLE_RADIAL\n",
            "I0521 23:51:26.518153 12058 feature_extraction.cc:277]   Focal Length:    1209.60px\n",
            "I0521 23:51:26.518175 12058 feature_extraction.cc:281]   Features:        6468\n",
            "I0521 23:51:29.399044 12058 feature_extraction.cc:259] Processed file [16/20]\n",
            "I0521 23:51:29.399081 12058 feature_extraction.cc:262]   Name:            image015.png\n",
            "I0521 23:51:29.399089 12058 feature_extraction.cc:271]   Dimensions:      1008 x 756\n",
            "I0521 23:51:29.399096 12058 feature_extraction.cc:274]   Camera:          #1 - SIMPLE_RADIAL\n",
            "I0521 23:51:29.399111 12058 feature_extraction.cc:277]   Focal Length:    1209.60px\n",
            "I0521 23:51:29.399132 12058 feature_extraction.cc:281]   Features:        6867\n",
            "I0521 23:51:31.410777 12058 feature_extraction.cc:259] Processed file [17/20]\n",
            "I0521 23:51:31.410894 12058 feature_extraction.cc:262]   Name:            image016.png\n",
            "I0521 23:51:31.410905 12058 feature_extraction.cc:271]   Dimensions:      1008 x 756\n",
            "I0521 23:51:31.410913 12058 feature_extraction.cc:274]   Camera:          #1 - SIMPLE_RADIAL\n",
            "I0521 23:51:31.410921 12058 feature_extraction.cc:277]   Focal Length:    1209.60px\n",
            "I0521 23:51:31.410935 12058 feature_extraction.cc:281]   Features:        6615\n",
            "I0521 23:51:31.429721 12058 feature_extraction.cc:259] Processed file [18/20]\n",
            "I0521 23:51:31.429751 12058 feature_extraction.cc:262]   Name:            image017.png\n",
            "I0521 23:51:31.429759 12058 feature_extraction.cc:271]   Dimensions:      1008 x 756\n",
            "I0521 23:51:31.429766 12058 feature_extraction.cc:274]   Camera:          #1 - SIMPLE_RADIAL\n",
            "I0521 23:51:31.429773 12058 feature_extraction.cc:277]   Focal Length:    1209.60px\n",
            "I0521 23:51:31.429785 12058 feature_extraction.cc:281]   Features:        6639\n",
            "I0521 23:51:31.450151 12058 feature_extraction.cc:259] Processed file [19/20]\n",
            "I0521 23:51:31.450186 12058 feature_extraction.cc:262]   Name:            image018.png\n",
            "I0521 23:51:31.450207 12058 feature_extraction.cc:271]   Dimensions:      1008 x 756\n",
            "I0521 23:51:31.450215 12058 feature_extraction.cc:274]   Camera:          #1 - SIMPLE_RADIAL\n",
            "I0521 23:51:31.450223 12058 feature_extraction.cc:277]   Focal Length:    1209.60px\n",
            "I0521 23:51:31.450233 12058 feature_extraction.cc:281]   Features:        6845\n",
            "I0521 23:51:31.487424 12058 feature_extraction.cc:259] Processed file [20/20]\n",
            "I0521 23:51:31.487457 12058 feature_extraction.cc:262]   Name:            image019.png\n",
            "I0521 23:51:31.487465 12058 feature_extraction.cc:271]   Dimensions:      1008 x 756\n",
            "I0521 23:51:31.487473 12058 feature_extraction.cc:274]   Camera:          #1 - SIMPLE_RADIAL\n",
            "I0521 23:51:31.487481 12058 feature_extraction.cc:277]   Focal Length:    1209.60px\n",
            "I0521 23:51:31.487493 12058 feature_extraction.cc:281]   Features:        6814\n",
            "I0521 23:51:31.555672 12054 timer.cc:91] Elapsed time: 0.493 [minutes]\n"
          ]
        }
      ]
    },
    {
      "cell_type": "markdown",
      "source": [
        "### Match Features Between All Pairs of Images"
      ],
      "metadata": {
        "id": "eML1FaUarQC5"
      }
    },
    {
      "cell_type": "code",
      "source": [
        "!colmap exhaustive_matcher\\\n",
        "    --database_path \"{basedir}/database.db\""
      ],
      "metadata": {
        "id": "Z1FwXVHwu8V4",
        "colab": {
          "base_uri": "https://localhost:8080/"
        },
        "outputId": "14cdf44d-0028-486e-e6b6-138d98c50ffc"
      },
      "execution_count": 7,
      "outputs": [
        {
          "output_type": "stream",
          "name": "stdout",
          "text": [
            "I0521 23:51:37.420059 12228 misc.cc:44] \n",
            "==============================================================================\n",
            "Feature matching\n",
            "==============================================================================\n",
            "I0521 23:51:37.421411 12229 sift.cc:1426] Creating SIFT GPU feature matcher\n",
            "I0521 23:51:37.515944 12228 pairing.cc:168] Generating exhaustive image pairs...\n",
            "I0521 23:51:37.515980 12228 pairing.cc:201] Matching block [1/1, 1/1]\n",
            "I0521 23:51:38.789073 12228 feature_matching.cc:46] in 1.273s\n",
            "I0521 23:51:38.842011 12228 timer.cc:91] Elapsed time: 0.024 [minutes]\n"
          ]
        }
      ]
    },
    {
      "cell_type": "markdown",
      "source": [
        "### Reconstruct Camera Poses and Scene Geometry\n",
        "\n",
        "This step executes the COLMAP pipeline to perform feature extraction, matching, and sparse 3D reconstruction. The output of this process, including the estimated camera poses and a sparse point cloud of the scene, will be saved to a new `sparse` directory."
      ],
      "metadata": {
        "id": "M5cDzZTqvVZQ"
      }
    },
    {
      "cell_type": "code",
      "source": [
        "!colmap mapper \\\n",
        "    --database_path \"{basedir}/database.db\" \\\n",
        "    --image_path \"{basedir}/images\" \\\n",
        "    --output_path \"{basedir}/sparse\" \\\n",
        "    --Mapper.num_threads 16 \\\n",
        "    --Mapper.init_min_tri_angle 4 \\\n",
        "    --Mapper.multiple_models 0 \\\n",
        "    --Mapper.extract_colors 0"
      ],
      "metadata": {
        "id": "k54SXIHuvWT-",
        "colab": {
          "base_uri": "https://localhost:8080/"
        },
        "outputId": "54e519b5-dfe6-4509-cdc5-028161ed0287"
      },
      "execution_count": 8,
      "outputs": [
        {
          "output_type": "stream",
          "name": "stdout",
          "text": [
            "I0521 23:51:44.493814 12263 incremental_pipeline.cc:253] Loading database\n",
            "I0521 23:51:44.532851 12263 database_cache.cc:69] Loading rigs...\n",
            "I0521 23:51:44.532977 12263 database_cache.cc:79]  1 in 0.000s\n",
            "I0521 23:51:44.532994 12263 database_cache.cc:87] Loading cameras...\n",
            "I0521 23:51:44.533013 12263 database_cache.cc:105]  1 in 0.000s\n",
            "I0521 23:51:44.533022 12263 database_cache.cc:113] Loading frames...\n",
            "I0521 23:51:44.533165 12263 database_cache.cc:130]  20 in 0.000s\n",
            "I0521 23:51:44.533174 12263 database_cache.cc:138] Loading matches...\n",
            "I0521 23:51:44.537796 12263 database_cache.cc:143]  190 in 0.005s\n",
            "I0521 23:51:44.537820 12263 database_cache.cc:159] Loading images...\n",
            "I0521 23:51:44.560583 12263 database_cache.cc:241]  20 in 0.023s (connected 20)\n",
            "I0521 23:51:44.560612 12263 database_cache.cc:252] Building correspondence graph...\n",
            "I0521 23:51:44.581911 12263 database_cache.cc:279]  in 0.021s (ignored 0)\n",
            "I0521 23:51:44.581966 12263 timer.cc:91] Elapsed time: 0.001 [minutes]\n",
            "I0521 23:51:44.591881 12263 incremental_pipeline.cc:299] Finding good initial image pair\n",
            "I0521 23:51:44.625607 12263 incremental_pipeline.cc:323] Registering initial image pair #8 and #9\n",
            "I0521 23:51:44.630661 12263 incremental_pipeline.cc:337] Global bundle adjustment\n",
            "I0521 23:51:44.796483 12263 incremental_pipeline.cc:421] Registering image #12 (num_reg_frames=2)\n",
            "I0521 23:51:44.796502 12263 incremental_pipeline.cc:424] => Image sees 514 / 2676 points\n",
            "I0521 23:51:45.351718 12263 incremental_pipeline.cc:42] Retriangulation and Global bundle adjustment\n",
            "I0521 23:51:46.658655 12263 incremental_pipeline.cc:421] Registering image #2 (num_reg_frames=3)\n",
            "I0521 23:51:46.658681 12263 incremental_pipeline.cc:424] => Image sees 592 / 2233 points\n",
            "I0521 23:51:47.258953 12263 incremental_pipeline.cc:42] Retriangulation and Global bundle adjustment\n",
            "I0521 23:51:47.507539 12263 incremental_pipeline.cc:421] Registering image #10 (num_reg_frames=4)\n",
            "I0521 23:51:47.507570 12263 incremental_pipeline.cc:424] => Image sees 748 / 2591 points\n",
            "I0521 23:51:48.146665 12263 incremental_pipeline.cc:42] Retriangulation and Global bundle adjustment\n",
            "I0521 23:51:48.568682 12263 incremental_pipeline.cc:421] Registering image #1 (num_reg_frames=5)\n",
            "I0521 23:51:48.568718 12263 incremental_pipeline.cc:424] => Image sees 922 / 2126 points\n",
            "I0521 23:51:50.196637 12263 incremental_pipeline.cc:42] Retriangulation and Global bundle adjustment\n",
            "I0521 23:51:50.640301 12263 incremental_pipeline.cc:421] Registering image #11 (num_reg_frames=6)\n",
            "I0521 23:51:50.640331 12263 incremental_pipeline.cc:424] => Image sees 1062 / 2597 points\n",
            "I0521 23:51:50.825071 12263 incremental_pipeline.cc:42] Retriangulation and Global bundle adjustment\n",
            "I0521 23:51:51.364529 12263 incremental_pipeline.cc:421] Registering image #19 (num_reg_frames=7)\n",
            "I0521 23:51:51.364559 12263 incremental_pipeline.cc:424] => Image sees 999 / 2308 points\n",
            "I0521 23:51:51.594635 12263 incremental_pipeline.cc:42] Retriangulation and Global bundle adjustment\n",
            "I0521 23:51:52.373299 12263 incremental_pipeline.cc:421] Registering image #20 (num_reg_frames=8)\n",
            "I0521 23:51:52.373327 12263 incremental_pipeline.cc:424] => Image sees 1132 / 2127 points\n",
            "I0521 23:51:52.790863 12263 incremental_pipeline.cc:42] Retriangulation and Global bundle adjustment\n",
            "I0521 23:51:53.900301 12263 incremental_pipeline.cc:421] Registering image #3 (num_reg_frames=9)\n",
            "I0521 23:51:53.900332 12263 incremental_pipeline.cc:424] => Image sees 1042 / 2180 points\n",
            "I0521 23:51:54.160984 12263 incremental_pipeline.cc:42] Retriangulation and Global bundle adjustment\n",
            "I0521 23:51:54.908454 12263 incremental_pipeline.cc:421] Registering image #13 (num_reg_frames=10)\n",
            "I0521 23:51:54.908485 12263 incremental_pipeline.cc:424] => Image sees 1148 / 2775 points\n",
            "I0521 23:51:55.316445 12263 incremental_pipeline.cc:42] Retriangulation and Global bundle adjustment\n",
            "I0521 23:51:56.048928 12263 incremental_pipeline.cc:421] Registering image #18 (num_reg_frames=11)\n",
            "I0521 23:51:56.048969 12263 incremental_pipeline.cc:424] => Image sees 1246 / 2410 points\n",
            "I0521 23:51:56.337754 12263 incremental_pipeline.cc:421] Registering image #7 (num_reg_frames=12)\n",
            "I0521 23:51:56.337786 12263 incremental_pipeline.cc:424] => Image sees 1132 / 2627 points\n",
            "I0521 23:51:56.686470 12263 incremental_pipeline.cc:42] Retriangulation and Global bundle adjustment\n",
            "I0521 23:51:57.351747 12263 incremental_pipeline.cc:421] Registering image #14 (num_reg_frames=13)\n",
            "I0521 23:51:57.351781 12263 incremental_pipeline.cc:424] => Image sees 1180 / 2825 points\n",
            "I0521 23:51:57.755486 12263 incremental_pipeline.cc:421] Registering image #17 (num_reg_frames=14)\n",
            "I0521 23:51:57.755522 12263 incremental_pipeline.cc:424] => Image sees 1323 / 2415 points\n",
            "I0521 23:51:58.422825 12263 incremental_pipeline.cc:42] Retriangulation and Global bundle adjustment\n",
            "I0521 23:52:00.534643 12263 incremental_pipeline.cc:421] Registering image #4 (num_reg_frames=15)\n",
            "I0521 23:52:00.534683 12263 incremental_pipeline.cc:424] => Image sees 1204 / 2237 points\n",
            "I0521 23:52:01.090684 12263 incremental_pipeline.cc:421] Registering image #6 (num_reg_frames=16)\n",
            "I0521 23:52:01.090739 12263 incremental_pipeline.cc:424] => Image sees 1244 / 2607 points\n",
            "I0521 23:52:01.726035 12263 incremental_pipeline.cc:42] Retriangulation and Global bundle adjustment\n",
            "W0521 23:52:01.776624 12263 preprocessor.cc:62] Specified options.num_threads: 16 exceeds maximum available from the threading model Ceres was compiled with: 2.  Bounding to maximum number available.\n",
            "I0521 23:52:03.778689 12263 incremental_pipeline.cc:421] Registering image #5 (num_reg_frames=17)\n",
            "I0521 23:52:03.778729 12263 incremental_pipeline.cc:424] => Image sees 1274 / 2251 points\n",
            "I0521 23:52:04.233827 12263 incremental_pipeline.cc:421] Registering image #15 (num_reg_frames=18)\n",
            "I0521 23:52:04.233858 12263 incremental_pipeline.cc:424] => Image sees 1400 / 2610 points\n",
            "I0521 23:52:04.577615 12263 incremental_pipeline.cc:42] Retriangulation and Global bundle adjustment\n",
            "W0521 23:52:04.616782 12263 preprocessor.cc:62] Specified options.num_threads: 16 exceeds maximum available from the threading model Ceres was compiled with: 2.  Bounding to maximum number available.\n",
            "I0521 23:52:05.694084 12263 incremental_pipeline.cc:421] Registering image #16 (num_reg_frames=19)\n",
            "I0521 23:52:05.694119 12263 incremental_pipeline.cc:424] => Image sees 1483 / 2345 points\n",
            "I0521 23:52:06.114347 12263 incremental_pipeline.cc:42] Retriangulation and Global bundle adjustment\n",
            "W0521 23:52:06.159377 12263 preprocessor.cc:62] Specified options.num_threads: 16 exceeds maximum available from the threading model Ceres was compiled with: 2.  Bounding to maximum number available.\n",
            "I0521 23:52:07.335455 12263 incremental_pipeline.cc:575] Keeping successful reconstruction\n",
            "I0521 23:52:13.884968 12263 timer.cc:91] Elapsed time: 0.490 [minutes]\n"
          ]
        }
      ]
    },
    {
      "cell_type": "markdown",
      "source": [
        "### Process and Save COLMAP Results\n",
        "\n",
        "The following cell uses utility functions, adapted from the [LLFF (Local Light Field Fusion) project](https://github.com/Fyusion/LLFF/blob/master/llff/poses/pose_utils.py), to process the output generated by COLMAP in the previous step.\n",
        "\n",
        "Specifically, it will:\n",
        "1.  Read the camera parameters (`cameras.bin`), image information (`images.bin`), and 3D points (`points3D.bin`) from the `sparse/0/` directory.\n",
        "2.  Convert this data into a format suitable for NeRF training, including camera-to-world transformation matrices and depth bounds.\n",
        "3.  Save these processed poses and bounds into a file named `poses_bounds.npy` directly within your subject's `basedir`. This `.npy` file is a critical input for the NeRF model."
      ],
      "metadata": {
        "id": "y8JFFTKavwvv"
      }
    },
    {
      "cell_type": "code",
      "source": [
        "import sys\n",
        "sys.path.append('/content/drive/My Drive/NeRF-Training-in-Google-Colab/LLFF')\n",
        "from llff.poses.pose_utils import load_colmap_data, save_poses"
      ],
      "metadata": {
        "id": "COmbKTK4v-bC"
      },
      "execution_count": 9,
      "outputs": []
    },
    {
      "cell_type": "code",
      "source": [
        "poses, pts3d, perm = load_colmap_data(basedir)\n",
        "save_poses(basedir, poses, pts3d, perm)"
      ],
      "metadata": {
        "id": "2dO1f7TtwBJM",
        "colab": {
          "base_uri": "https://localhost:8080/"
        },
        "outputId": "cfe430bb-142b-4bbc-9cd9-64b3fe8fa685"
      },
      "execution_count": 10,
      "outputs": [
        {
          "output_type": "stream",
          "name": "stdout",
          "text": [
            "Cameras 5\n",
            "Images # 20\n",
            "Points (6243, 3) Visibility (6243, 20)\n",
            "Depth stats 7.840506978106666 88.55682961307406 29.856545739277003\n"
          ]
        }
      ]
    },
    {
      "cell_type": "markdown",
      "source": [
        "---"
      ],
      "metadata": {
        "id": "43bd0Wn9ut-T"
      }
    },
    {
      "cell_type": "markdown",
      "source": [
        "# 3. Train\n"
      ],
      "metadata": {
        "id": "pS6NReZawwAc"
      }
    },
    {
      "cell_type": "markdown",
      "source": [
        "### Import NeRF Training and Rendering Core Logic\n",
        "\n",
        "The following cell imports the primary `train` function and associated utilities necessary for training the NeRF model and rendering novel views. This code is a modified version of the original PyTorch NeRF implementation found [here](https://github.com/yenchenlin/nerf-pytorch/blob/master/run_nerf.py). Modifications have been made to adapt it for use within this Google Colab notebook environment, such as handling arguments and device initialization."
      ],
      "metadata": {
        "id": "Uz5-ZdhHw44p"
      }
    },
    {
      "cell_type": "code",
      "source": [
        "import sys\n",
        "import argparse\n",
        "sys.path.append('/content/drive/My Drive/NeRF-Training-in-Google-Colab/nerf_pytorch')\n",
        "from run_nerf import train, generate_render"
      ],
      "metadata": {
        "id": "5BpncRLfenH-"
      },
      "execution_count": 11,
      "outputs": []
    },
    {
      "cell_type": "markdown",
      "source": [
        "### Training Arguments Description\n",
        "\n",
        "- **basedir**: The directory where checkpoints and logs will be stored.\n",
        "- **datadir**: The input data directory containing the dataset to be trained on.\n",
        "- **config**: The path to the configuration file containing training parameters and settings.\n",
        "\n",
        "- **no_reload**: If `True`, prevents reloading weights from a saved checkpoint. Initial value was `False`.\n",
        "- **ft_path**: Path to a specific weights tar file to reload for the coarse network.\n",
        "\n",
        "- **dataset_type**: Type of dataset to be used. Options include `llff`, `blender`, and `deepvoxels`. Initial value was `llff`.\n",
        "- **expname**: A name for the experiment.\n",
        "\n",
        "- **N_iters**: Number of iterations (training steps). Initial value was `200000`.\n",
        "- **i_img**: Frequency for tensorboard image logging. Set to an arbitrarily high number to disable. Initial value was `500`.\n",
        "- **i_print**: Frequency of console printouts and metric logging. Initial value was `100`.\n",
        "- **i_weights**: Frequency of saving weight checkpoints. Initial value was `10000`.\n",
        "\n",
        "- **half_res**: If `True`, loads Blender synthetic data at 400x400 resolution instead of 800x800. Initial value was `False`.\n"
      ],
      "metadata": {
        "id": "2kfylL7Ber1D"
      }
    },
    {
      "cell_type": "code",
      "source": [
        "train_args = argparse.Namespace(\n",
        "        basedir='/content/drive/My Drive/NeRF-Training-in-Google-Colab/nerf_pytorch/logs',\n",
        "        datadir='/content/drive/My Drive/NeRF-Training-in-Google-Colab/nerf_pytorch/data/fern',\n",
        "        config='/content/drive/My Drive/NeRF-Training-in-Google-Colab/nerf_pytorch/configs/fern.txt', #fern config can be used for most real-life scenes\n",
        "\n",
        "        no_reload=True,\n",
        "        ft_path= '',\n",
        "\n",
        "        dataset_type='llff',\n",
        "        expname='Fern-First-Test',\n",
        "\n",
        "        N_iters=3001,\n",
        "        i_img=999999999,\n",
        "        i_print=100,\n",
        "        i_weights= 1000,\n",
        "\n",
        "        half_res=False,\n",
        "    )"
      ],
      "metadata": {
        "id": "pm3V9YjkedHU"
      },
      "execution_count": 12,
      "outputs": []
    },
    {
      "cell_type": "markdown",
      "source": [
        "### Train Model"
      ],
      "metadata": {
        "id": "RWksjhzgxM67"
      }
    },
    {
      "cell_type": "code",
      "source": [
        "train(train_args)"
      ],
      "metadata": {
        "id": "75JCrE1AeznP",
        "colab": {
          "base_uri": "https://localhost:8080/"
        },
        "outputId": "d0868ad0-0f9b-48ea-b488-62d2c3dfc4d6"
      },
      "execution_count": 13,
      "outputs": [
        {
          "output_type": "stream",
          "name": "stderr",
          "text": [
            "/usr/local/lib/python3.11/dist-packages/torch/__init__.py:1236: UserWarning: torch.set_default_tensor_type() is deprecated as of PyTorch 2.1, please use torch.set_default_dtype() and torch.set_default_device() as alternatives. (Triggered internally at /pytorch/torch/csrc/tensor/python_tensor.cpp:434.)\n",
            "  _C._set_default_tensor_type(t)\n"
          ]
        },
        {
          "output_type": "stream",
          "name": "stdout",
          "text": [
            "Loaded image data (756, 1008, 3, 20) [ 756.         1008.          825.86310696]\n",
            "Loaded /content/drive/My Drive/NeRF-Training-in-Google-Colab/nerf_pytorch/data/fern 15.54141522130248 77.18885228064539\n",
            "recentered (3, 5)\n",
            "[[ 1.0000000e+00 -1.8826084e-10  4.4952766e-09  1.4901161e-09]\n",
            " [ 1.8826082e-10  1.0000000e+00  2.0603350e-09 -4.4703485e-09]\n",
            " [-4.4952766e-09 -2.0603350e-09  1.0000000e+00  1.8626451e-09]]\n",
            "Data:\n",
            "(20, 3, 5) (20, 756, 1008, 3) (20, 2)\n",
            "HOLDOUT view is 12\n",
            "Loaded llff (20, 756, 1008, 3) (60, 3, 5) [ 756.     1008.      825.8631] /content/drive/My Drive/NeRF-Training-in-Google-Colab/nerf_pytorch/data/fern\n",
            "Auto LLFF holdout, 8\n",
            "DEFINING BOUNDS\n",
            "NEAR FAR 0.0 1.0\n",
            "Found ckpts ['']\n",
            "Begin\n",
            "TRAIN views are [ 1  2  3  4  5  6  7  9 10 11 12 13 14 15 17 18 19]\n",
            "TEST views are [ 0  8 16]\n",
            "VAL views are [ 0  8 16]\n"
          ]
        },
        {
          "output_type": "stream",
          "name": "stderr",
          "text": [
            "\r  0%|          | 0/3001 [00:00<?, ?it/s]"
          ]
        },
        {
          "output_type": "stream",
          "name": "stdout",
          "text": [
            "[Config] Center cropping of size 378 x 504 is enabled until iter 500\n"
          ]
        },
        {
          "output_type": "stream",
          "name": "stderr",
          "text": [
            "/usr/local/lib/python3.11/dist-packages/torch/functional.py:539: UserWarning: torch.meshgrid: in an upcoming release, it will be required to pass the indexing argument. (Triggered internally at /pytorch/aten/src/ATen/native/TensorShape.cpp:3637.)\n",
            "  return _VF.meshgrid(tensors, **kwargs)  # type: ignore[attr-defined]\n",
            "  3%|▎         | 100/3001 [00:34<16:47,  2.88it/s]"
          ]
        },
        {
          "output_type": "stream",
          "name": "stdout",
          "text": [
            "[TRAIN] Iter: 100 Loss: 0.04868737608194351  PSNR: 16.120704650878906\n"
          ]
        },
        {
          "output_type": "stream",
          "name": "stderr",
          "text": [
            "  7%|▋         | 200/3001 [01:09<16:27,  2.84it/s]"
          ]
        },
        {
          "output_type": "stream",
          "name": "stdout",
          "text": [
            "[TRAIN] Iter: 200 Loss: 0.046406395733356476  PSNR: 16.31963348388672\n"
          ]
        },
        {
          "output_type": "stream",
          "name": "stderr",
          "text": [
            " 10%|▉         | 300/3001 [01:45<16:15,  2.77it/s]"
          ]
        },
        {
          "output_type": "stream",
          "name": "stdout",
          "text": [
            "[TRAIN] Iter: 300 Loss: 0.04010912403464317  PSNR: 16.853376388549805\n"
          ]
        },
        {
          "output_type": "stream",
          "name": "stderr",
          "text": [
            " 13%|█▎        | 400/3001 [02:20<15:20,  2.83it/s]"
          ]
        },
        {
          "output_type": "stream",
          "name": "stdout",
          "text": [
            "[TRAIN] Iter: 400 Loss: 0.03460674732923508  PSNR: 17.680391311645508\n"
          ]
        },
        {
          "output_type": "stream",
          "name": "stderr",
          "text": [
            " 17%|█▋        | 500/3001 [02:56<15:28,  2.69it/s]"
          ]
        },
        {
          "output_type": "stream",
          "name": "stdout",
          "text": [
            "[TRAIN] Iter: 500 Loss: 0.12218891829252243  PSNR: 12.15810775756836\n"
          ]
        },
        {
          "output_type": "stream",
          "name": "stderr",
          "text": [
            " 20%|█▉        | 600/3001 [03:33<14:41,  2.72it/s]"
          ]
        },
        {
          "output_type": "stream",
          "name": "stdout",
          "text": [
            "[TRAIN] Iter: 600 Loss: 0.04172210395336151  PSNR: 16.990049362182617\n"
          ]
        },
        {
          "output_type": "stream",
          "name": "stderr",
          "text": [
            " 23%|██▎       | 700/3001 [04:10<14:01,  2.73it/s]"
          ]
        },
        {
          "output_type": "stream",
          "name": "stdout",
          "text": [
            "[TRAIN] Iter: 700 Loss: 0.04203501343727112  PSNR: 17.086380004882812\n"
          ]
        },
        {
          "output_type": "stream",
          "name": "stderr",
          "text": [
            " 27%|██▋       | 800/3001 [04:47<13:32,  2.71it/s]"
          ]
        },
        {
          "output_type": "stream",
          "name": "stdout",
          "text": [
            "[TRAIN] Iter: 800 Loss: 0.03487563133239746  PSNR: 17.8559627532959\n"
          ]
        },
        {
          "output_type": "stream",
          "name": "stderr",
          "text": [
            " 30%|██▉       | 900/3001 [05:24<12:55,  2.71it/s]"
          ]
        },
        {
          "output_type": "stream",
          "name": "stdout",
          "text": [
            "[TRAIN] Iter: 900 Loss: 0.03154344856739044  PSNR: 18.107213973999023\n"
          ]
        },
        {
          "output_type": "stream",
          "name": "stderr",
          "text": [
            " 33%|███▎      | 1000/3001 [06:01<13:02,  2.56it/s]"
          ]
        },
        {
          "output_type": "stream",
          "name": "stdout",
          "text": [
            "Saved checkpoints at /content/drive/My Drive/NeRF-Training-in-Google-Colab/nerf_pytorch/logs/Fern-First-Test/001000.tar\n",
            "[TRAIN] Iter: 1000 Loss: 0.022320277988910675  PSNR: 19.58539581298828\n"
          ]
        },
        {
          "output_type": "stream",
          "name": "stderr",
          "text": [
            " 37%|███▋      | 1100/3001 [06:38<12:03,  2.63it/s]"
          ]
        },
        {
          "output_type": "stream",
          "name": "stdout",
          "text": [
            "[TRAIN] Iter: 1100 Loss: 0.02967403642833233  PSNR: 18.27468490600586\n"
          ]
        },
        {
          "output_type": "stream",
          "name": "stderr",
          "text": [
            " 40%|███▉      | 1200/3001 [07:15<11:16,  2.66it/s]"
          ]
        },
        {
          "output_type": "stream",
          "name": "stdout",
          "text": [
            "[TRAIN] Iter: 1200 Loss: 0.024592658504843712  PSNR: 18.959413528442383\n"
          ]
        },
        {
          "output_type": "stream",
          "name": "stderr",
          "text": [
            " 43%|████▎     | 1300/3001 [07:52<10:26,  2.71it/s]"
          ]
        },
        {
          "output_type": "stream",
          "name": "stdout",
          "text": [
            "[TRAIN] Iter: 1300 Loss: 0.027348769828677177  PSNR: 18.660493850708008\n"
          ]
        },
        {
          "output_type": "stream",
          "name": "stderr",
          "text": [
            " 47%|████▋     | 1400/3001 [08:28<09:44,  2.74it/s]"
          ]
        },
        {
          "output_type": "stream",
          "name": "stdout",
          "text": [
            "[TRAIN] Iter: 1400 Loss: 0.024415602907538414  PSNR: 19.150434494018555\n"
          ]
        },
        {
          "output_type": "stream",
          "name": "stderr",
          "text": [
            " 50%|████▉     | 1500/3001 [09:05<09:09,  2.73it/s]"
          ]
        },
        {
          "output_type": "stream",
          "name": "stdout",
          "text": [
            "[TRAIN] Iter: 1500 Loss: 0.018233925104141235  PSNR: 20.307415008544922\n"
          ]
        },
        {
          "output_type": "stream",
          "name": "stderr",
          "text": [
            " 53%|█████▎    | 1600/3001 [09:42<08:38,  2.70it/s]"
          ]
        },
        {
          "output_type": "stream",
          "name": "stdout",
          "text": [
            "[TRAIN] Iter: 1600 Loss: 0.02221139892935753  PSNR: 19.427942276000977\n"
          ]
        },
        {
          "output_type": "stream",
          "name": "stderr",
          "text": [
            " 57%|█████▋    | 1700/3001 [10:19<08:15,  2.63it/s]"
          ]
        },
        {
          "output_type": "stream",
          "name": "stdout",
          "text": [
            "[TRAIN] Iter: 1700 Loss: 0.019616570323705673  PSNR: 20.136716842651367\n"
          ]
        },
        {
          "output_type": "stream",
          "name": "stderr",
          "text": [
            " 60%|█████▉    | 1800/3001 [10:56<07:27,  2.69it/s]"
          ]
        },
        {
          "output_type": "stream",
          "name": "stdout",
          "text": [
            "[TRAIN] Iter: 1800 Loss: 0.019967619329690933  PSNR: 19.933990478515625\n"
          ]
        },
        {
          "output_type": "stream",
          "name": "stderr",
          "text": [
            " 63%|██████▎   | 1900/3001 [11:32<06:40,  2.75it/s]"
          ]
        },
        {
          "output_type": "stream",
          "name": "stdout",
          "text": [
            "[TRAIN] Iter: 1900 Loss: 0.02735406905412674  PSNR: 18.710960388183594\n"
          ]
        },
        {
          "output_type": "stream",
          "name": "stderr",
          "text": [
            " 67%|██████▋   | 2000/3001 [12:09<06:26,  2.59it/s]"
          ]
        },
        {
          "output_type": "stream",
          "name": "stdout",
          "text": [
            "Saved checkpoints at /content/drive/My Drive/NeRF-Training-in-Google-Colab/nerf_pytorch/logs/Fern-First-Test/002000.tar\n",
            "[TRAIN] Iter: 2000 Loss: 0.01606292836368084  PSNR: 21.01881217956543\n"
          ]
        },
        {
          "output_type": "stream",
          "name": "stderr",
          "text": [
            " 70%|██████▉   | 2100/3001 [12:46<05:29,  2.73it/s]"
          ]
        },
        {
          "output_type": "stream",
          "name": "stdout",
          "text": [
            "[TRAIN] Iter: 2100 Loss: 0.01950119435787201  PSNR: 20.041370391845703\n"
          ]
        },
        {
          "output_type": "stream",
          "name": "stderr",
          "text": [
            " 73%|███████▎  | 2200/3001 [13:23<04:53,  2.73it/s]"
          ]
        },
        {
          "output_type": "stream",
          "name": "stdout",
          "text": [
            "[TRAIN] Iter: 2200 Loss: 0.01931166648864746  PSNR: 20.223417282104492\n"
          ]
        },
        {
          "output_type": "stream",
          "name": "stderr",
          "text": [
            " 77%|███████▋  | 2300/3001 [13:59<04:27,  2.62it/s]"
          ]
        },
        {
          "output_type": "stream",
          "name": "stdout",
          "text": [
            "[TRAIN] Iter: 2300 Loss: 0.018348176032304764  PSNR: 20.352941513061523\n"
          ]
        },
        {
          "output_type": "stream",
          "name": "stderr",
          "text": [
            " 80%|███████▉  | 2400/3001 [14:36<03:44,  2.68it/s]"
          ]
        },
        {
          "output_type": "stream",
          "name": "stdout",
          "text": [
            "[TRAIN] Iter: 2400 Loss: 0.018242910504341125  PSNR: 20.27530860900879\n"
          ]
        },
        {
          "output_type": "stream",
          "name": "stderr",
          "text": [
            " 83%|████████▎ | 2500/3001 [15:13<03:02,  2.74it/s]"
          ]
        },
        {
          "output_type": "stream",
          "name": "stdout",
          "text": [
            "[TRAIN] Iter: 2500 Loss: 0.019088847562670708  PSNR: 20.120338439941406\n"
          ]
        },
        {
          "output_type": "stream",
          "name": "stderr",
          "text": [
            " 87%|████████▋ | 2600/3001 [15:50<02:25,  2.75it/s]"
          ]
        },
        {
          "output_type": "stream",
          "name": "stdout",
          "text": [
            "[TRAIN] Iter: 2600 Loss: 0.017348870635032654  PSNR: 20.425270080566406\n"
          ]
        },
        {
          "output_type": "stream",
          "name": "stderr",
          "text": [
            " 90%|████████▉ | 2700/3001 [16:27<01:49,  2.74it/s]"
          ]
        },
        {
          "output_type": "stream",
          "name": "stdout",
          "text": [
            "[TRAIN] Iter: 2700 Loss: 0.015729494392871857  PSNR: 20.87261962890625\n"
          ]
        },
        {
          "output_type": "stream",
          "name": "stderr",
          "text": [
            " 93%|█████████▎| 2800/3001 [17:03<01:13,  2.73it/s]"
          ]
        },
        {
          "output_type": "stream",
          "name": "stdout",
          "text": [
            "[TRAIN] Iter: 2800 Loss: 0.020476892590522766  PSNR: 19.8743953704834\n"
          ]
        },
        {
          "output_type": "stream",
          "name": "stderr",
          "text": [
            " 97%|█████████▋| 2900/3001 [17:40<00:38,  2.64it/s]"
          ]
        },
        {
          "output_type": "stream",
          "name": "stdout",
          "text": [
            "[TRAIN] Iter: 2900 Loss: 0.023289665579795837  PSNR: 19.266942977905273\n"
          ]
        },
        {
          "output_type": "stream",
          "name": "stderr",
          "text": [
            "100%|█████████▉| 3000/3001 [18:17<00:00,  2.51it/s]"
          ]
        },
        {
          "output_type": "stream",
          "name": "stdout",
          "text": [
            "Saved checkpoints at /content/drive/My Drive/NeRF-Training-in-Google-Colab/nerf_pytorch/logs/Fern-First-Test/003000.tar\n",
            "[TRAIN] Iter: 3000 Loss: 0.01626673713326454  PSNR: 21.01634407043457\n"
          ]
        },
        {
          "output_type": "stream",
          "name": "stderr",
          "text": [
            "100%|██████████| 3001/3001 [18:17<00:00,  2.73it/s]\n"
          ]
        }
      ]
    },
    {
      "cell_type": "markdown",
      "source": [
        "# 4. Render Images / Video\n",
        "\n"
      ],
      "metadata": {
        "id": "sUC_XnmtxSu0"
      }
    },
    {
      "cell_type": "markdown",
      "source": [
        "### Rendering Arguments Description\n",
        "\n",
        "- **basedir**: The directory where checkpoints and logs will be stored.\n",
        "- **datadir**: The input data directory containing the dataset to be rendered.\n",
        "- **config**: The path to the configuration file containing rendering parameters and settings.\n",
        "- **ft_path**: Path to a specific weights tar file to reload for the coarse network.\n",
        "\n",
        "- **dataset_type**: Type of dataset to be used. Options include `llff`, `blender`, and `deepvoxels`. Initial value was `llff`.\n",
        "- **expname**: A name for the experiment.\n",
        "\n",
        "- **half_res**: If `True`, loads Blender synthetic data at 400x400 resolution instead of 800x800. Initial value was `False`.\n",
        "- **num_frames**: Number of frames to generate. Initial value was `40`.\n",
        "\n",
        "\n"
      ],
      "metadata": {
        "id": "WZ0ta1nMQZuR"
      }
    },
    {
      "cell_type": "code",
      "source": [
        "render_args = argparse.Namespace(\n",
        "        basedir='/content/drive/My Drive/NeRF-Training-in-Google-Colab/nerf_pytorch/logs',\n",
        "        datadir='/content/drive/My Drive/NeRF-Training-in-Google-Colab/nerf_pytorch/data/fern',\n",
        "        config='/content/drive/My Drive/NeRF-Training-in-Google-Colab/nerf_pytorch/configs/fern.txt',\n",
        "        ft_path= '/content/drive/My Drive/NeRF-Training-in-Google-Colab/nerf_pytorch/logs/Fern-First-Test/003000.tar',\n",
        "\n",
        "        dataset_type='llff',\n",
        "        expname='Fern-First-Test',\n",
        "\n",
        "        half_res=False,\n",
        "        num_frames = 10,\n",
        "    )"
      ],
      "metadata": {
        "id": "hmfDKhCO2spk"
      },
      "execution_count": 19,
      "outputs": []
    },
    {
      "cell_type": "markdown",
      "source": [
        "### Generate Render"
      ],
      "metadata": {
        "id": "kzrY5N7nxWKC"
      }
    },
    {
      "cell_type": "code",
      "source": [
        "generate_render(render_args)"
      ],
      "metadata": {
        "id": "1O8tjROb5ITm",
        "colab": {
          "base_uri": "https://localhost:8080/"
        },
        "outputId": "100081d7-fcf5-462c-96c8-a6996fd699e6"
      },
      "execution_count": 20,
      "outputs": [
        {
          "output_type": "stream",
          "name": "stdout",
          "text": [
            "Loaded image data (756, 1008, 3, 20) [ 756.         1008.          103.23288837]\n",
            "Loaded /content/drive/My Drive/NeRF-Training-in-Google-Colab/nerf_pytorch/data/fern 15.54141522130248 77.18885228064539\n",
            "recentered (3, 5)\n",
            "[[ 1.0000000e+00 -1.8826084e-10  4.4952766e-09  1.4901161e-09]\n",
            " [ 1.8826082e-10  1.0000000e+00  2.0603350e-09 -4.4703485e-09]\n",
            " [-4.4952766e-09 -2.0603350e-09  1.0000000e+00  1.8626451e-09]]\n",
            "Data:\n",
            "(20, 3, 5) (20, 756, 1008, 3) (20, 2)\n",
            "HOLDOUT view is 12\n",
            "Loaded llff (20, 756, 1008, 3) (10, 3, 5) [ 756.      1008.       103.23289] /content/drive/My Drive/NeRF-Training-in-Google-Colab/nerf_pytorch/data/fern\n",
            "Auto LLFF holdout, 8\n",
            "DEFINING BOUNDS\n",
            "NEAR FAR 0.0 1.0\n",
            "Found ckpts ['/content/drive/My Drive/NeRF-Training-in-Google-Colab/nerf_pytorch/logs/Fern-First-Test/003000.tar']\n",
            "Reloading from /content/drive/My Drive/NeRF-Training-in-Google-Colab/nerf_pytorch/logs/Fern-First-Test/003000.tar\n",
            "RENDER ONLY\n",
            "test poses shape torch.Size([10, 3, 5])\n"
          ]
        },
        {
          "output_type": "stream",
          "name": "stderr",
          "text": [
            "\r  0%|          | 0/10 [00:00<?, ?it/s]"
          ]
        },
        {
          "output_type": "stream",
          "name": "stdout",
          "text": [
            "0 0.0019609928131103516\n",
            "torch.Size([756, 1008, 3]) torch.Size([756, 1008])\n"
          ]
        },
        {
          "output_type": "stream",
          "name": "stderr",
          "text": [
            "\r 10%|█         | 1/10 [01:52<16:54, 112.75s/it]"
          ]
        },
        {
          "output_type": "stream",
          "name": "stdout",
          "text": [
            "1 112.75377678871155\n"
          ]
        },
        {
          "output_type": "stream",
          "name": "stderr",
          "text": [
            "\r 20%|██        | 2/10 [03:45<15:01, 112.69s/it]"
          ]
        },
        {
          "output_type": "stream",
          "name": "stdout",
          "text": [
            "2 112.64474368095398\n"
          ]
        },
        {
          "output_type": "stream",
          "name": "stderr",
          "text": [
            "\r 30%|███       | 3/10 [05:37<13:08, 112.62s/it]"
          ]
        },
        {
          "output_type": "stream",
          "name": "stdout",
          "text": [
            "3 112.53206467628479\n"
          ]
        },
        {
          "output_type": "stream",
          "name": "stderr",
          "text": [
            "\r 40%|████      | 4/10 [07:30<11:15, 112.65s/it]"
          ]
        },
        {
          "output_type": "stream",
          "name": "stdout",
          "text": [
            "4 112.6892831325531\n"
          ]
        },
        {
          "output_type": "stream",
          "name": "stderr",
          "text": [
            "\r 50%|█████     | 5/10 [09:22<09:22, 112.54s/it]"
          ]
        },
        {
          "output_type": "stream",
          "name": "stdout",
          "text": [
            "5 112.34053826332092\n"
          ]
        },
        {
          "output_type": "stream",
          "name": "stderr",
          "text": [
            "\r 60%|██████    | 6/10 [11:15<07:30, 112.53s/it]"
          ]
        },
        {
          "output_type": "stream",
          "name": "stdout",
          "text": [
            "6 112.51735496520996\n"
          ]
        },
        {
          "output_type": "stream",
          "name": "stderr",
          "text": [
            "\r 70%|███████   | 7/10 [13:08<05:37, 112.54s/it]"
          ]
        },
        {
          "output_type": "stream",
          "name": "stdout",
          "text": [
            "7 112.55760335922241\n"
          ]
        },
        {
          "output_type": "stream",
          "name": "stderr",
          "text": [
            "\r 80%|████████  | 8/10 [15:00<03:44, 112.49s/it]"
          ]
        },
        {
          "output_type": "stream",
          "name": "stdout",
          "text": [
            "8 112.38812899589539\n"
          ]
        },
        {
          "output_type": "stream",
          "name": "stderr",
          "text": [
            "\r 90%|█████████ | 9/10 [16:52<01:52, 112.47s/it]"
          ]
        },
        {
          "output_type": "stream",
          "name": "stdout",
          "text": [
            "9 112.4190182685852\n"
          ]
        },
        {
          "output_type": "stream",
          "name": "stderr",
          "text": [
            "100%|██████████| 10/10 [18:45<00:00, 112.52s/it]\n"
          ]
        },
        {
          "output_type": "stream",
          "name": "stdout",
          "text": [
            "Done rendering /content/drive/My Drive/NeRF-Training-in-Google-Colab/nerf_pytorch/logs/Fern-First-Test/renderonly_path_002999\n"
          ]
        },
        {
          "output_type": "stream",
          "name": "stderr",
          "text": [
            "WARNING:imageio_ffmpeg:IMAGEIO FFMPEG_WRITER WARNING: input image is not divisible by macro_block_size=16, resizing from (1008, 756) to (1008, 768) to ensure video compatibility with most codecs and players. To prevent resizing, make your input image divisible by the macro_block_size or set the macro_block_size to 1 (risking incompatibility).\n"
          ]
        }
      ]
    }
  ]
}